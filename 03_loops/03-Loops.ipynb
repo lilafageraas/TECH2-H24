{
 "cells": [
  {
   "cell_type": "markdown",
   "metadata": {},
   "source": [
    "# 03 - Loops\n",
    "\n",
    "There are three fundamental types of control structure in programming:\n",
    "\n",
    "- Sequential - executes code line-by-line (default mode)\n",
    "- Selection - executes a piece of code based on a condition\n",
    "- Iterative - repeats a piece of code multiple times (loops)"
   ]
  },
  {
   "cell_type": "markdown",
   "metadata": {},
   "source": [
    "<img src=\"images/control_structure.png\" width = \"70%\" align=\"left\"/>"
   ]
  },
  {
   "cell_type": "markdown",
   "metadata": {},
   "source": [
    "So far we have executed our code either line-by-line (sequential control) or based on a decision (selection control). However, sometimes we instead want to repeat a block of code a specific number of times or until a condition is met.\n",
    "\n",
    "This notebook gives an introduction to implement iterative control structure in Python with the use of **for loops** and **while loops**."
   ]
  },
  {
   "cell_type": "code",
   "execution_count": null,
   "metadata": {},
   "outputs": [],
   "source": []
  },
  {
   "cell_type": "markdown",
   "metadata": {},
   "source": [
    "## `for` loop\n",
    "\n",
    "We can use `for` loops to repeat a block of code a certain number of time."
   ]
  },
  {
   "cell_type": "markdown",
   "metadata": {},
   "source": [
    "A `for` loop iterates over a sequence of values, e.g., string, list, or dictionary.\n",
    "\n",
    "It consists of a header starting with the `for` keyword, followed by the *loop variable*, a sequence of values, and then an indentend block of code. \n",
    "\n",
    "```\n",
    "for item in sequence:\n",
    "    <code block>\n",
    "```\n",
    "For each element in the sequence, the block of code inside is executed once. The loop variable is the current item in the sequence in a given iteration, and the number of iterations is determined by the length of the sequence. "
   ]
  },
  {
   "cell_type": "markdown",
   "metadata": {},
   "source": [
    "We can loop over all types of sequences, for example a string. We can name the loop variable any legal Python name. Note that we often name the loop variable `i`."
   ]
  },
  {
   "cell_type": "code",
   "execution_count": 1,
   "metadata": {},
   "outputs": [
    {
     "name": "stdout",
     "output_type": "stream",
     "text": [
      "P\n",
      "y\n",
      "t\n",
      "h\n",
      "o\n",
      "n\n"
     ]
    }
   ],
   "source": [
    "for i in 'Python':\n",
    "    print(i)"
   ]
  },
  {
   "cell_type": "markdown",
   "metadata": {},
   "source": [
    "We can also loop over the items in a list. "
   ]
  },
  {
   "cell_type": "code",
   "execution_count": 2,
   "metadata": {},
   "outputs": [],
   "source": [
    "name_lst = ['Ole', 'Jenny', 'Chang', 'Jonas']"
   ]
  },
  {
   "cell_type": "markdown",
   "metadata": {},
   "source": [
    "Note that it can be wise to give the loop variable an explanatory name instead of simply `i`."
   ]
  },
  {
   "cell_type": "code",
   "execution_count": 3,
   "metadata": {},
   "outputs": [
    {
     "name": "stdout",
     "output_type": "stream",
     "text": [
      "Ole\n",
      "Jenny\n",
      "Chang\n",
      "Jonas\n"
     ]
    }
   ],
   "source": [
    "for name in name_lst:\n",
    "    print(name)"
   ]
  },
  {
   "cell_type": "markdown",
   "metadata": {},
   "source": [
    "We can loop over the items in a sequence and do operations on the items, e.g. convert letters to uppercase."
   ]
  },
  {
   "cell_type": "code",
   "execution_count": 4,
   "metadata": {},
   "outputs": [
    {
     "name": "stdout",
     "output_type": "stream",
     "text": [
      "OLE\n",
      "JENNY\n",
      "CHANG\n",
      "JONAS\n"
     ]
    }
   ],
   "source": [
    "for name in name_lst:\n",
    "    print(name.upper())"
   ]
  },
  {
   "cell_type": "markdown",
   "metadata": {},
   "source": [
    "<div class=\"alert alert-info\">\n",
    "<h3> Your turn</h3>\n",
    "    <p> The following list contains all of the names of the days in the week: <code>days = ['Monday', 'Tuesday', 'Wednesday', 'Thursday', 'Friday', 'Saturday', 'Sunday']</code>. Loop over the list and print each name but without \"day\" at the end.\n",
    "        \n",
    "</div>"
   ]
  },
  {
   "cell_type": "code",
   "execution_count": 18,
   "metadata": {},
   "outputs": [
    {
     "name": "stdout",
     "output_type": "stream",
     "text": [
      "Mon\n",
      "Tues\n",
      "Wednes\n",
      "Thurs\n",
      "Fri\n",
      "Satur\n",
      "Sun\n"
     ]
    }
   ],
   "source": [
    "days = ['Monday', 'Tuesday', 'Wednesday', 'Thursday', 'Friday', 'Saturday', 'Sunday']\n",
    "for i in days:\n",
    "    print(i[0:-3])"
   ]
  },
  {
   "cell_type": "code",
   "execution_count": 22,
   "metadata": {},
   "outputs": [
    {
     "name": "stdout",
     "output_type": "stream",
     "text": [
      "Mon\n",
      "Tues\n",
      "Wednes\n",
      "Thurs\n",
      "Fri\n",
      "Satur\n",
      "Sun\n"
     ]
    },
    {
     "data": {
      "text/plain": [
       "[None, None, None, None, None, None, None]"
      ]
     },
     "execution_count": 22,
     "metadata": {},
     "output_type": "execute_result"
    }
   ],
   "source": [
    "\n",
    "[print(i[0:-3]) for i in days]"
   ]
  },
  {
   "cell_type": "code",
   "execution_count": 9,
   "metadata": {},
   "outputs": [
    {
     "name": "stdout",
     "output_type": "stream",
     "text": [
      "Mon\n",
      "Tues\n",
      "Wednes\n",
      "Thurs\n",
      "Fri\n",
      "Satur\n",
      "Sun\n"
     ]
    }
   ],
   "source": [
    "days_lst = ['Monday', 'Tuesday', 'Wednesday', 'Thursday', 'Friday', 'Saturday', 'Sunday']\n",
    "for days in days_lst:\n",
    "    print(days[:-3])"
   ]
  },
  {
   "cell_type": "markdown",
   "metadata": {},
   "source": [
    "Python has a built-in function called `range`, which we can use to build a sequence of integers to loop over. \n",
    "\n",
    "However, note that `range` does not actually create a sequence. Instead, it is a generator function that produces the item in the sequence only when the item is actually reached in the loop (saves memory)."
   ]
  },
  {
   "cell_type": "code",
   "execution_count": 10,
   "metadata": {},
   "outputs": [
    {
     "data": {
      "text/plain": [
       "range(0, 10)"
      ]
     },
     "execution_count": 10,
     "metadata": {},
     "output_type": "execute_result"
    }
   ],
   "source": [
    "range(0, 10) "
   ]
  },
  {
   "cell_type": "code",
   "execution_count": 11,
   "metadata": {},
   "outputs": [
    {
     "name": "stdout",
     "output_type": "stream",
     "text": [
      "0\n",
      "1\n",
      "2\n",
      "3\n",
      "4\n",
      "5\n",
      "6\n",
      "7\n",
      "8\n",
      "9\n"
     ]
    }
   ],
   "source": [
    "for i in range(0, 10):\n",
    "    print(i)"
   ]
  },
  {
   "cell_type": "markdown",
   "metadata": {},
   "source": [
    "As a default, `range` starts with the integer 0. Since `range` returns integers, we can also perform arithmetic operations on the integers in the loop."
   ]
  },
  {
   "cell_type": "code",
   "execution_count": 12,
   "metadata": {},
   "outputs": [
    {
     "name": "stdout",
     "output_type": "stream",
     "text": [
      "0\n",
      "1\n",
      "4\n",
      "9\n",
      "16\n",
      "25\n",
      "36\n",
      "49\n",
      "64\n",
      "81\n"
     ]
    }
   ],
   "source": [
    "for i in range(10):\n",
    "    num2 = i**2\n",
    "    \n",
    "    print(num2)"
   ]
  },
  {
   "cell_type": "markdown",
   "metadata": {},
   "source": [
    "Note that `num2` is assigned a new value in each iteration, meaning that only the last calculation is stored in our program."
   ]
  },
  {
   "cell_type": "code",
   "execution_count": 13,
   "metadata": {},
   "outputs": [
    {
     "data": {
      "text/plain": [
       "81"
      ]
     },
     "execution_count": 13,
     "metadata": {},
     "output_type": "execute_result"
    }
   ],
   "source": [
    "num2"
   ]
  },
  {
   "cell_type": "markdown",
   "metadata": {},
   "source": [
    "If we need to store all of the calculations inside the loop, we can do so by creating an empty list and use `append` to store the calculation in the list in each iteration."
   ]
  },
  {
   "cell_type": "code",
   "execution_count": 14,
   "metadata": {},
   "outputs": [],
   "source": [
    "num2_lst = []\n",
    "\n",
    "for i in range(10):\n",
    "    num2 = i**2 \n",
    "    \n",
    "    num2_lst.append(num2) # append num2 to list"
   ]
  },
  {
   "cell_type": "code",
   "execution_count": 15,
   "metadata": {},
   "outputs": [
    {
     "data": {
      "text/plain": [
       "[0, 1, 4, 9, 16, 25, 36, 49, 64, 81]"
      ]
     },
     "execution_count": 15,
     "metadata": {},
     "output_type": "execute_result"
    }
   ],
   "source": [
    "num2_lst"
   ]
  },
  {
   "cell_type": "markdown",
   "metadata": {},
   "source": [
    "As a defult, `range` builds a sequence of integers with a step size of 1. However, we can provide `range` with a different step size."
   ]
  },
  {
   "cell_type": "code",
   "execution_count": 16,
   "metadata": {},
   "outputs": [
    {
     "name": "stdout",
     "output_type": "stream",
     "text": [
      "0\n",
      "2\n",
      "4\n",
      "6\n",
      "8\n"
     ]
    }
   ],
   "source": [
    "for i in range(0, 10, 2):\n",
    "    print(i)"
   ]
  },
  {
   "cell_type": "markdown",
   "metadata": {},
   "source": [
    "We can even use `range` to build a sequence of decreasing and/or negative integers."
   ]
  },
  {
   "cell_type": "code",
   "execution_count": 17,
   "metadata": {},
   "outputs": [
    {
     "name": "stdout",
     "output_type": "stream",
     "text": [
      "10\n",
      "8\n",
      "6\n",
      "4\n",
      "2\n",
      "0\n"
     ]
    }
   ],
   "source": [
    "for i in range(10, -1, -2):\n",
    "    print(i)"
   ]
  },
  {
   "cell_type": "code",
   "execution_count": 18,
   "metadata": {},
   "outputs": [
    {
     "name": "stdout",
     "output_type": "stream",
     "text": [
      "-10\n",
      "-8\n",
      "-6\n",
      "-4\n",
      "-2\n"
     ]
    }
   ],
   "source": [
    "for i in range(-10, -1, 2):\n",
    "    print(i)"
   ]
  },
  {
   "cell_type": "markdown",
   "metadata": {},
   "source": [
    "<div class=\"alert alert-info\">\n",
    "<h3> Your turn</h3>\n",
    "    <p> The following list contains all of the names of the days in the week: <code>days = ['Monday', 'Tuesday', 'Wednesday', 'Thursday', 'Friday', 'Saturday', 'Sunday']</code>. Use the <code>range</code> function to loop over the list, and print each name but without \"day\" at the end.\n",
    "        \n",
    "</div>"
   ]
  },
  {
   "cell_type": "code",
   "execution_count": 25,
   "metadata": {},
   "outputs": [
    {
     "name": "stdout",
     "output_type": "stream",
     "text": [
      "Mon\n",
      "Tues\n",
      "Wednes\n",
      "Thurs\n",
      "Fri\n",
      "Satur\n",
      "Sun\n"
     ]
    }
   ],
   "source": [
    "for i in range(len(days)):\n",
    "    print(days[i][:-3])"
   ]
  },
  {
   "cell_type": "markdown",
   "metadata": {},
   "source": [
    "We can also loop over dictionaries."
   ]
  },
  {
   "cell_type": "code",
   "execution_count": 24,
   "metadata": {},
   "outputs": [
    {
     "data": {
      "text/plain": [
       "dict_keys(['name', 'student_no', 'course', 'score'])"
      ]
     },
     "execution_count": 24,
     "metadata": {},
     "output_type": "execute_result"
    }
   ],
   "source": [
    "student = {\n",
    "    'name' : 'Anne Smith',\n",
    "    'student_no' : 's1234',\n",
    "    'course' : 'MATH101',\n",
    "    'score' :  82\n",
    "}\n",
    "\n",
    "student.keys()"
   ]
  },
  {
   "cell_type": "markdown",
   "metadata": {},
   "source": [
    "However, note that a simple `for` loop will iterate over the *keys* of the dictionaries."
   ]
  },
  {
   "cell_type": "code",
   "execution_count": 25,
   "metadata": {},
   "outputs": [
    {
     "name": "stdout",
     "output_type": "stream",
     "text": [
      "name\n",
      "student_no\n",
      "course\n",
      "score\n"
     ]
    }
   ],
   "source": [
    "for i in student:\n",
    "    print(i)"
   ]
  },
  {
   "cell_type": "markdown",
   "metadata": {},
   "source": [
    "If we instead want to access the values in the dictionary, we must \"look up\" the value using the key inside the loop. "
   ]
  },
  {
   "cell_type": "code",
   "execution_count": 26,
   "metadata": {},
   "outputs": [
    {
     "name": "stdout",
     "output_type": "stream",
     "text": [
      "Anne Smith\n",
      "s1234\n",
      "MATH101\n",
      "82\n"
     ]
    }
   ],
   "source": [
    "for key in student:\n",
    "    print(student[key])"
   ]
  },
  {
   "cell_type": "markdown",
   "metadata": {},
   "source": [
    "Alternatively, we can use the `items` function to access both the key-value pair in a dictionary."
   ]
  },
  {
   "cell_type": "code",
   "execution_count": 27,
   "metadata": {},
   "outputs": [
    {
     "name": "stdout",
     "output_type": "stream",
     "text": [
      "('name', 'Anne Smith')\n",
      "('student_no', 's1234')\n",
      "('course', 'MATH101')\n",
      "('score', 82)\n"
     ]
    }
   ],
   "source": [
    "for item in student.items():\n",
    "    print(item)"
   ]
  },
  {
   "cell_type": "markdown",
   "metadata": {},
   "source": [
    "Note that we can also combine loops with `if` statements in case we only want to execute the code *if* a condition is met."
   ]
  },
  {
   "cell_type": "markdown",
   "metadata": {},
   "source": [
    "<div class=\"alert alert-info\">\n",
    "<h3> Your turn</h3>\n",
    "    <p> The following list contains all of the names of the days in the week: <code>days = ['Monday', 'Tuesday', 'Wednesday', 'Thursday', 'Friday', 'Saturday', 'Sunday']</code>. Loop over the list and append the names to a new list in uppercase but only if the day is a weekday, i.e., not Saturday or Sunday.\n",
    "        \n",
    "</div>"
   ]
  },
  {
   "cell_type": "code",
   "execution_count": null,
   "metadata": {},
   "outputs": [
    {
     "name": "stdout",
     "output_type": "stream",
     "text": [
      "['MONDAY', 'TUESDAY', 'WEDNESDAY', 'THURSDAY', 'FRIDAY']\n"
     ]
    }
   ],
   "source": [
    "weekdays_upper = []\n",
    "for i in range(len(days)-2):\n",
    "    weekdays_upper.append(days[i].upper())\n",
    "\n",
    "print(weekdays_upper)"
   ]
  },
  {
   "cell_type": "code",
   "execution_count": 35,
   "metadata": {},
   "outputs": [
    {
     "name": "stdout",
     "output_type": "stream",
     "text": [
      "['MONDAY', 'TUESDAY', 'WEDNESDAY', 'THURSDAY', 'FRIDAY']\n"
     ]
    }
   ],
   "source": [
    "weekdays_upper=[]\n",
    "\n",
    "for day in days_lst:\n",
    "    if day not in ['Saturday', 'Sunday']:\n",
    "        weekdays_upper.append(day.upper())\n",
    "\n",
    "print(weekdays_upper)"
   ]
  },
  {
   "cell_type": "code",
   "execution_count": 29,
   "metadata": {},
   "outputs": [
    {
     "name": "stdout",
     "output_type": "stream",
     "text": [
      "['MONDAY', 'TUESDAY', 'WEDNESDAY', 'THURSDAY', 'FRIDAY']\n"
     ]
    }
   ],
   "source": [
    "weekdays = []\n",
    "for day in days:\n",
    "    if day.startswith('S') == False:\n",
    "        weekdays.append(day.upper())\n",
    "\n",
    "print(weekdays)"
   ]
  },
  {
   "cell_type": "markdown",
   "metadata": {},
   "source": [
    "## `while` loop\n",
    "\n",
    "We can use `while` loops to repeat a code block until a condition is no longer `True`. \n",
    "\n",
    "The `while` statement consists of a header starting with the `while` keyword, followed by a *Boolean* condition, and then an indentend block of code. \n",
    "```\n",
    "while condition:\n",
    "    <code block>\n",
    "```\n",
    "The block of code will be executed repeatedly until the condition is no longer `True`, i.e., it is now `False`."
   ]
  },
  {
   "cell_type": "markdown",
   "metadata": {},
   "source": [
    "For example, we can use a `while` loop to add all integers from 1 to 5."
   ]
  },
  {
   "cell_type": "code",
   "execution_count": 36,
   "metadata": {},
   "outputs": [
    {
     "name": "stdout",
     "output_type": "stream",
     "text": [
      "15\n"
     ]
    }
   ],
   "source": [
    "total = 0 # initialize the sum\n",
    "i = 1     # initialize the \"counter\"\n",
    "\n",
    "while i < 6:\n",
    "    total = total + i # add \"i\" to \"total\" \n",
    "    i = i + 1         # increment \"i\" by 1\n",
    "\n",
    "print(total)"
   ]
  },
  {
   "cell_type": "markdown",
   "metadata": {},
   "source": [
    "Note that `i` in the loop above is known as a \"counter\" variable, i.e., it counts the number of iterations. It can be helpful to add `print` statements inside the loop in order to see the output of each iteration."
   ]
  },
  {
   "cell_type": "code",
   "execution_count": 37,
   "metadata": {},
   "outputs": [
    {
     "name": "stdout",
     "output_type": "stream",
     "text": [
      "Iteration number 1:\n",
      "...total = 1\n",
      "...i = 2\n",
      "\n",
      "Iteration number 2:\n",
      "...total = 3\n",
      "...i = 3\n",
      "\n",
      "Iteration number 3:\n",
      "...total = 6\n",
      "...i = 4\n",
      "\n",
      "Iteration number 4:\n",
      "...total = 10\n",
      "...i = 5\n",
      "\n",
      "Iteration number 5:\n",
      "...total = 15\n",
      "...i = 6\n",
      "\n"
     ]
    }
   ],
   "source": [
    "total = 0\n",
    "i = 1\n",
    "\n",
    "while i < 6:\n",
    "    print(f'Iteration number {i}:')\n",
    "    \n",
    "    total = total + i\n",
    "    i = i + 1\n",
    "\n",
    "    print(f'...total = {total}')\n",
    "    print(f'...i = {i}\\n')\n"
   ]
  },
  {
   "cell_type": "markdown",
   "metadata": {},
   "source": [
    "Notice that we need to be careful in designing the Boolean condition that decides when to terminate the loop. For instance, the statement `while i < 5` will terminate the loop one iteration to early...\n",
    "\n",
    "Although we can start the counter variable at 1, most programmers prefer to start the counter variable at zero."
   ]
  },
  {
   "cell_type": "code",
   "execution_count": 38,
   "metadata": {},
   "outputs": [
    {
     "name": "stdout",
     "output_type": "stream",
     "text": [
      "Iteration number 1:\n",
      "...total = 0\n",
      "...i = 1\n",
      "\n",
      "Iteration number 2:\n",
      "...total = 1\n",
      "...i = 2\n",
      "\n",
      "Iteration number 3:\n",
      "...total = 3\n",
      "...i = 3\n",
      "\n",
      "Iteration number 4:\n",
      "...total = 6\n",
      "...i = 4\n",
      "\n",
      "Iteration number 5:\n",
      "...total = 10\n",
      "...i = 5\n",
      "\n",
      "Iteration number 6:\n",
      "...total = 15\n",
      "...i = 6\n",
      "\n"
     ]
    }
   ],
   "source": [
    "total = 0\n",
    "i = 0 # start counter at zero\n",
    "\n",
    "while i < 6: \n",
    "    print(f'Iteration number {i+1}:') # add 1 to counter since it now starts at zero\n",
    "    \n",
    "    total = total + i\n",
    "    i = i + 1\n",
    "\n",
    "    print(f'...total = {total}')\n",
    "    print(f'...i = {i}\\n')\n"
   ]
  },
  {
   "cell_type": "markdown",
   "metadata": {},
   "source": [
    "The number of iterations in a `while` loop depends on the initial conditions."
   ]
  },
  {
   "cell_type": "code",
   "execution_count": 39,
   "metadata": {},
   "outputs": [
    {
     "name": "stdout",
     "output_type": "stream",
     "text": [
      "Iteration number 1\n",
      "Iteration number 2\n",
      "Iteration number 3\n",
      "Iteration number 4\n",
      "Iteration number 5\n",
      "Iteration number 6\n",
      "Total: 15\n"
     ]
    }
   ],
   "source": [
    "TARGET = 6\n",
    "\n",
    "total = 0\n",
    "i = 0\n",
    "\n",
    "while i < TARGET:\n",
    "    print(f'Iteration number {i+1}')\n",
    "    \n",
    "    total = total + i\n",
    "    i = i + 1\n",
    "\n",
    "print(f'Total: {total}')"
   ]
  },
  {
   "cell_type": "markdown",
   "metadata": {},
   "source": [
    "Note that it is possible that the Boolean condition is `False` even in the first iteration, in which case the loop will terminate before the first iteration, i.e., the loop is never executed."
   ]
  },
  {
   "cell_type": "code",
   "execution_count": 40,
   "metadata": {},
   "outputs": [],
   "source": [
    "TARGET = 0\n",
    "\n",
    "total = 0\n",
    "i = 0\n",
    "\n",
    "while i < TARGET:\n",
    "    print(f'Iteration number {i+1}:')\n",
    "    \n",
    "    total = total + i\n",
    "    i = i + 1"
   ]
  },
  {
   "cell_type": "markdown",
   "metadata": {},
   "source": [
    "<div class=\"alert alert-info\">\n",
    "<h3> Your turn</h3>\n",
    "    <p> Use a <code>while</code> loop to square all integers from 0 to 9 and store the squared number in a list called <code>num_lst</code>.\n",
    "        \n",
    "</div>"
   ]
  },
  {
   "cell_type": "code",
   "execution_count": 33,
   "metadata": {},
   "outputs": [
    {
     "name": "stdout",
     "output_type": "stream",
     "text": [
      "[0, 1, 4, 9, 16, 25, 36, 49, 64, 81]\n"
     ]
    }
   ],
   "source": [
    "num_lst = []\n",
    "i = 0\n",
    "while i<10:\n",
    "    num_lst.append(i**2)\n",
    "    i += 1\n",
    "\n",
    "print(num_lst)"
   ]
  },
  {
   "cell_type": "code",
   "execution_count": 43,
   "metadata": {},
   "outputs": [
    {
     "name": "stdout",
     "output_type": "stream",
     "text": [
      "[0, 1, 4, 9, 16, 25, 36, 49, 64, 81]\n"
     ]
    }
   ],
   "source": [
    "num_lst = []\n",
    "i = 0\n",
    "\n",
    "while i <= 9:\n",
    "    num_lst.append(i ** 2)\n",
    "    i = i + 1\n",
    "\n",
    "print(num_lst)"
   ]
  },
  {
   "cell_type": "markdown",
   "metadata": {},
   "source": [
    "In general, there are three types of `while` loops:\n",
    "1. Definite loops: we can determine the number of iterations before the loop is executed\n",
    "2. Indefinate loops: terminates but we cannot determine the number of iterations before the loop is executed\n",
    "3. Infinite loops: never terminates"
   ]
  },
  {
   "cell_type": "markdown",
   "metadata": {},
   "source": [
    "**1. Definite loops**\n",
    "\n",
    "In the following loop, the number of iterations can be determined by the initial conditions."
   ]
  },
  {
   "cell_type": "code",
   "execution_count": 44,
   "metadata": {},
   "outputs": [
    {
     "name": "stdout",
     "output_type": "stream",
     "text": [
      "1\n"
     ]
    }
   ],
   "source": [
    "N = 1\n",
    "#N = 2\n",
    "#N = 3\n",
    "#N = 4\n",
    "\n",
    "counter = 0\n",
    "\n",
    "while counter < N:\n",
    "    counter = counter + 1\n",
    "    \n",
    "    print(counter)"
   ]
  },
  {
   "cell_type": "markdown",
   "metadata": {},
   "source": [
    "**2. Indefinite loops**\n",
    "\n",
    "Indefinate loops are often used to check that user-supplied inputs are valid. The loop will terminate once the user has supplied a valid input."
   ]
  },
  {
   "cell_type": "code",
   "execution_count": 45,
   "metadata": {},
   "outputs": [
    {
     "name": "stdout",
     "output_type": "stream",
     "text": [
      "You can choose between A or B.\n"
     ]
    },
    {
     "name": "stdout",
     "output_type": "stream",
     "text": [
      "Make your choice:  A\n"
     ]
    },
    {
     "name": "stdout",
     "output_type": "stream",
     "text": [
      "You selected A\n"
     ]
    }
   ],
   "source": [
    "print('You can choose between A or B.')\n",
    "choice = input('Make your choice: ')\n",
    "\n",
    "while choice not in ('A', 'B'):\n",
    "    print('\\nInvalid input. You can only choose A or B.')\n",
    "    \n",
    "    choice = input('Make your choice: ')\n",
    "\n",
    "print('You selected', choice)"
   ]
  },
  {
   "cell_type": "markdown",
   "metadata": {},
   "source": [
    "Note that instead of using a Boolean condition in the `while` statement, we often use what is known as a *Boolean flag*.\n",
    "\n",
    "A Boolean flag is simply a Boolean condition that is placed in a variable. "
   ]
  },
  {
   "cell_type": "code",
   "execution_count": 47,
   "metadata": {
    "scrolled": true
   },
   "outputs": [
    {
     "name": "stdout",
     "output_type": "stream",
     "text": [
      "You can choose between A or B.\n"
     ]
    },
    {
     "name": "stdout",
     "output_type": "stream",
     "text": [
      "Make your choice:  C\n"
     ]
    },
    {
     "name": "stdout",
     "output_type": "stream",
     "text": [
      "\n",
      "Invalid input.\n",
      "You can choose between A or B.\n"
     ]
    },
    {
     "name": "stdout",
     "output_type": "stream",
     "text": [
      "Make your choice:  A\n"
     ]
    }
   ],
   "source": [
    "# Initialize flag (assume not valid input)\n",
    "validInput = False\n",
    "\n",
    "while not validInput:\n",
    "    \n",
    "    # Ask the user for input\n",
    "    print('You can choose between A or B.')\n",
    "    choice = input('Make your choice: ')\n",
    "    \n",
    "    # Change flag if input is valid\n",
    "    if choice in ('A', 'B'):\n",
    "        validInput = True\n",
    "    else:\n",
    "        print('\\nInvalid input.')"
   ]
  },
  {
   "cell_type": "markdown",
   "metadata": {},
   "source": [
    "**3. Infinite loops**\n",
    "\n",
    "The following loop will never terminate due to the condition never becoming `True`."
   ]
  },
  {
   "cell_type": "code",
   "execution_count": 48,
   "metadata": {},
   "outputs": [
    {
     "ename": "KeyboardInterrupt",
     "evalue": "",
     "output_type": "error",
     "traceback": [
      "\u001b[0;31m---------------------------------------------------------------------------\u001b[0m",
      "\u001b[0;31mKeyboardInterrupt\u001b[0m                         Traceback (most recent call last)",
      "Cell \u001b[0;32mIn[48], line 4\u001b[0m\n\u001b[1;32m      1\u001b[0m total \u001b[38;5;241m=\u001b[39m \u001b[38;5;241m0\u001b[39m\n\u001b[1;32m      2\u001b[0m counter \u001b[38;5;241m=\u001b[39m \u001b[38;5;241m0\u001b[39m\n\u001b[0;32m----> 4\u001b[0m \u001b[38;5;28;01mwhile\u001b[39;00m counter \u001b[38;5;241m<\u001b[39m \u001b[38;5;241m3\u001b[39m:\n\u001b[1;32m      6\u001b[0m     total \u001b[38;5;241m=\u001b[39m total \u001b[38;5;241m+\u001b[39m i\n\u001b[1;32m      7\u001b[0m     \u001b[38;5;66;03m#counter = counter + 1 \u001b[39;00m\n",
      "\u001b[0;31mKeyboardInterrupt\u001b[0m: "
     ]
    }
   ],
   "source": [
    "total = 0\n",
    "counter = 0\n",
    "\n",
    "while counter < 3:\n",
    "    \n",
    "    total = total + i\n",
    "    #counter = counter + 1 \n",
    "\n",
    "print(total)"
   ]
  },
  {
   "cell_type": "markdown",
   "metadata": {},
   "source": [
    "> 💡 **Tip:** If you accidentially create an infinite loop, you can terminate the program by pressing `Kernel` &rarr; `Interrupt` in the menu."
   ]
  },
  {
   "cell_type": "markdown",
   "metadata": {},
   "source": [
    "<div class=\"alert alert-info\">\n",
    "<h3> Your turn</h3>\n",
    "    <p> Why does the program below never terminate?\n",
    "        \n",
    "    print('This program will convert temperatures (Fahrenheit/Celsius)')\n",
    "    print('Enter F to convert from Fahrenheit to Celsius')\n",
    "    print('Enter C to convert from Celsius to Fahrenheit')\n",
    "\n",
    "    which = input('Enter selection: ')\n",
    "\n",
    "    while which != 'F' or which != 'C':\n",
    "        print('INVALID INPUT. Only F or C is accepted.')\n",
    "        which = input('Enter selection: ')\n",
    "\n",
    "    temp = float(input('Enter temperature to convert: '))\n",
    "\n",
    "    if which == 'F':\n",
    "        converted_temp = (temp - 32) * 5 / 9\n",
    "        print(f'\\n{temp} degree Fahrenheit equals {converted_temp:.1f} degree Celsius.')\n",
    "\n",
    "    else:\n",
    "        converted_temp = (9 / 5) * temp + 32\n",
    "        print(f'\\n{temp} degree Celsius equals {converted_temp:.1f} degree Fahrenheit.')\n",
    "\n",
    "    print('\\nThank you for using the Temperature Conversion Progam!')\n",
    "        \n",
    "</div>"
   ]
  },
  {
   "cell_type": "code",
   "execution_count": 50,
   "metadata": {},
   "outputs": [
    {
     "ename": "IndentationError",
     "evalue": "unexpected indent (1448717806.py, line 2)",
     "output_type": "error",
     "traceback": [
      "\u001b[0;36m  Cell \u001b[0;32mIn[50], line 2\u001b[0;36m\u001b[0m\n\u001b[0;31m    print('Enter F to convert from Fahrenheit to Celsius')\u001b[0m\n\u001b[0m    ^\u001b[0m\n\u001b[0;31mIndentationError\u001b[0m\u001b[0;31m:\u001b[0m unexpected indent\n"
     ]
    }
   ],
   "source": [
    " print('This program will convert temperatures (Fahrenheit/Celsius)')\n",
    "    print('Enter F to convert from Fahrenheit to Celsius')\n",
    "    print('Enter C to convert from Celsius to Fahrenheit')\n",
    "\n",
    "    which = input('Enter selection: ')\n",
    "\n",
    "    while which != 'F' and which != 'C':\n",
    "        print('INVALID INPUT. Only F or C is accepted.')\n",
    "        which = input('Enter selection: ')\n",
    "\n",
    "    temp = float(input('Enter temperature to convert: '))\n",
    "\n",
    "    if which == 'F':\n",
    "        converted_temp = (temp - 32) * 5 / 9\n",
    "        print(f'\\n{temp} degree Fahrenheit equals {converted_temp:.1f} degree Celsius.')\n",
    "\n",
    "    else:\n",
    "        converted_temp = (9 / 5) * temp + 32\n",
    "        print(f'\\n{temp} degree Celsius equals {converted_temp:.1f} degree Fahrenheit.')\n",
    "\n",
    "    print('\\nThank you for using the Temperature Conversion Progam!')"
   ]
  },
  {
   "cell_type": "markdown",
   "metadata": {},
   "source": [
    "**`while` loops vs `for` loops** \n",
    "\n",
    "It is generally easier to determine the number of iterations in a `for` loop than in a `while` loop, and there tends to be more potential pitfalls when designing a `while` loop.\n",
    "\n",
    "In general, when iterating over a sequence of items, a `for` loop is the appropiate control structure. \n",
    "\n",
    "However, a `while` loop is the appropiate control structure when we do not know the number of iterations beforehand, or we wish to iterate over a sequence only *until* a condition is met. Note that we can do the latter by combining the `while` loop with `if` statements."
   ]
  },
  {
   "cell_type": "markdown",
   "metadata": {},
   "source": [
    "In the following example, we use a `while` loop to iterate over a sequence of characters, and terminate the loop if and when a specific character in a string is found."
   ]
  },
  {
   "cell_type": "code",
   "execution_count": 49,
   "metadata": {},
   "outputs": [
    {
     "name": "stdout",
     "output_type": "stream",
     "text": [
      "Item found at index 2.\n"
     ]
    }
   ],
   "source": [
    "word = 'Virginia'\n",
    "item_to_find = 'r'\n",
    "\n",
    "k = 0  # Initialize counter\n",
    "found_item = False # Initialize Boolean flag\n",
    "\n",
    "while (k < len(word)) and (found_item == False):\n",
    "    if word[k] == item_to_find:\n",
    "        found_item = True # Change Boolean flag to True if item is found\n",
    "      \n",
    "    else:\n",
    "        k = k + 1 # Otherwise, increment counter variable with one\n",
    "\n",
    "\n",
    "if found_item:\n",
    "    print(f'Item found at index {k}.') \n",
    "else:\n",
    "    print('Item was not found.') "
   ]
  },
  {
   "cell_type": "code",
   "execution_count": null,
   "metadata": {},
   "outputs": [],
   "source": []
  },
  {
   "cell_type": "markdown",
   "metadata": {},
   "source": [
    "## Nested loops\n",
    "\n",
    "Complex problems sometimes require the use of *nested* loops. \n",
    "\n",
    "In a nested loop, the second loop (inner loop) is indented relative to the first loop (outer loop), i.e. that the second loop will be executed for *each* iteration of the first loop.\n",
    "```\n",
    "for i in sequence1:\n",
    "    for j in sequence2:\n",
    "        <code block for inner loop>\n",
    "    <code block for outer loop>\n",
    "```\n",
    "Importantly, we must give the loop variable in the inner loop a different name than the loop variables in the outer loop."
   ]
  },
  {
   "cell_type": "code",
   "execution_count": 53,
   "metadata": {},
   "outputs": [
    {
     "name": "stdout",
     "output_type": "stream",
     "text": [
      "i = 0, j = 0\n",
      "i = 0, j = 1\n",
      "i = 0, j = 2\n",
      "i = 1, j = 0\n",
      "i = 1, j = 1\n",
      "i = 1, j = 2\n",
      "i = 2, j = 0\n",
      "i = 2, j = 1\n",
      "i = 2, j = 2\n"
     ]
    }
   ],
   "source": [
    "for i in range(3): \n",
    "    for j in range(3): \n",
    "        print(f'i = {i}, j = {j}') "
   ]
  },
  {
   "cell_type": "markdown",
   "metadata": {},
   "source": [
    "For example, let us use a nested `for` loop to multiply the numbers 1, 2, and 3 with the numbers 4, 5, and 6."
   ]
  },
  {
   "cell_type": "code",
   "execution_count": 54,
   "metadata": {},
   "outputs": [
    {
     "name": "stdout",
     "output_type": "stream",
     "text": [
      "1 * 4 = 4\n",
      "1 * 5 = 5\n",
      "1 * 6 = 6\n",
      "2 * 4 = 8\n",
      "2 * 5 = 10\n",
      "2 * 6 = 12\n",
      "3 * 4 = 12\n",
      "3 * 5 = 15\n",
      "3 * 6 = 18\n"
     ]
    }
   ],
   "source": [
    "for i in range(1, 4):\n",
    "    for j in range(4, 7):\n",
    "        print(f'{i} * {j} = {i*j}')"
   ]
  },
  {
   "cell_type": "markdown",
   "metadata": {},
   "source": [
    "We can also create a nested `while` loop. For example, let us use a nested `while` loop to print the sequence of numbers 0-9 five times."
   ]
  },
  {
   "cell_type": "code",
   "execution_count": 55,
   "metadata": {},
   "outputs": [
    {
     "name": "stdout",
     "output_type": "stream",
     "text": [
      "0 1 2 3 4 5 6 7 8 9 \n",
      "0 1 2 3 4 5 6 7 8 9 \n",
      "0 1 2 3 4 5 6 7 8 9 \n",
      "0 1 2 3 4 5 6 7 8 9 \n",
      "0 1 2 3 4 5 6 7 8 9 \n"
     ]
    }
   ],
   "source": [
    "i = 0 # Initialize first counter\n",
    "\n",
    "while i < 5:\n",
    "    j = 0 # Initialize second counter\n",
    "    \n",
    "    while j < 10:\n",
    "        print(j, end = ' ') # (Use end parameter to add space instead of new line)\n",
    "        \n",
    "        j = j + 1 # Increment second counter\n",
    "        \n",
    "    i = i + 1 # Increment first counter\n",
    "    \n",
    "    print()"
   ]
  },
  {
   "cell_type": "markdown",
   "metadata": {},
   "source": [
    "<div class=\"alert alert-info\">\n",
    "<h3> Your turn</h3>\n",
    "    <p> Modify the code above by using a <code>for</code> loop instead of a <code>while</code> loop to print the sequence of numbers from 0 to 9 five times.\n",
    "        \n",
    "</div>"
   ]
  },
  {
   "cell_type": "code",
   "execution_count": 36,
   "metadata": {},
   "outputs": [
    {
     "name": "stdout",
     "output_type": "stream",
     "text": [
      "0 1 2 3 4 5 6 7 8 9 \n",
      "0 1 2 3 4 5 6 7 8 9 \n",
      "0 1 2 3 4 5 6 7 8 9 \n",
      "0 1 2 3 4 5 6 7 8 9 \n",
      "0 1 2 3 4 5 6 7 8 9 \n"
     ]
    }
   ],
   "source": [
    "for i in range(5):\n",
    "    for j in range(10):\n",
    "        print(j, end=' ')\n",
    "    \n",
    "    print()"
   ]
  },
  {
   "cell_type": "code",
   "execution_count": 68,
   "metadata": {},
   "outputs": [
    {
     "name": "stdout",
     "output_type": "stream",
     "text": [
      "0 1 2 3 4 5 6 7 8 9 \n",
      "0 1 2 3 4 5 6 7 8 9 \n",
      "0 1 2 3 4 5 6 7 8 9 \n",
      "0 1 2 3 4 5 6 7 8 9 \n",
      "0 1 2 3 4 5 6 7 8 9 \n"
     ]
    }
   ],
   "source": [
    "for i in range(5) :\n",
    "    for j in range(10):\n",
    "        print(j, end = ' ')\n",
    "        j = j + 1   \n",
    "    i = i + 1\n",
    "    print ()"
   ]
  },
  {
   "cell_type": "code",
   "execution_count": null,
   "metadata": {},
   "outputs": [],
   "source": []
  }
 ],
 "metadata": {
  "kernelspec": {
   "display_name": "base",
   "language": "python",
   "name": "python3"
  },
  "language_info": {
   "codemirror_mode": {
    "name": "ipython",
    "version": 3
   },
   "file_extension": ".py",
   "mimetype": "text/x-python",
   "name": "python",
   "nbconvert_exporter": "python",
   "pygments_lexer": "ipython3",
   "version": "3.12.4"
  }
 },
 "nbformat": 4,
 "nbformat_minor": 4
}
