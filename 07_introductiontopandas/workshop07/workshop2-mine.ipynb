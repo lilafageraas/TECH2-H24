{
 "cells": [
  {
   "cell_type": "markdown",
   "metadata": {},
   "source": [
    "# Exercise: Data cleaning\n",
    "\n",
    "Before doing actual data analysis, we usually first need to clean the data. \n",
    "This might involve steps such as dealing with missing values and encoding categorical variables as integers.\n",
    "\n",
    "Load the Titanic data set in `titanic.csv` and perform the following tasks:\n",
    "\n",
    "1. Report the number of observations with missing `Age`, for example using [`isna()`](https://pandas.pydata.org/docs/reference/api/pandas.isna.html).\n",
    "2. Compute the average age in the data set. Use the following approaches and compare your results:\n",
    "    1.  Use the [`mean()`](https://pandas.pydata.org/docs/reference/api/pandas.DataFrame.mean.html) method.\n",
    "    2.  Convert the `Age` column to a NumPy array using [`to_numpy()`](https://pandas.pydata.org/docs/reference/api/pandas.DataFrame.to_numpy.html). Experiment with NumPy's [`np.mean()`](https://numpy.org/doc/2.0/reference/generated/numpy.mean.html) and [`np.nanmean()`](https://numpy.org/doc/2.0/reference/generated/numpy.nanmean.html) to see if you obtain the same results.\n",
    "3. Replace the all missing ages with the mean age you computed above, rounded to the nearest integer.\n",
    "   Note that in \"real\" applications, replacing missing values with sample means is usually not a good idea.\n",
    "4. Convert this updated `Age` column to integer type using [`astype()`](https://pandas.pydata.org/docs/reference/api/pandas.DataFrame.astype.html).\n",
    "5. Generate a new column `Female` which takes on the value one if `Sex` is equal to `\"female\"` and zero otherwise. \n",
    "   This is called an _indicator_ or _dummy_ variable, and is preferrable to storing such categorical data as strings.\n",
    "   Delete the original column `Sex`.\n",
    "6. Save your cleaned data set as `titanic-clean.csv` using [`to_csv()`](https://pandas.pydata.org/docs/reference/api/pandas.DataFrame.to_csv.html) with `,` as the field separator.\n",
    "   Tell `to_csv()` to *not* write the `DataFrame` index to the CSV file as it's not needed in this example."
   ]
  },
  {
   "cell_type": "code",
   "execution_count": 2,
   "metadata": {},
   "outputs": [],
   "source": [
    "import pandas as pd\n",
    "\n",
    "DATA_PATH = '../data'\n",
    "\n",
    "#path to CSV file\n",
    "file = f'{DATA_PATH}/titanic.csv'\n",
    "\n",
    "#load sample data set\n",
    "df = pd.read_csv(file, sep = ',')"
   ]
  },
  {
   "cell_type": "code",
   "execution_count": 9,
   "metadata": {},
   "outputs": [
    {
     "data": {
      "text/plain": [
       "177"
      ]
     },
     "execution_count": 9,
     "metadata": {},
     "output_type": "execute_result"
    }
   ],
   "source": [
    "#report the number of observations with missing age (using isna())\n",
    "df['Age'].isna().sum() #in pandas you can chain calculations, we find true and false and then we sum (by default true = 1 and false = 0)"
   ]
  },
  {
   "cell_type": "code",
   "execution_count": 20,
   "metadata": {},
   "outputs": [
    {
     "data": {
      "text/plain": [
       "29.69911764705882"
      ]
     },
     "execution_count": 20,
     "metadata": {},
     "output_type": "execute_result"
    }
   ],
   "source": [
    "#compute the average age in the data set. use te following approaches to compare your results\n",
    "#use the mean() method\n",
    "import numpy as np\n",
    "df['Age'].mean()\n"
   ]
  },
  {
   "cell_type": "code",
   "execution_count": 23,
   "metadata": {},
   "outputs": [
    {
     "data": {
      "text/plain": [
       "nan"
      ]
     },
     "execution_count": 23,
     "metadata": {},
     "output_type": "execute_result"
    }
   ],
   "source": [
    "#convert the age column to a numpy array using to_numpy(). experiment with numpy's np.mean() and np.nanmean() to see if you obtain the same result\n",
    "array = df['Age'].to_numpy()\n",
    "np.mean(array) #this will give nan because id there is a calculation with nan, you get nan as the answer"
   ]
  },
  {
   "cell_type": "code",
   "execution_count": 25,
   "metadata": {},
   "outputs": [
    {
     "data": {
      "text/plain": [
       "29.69911764705882"
      ]
     },
     "execution_count": 25,
     "metadata": {},
     "output_type": "execute_result"
    }
   ],
   "source": [
    "np.nanmean(array) #therefore we use np.nanmean() instead"
   ]
  },
  {
   "cell_type": "markdown",
   "metadata": {},
   "source": [
    "# Exercise: Working with strings\n",
    "\n",
    "Most of the data we deal with contain strings, i.e., text data (names, addresses, etc.). Often, such data is not in the format needed for analysis, and we have to perform additional string manipulation to extract the exact data we need. This can be achieved using the pandas [string methods](https://pandas.pydata.org/docs/user_guide/text.html#string-methods).\n",
    "\n",
    "To illustrate, we use the Titanic data set for this exercise.\n",
    "\n",
    "1.  Load the Titanic data and restrict the sample to men. (This simplifies the task. Women in this data set have much more complicated names as they contain both their husband's and their maiden name)\n",
    "2.  Print the first five observations of the `Name` column. As you can see, the data is stored in the format _\"Last name, Title First name\"_ where title is something like Mr., Rev., etc.\n",
    "3. Split the `Name` column by `,` to extract the last name and the remainder as separate columns. You can achieve this using the [`partition()`](https://pandas.pydata.org/docs/reference/api/pandas.Series.str.partition.html#pandas.Series.str.partition) string method.\n",
    "4. Split the remainder (containing the title and first name) using the space character `\" \"` as separator to obtain individual columns for the title and the first name.\n",
    "5. Store the three data series in the original `DataFrame` (using the column names `FirstName`, `LastName` and `Title`) and delete the `Name` column which is no longer needed.\n",
    "6. Finally, extract the ship deck from the values in `Cabin`. The ship deck is the first character in the string stored in `Cabin` (A, B, C, ...). You extract the first character using the \n",
    "[`get()`](https://pandas.pydata.org/docs/reference/api/pandas.Series.str.get.html#pandas.Series.str.get) string method. Store the result in the column `Deck`.\n",
    "\n",
    "*Hint*: Pandas's string methods can be accessed using the `.str` attribute. For example, to partition values in the column `Name`, you need to use\n",
    "```python\n",
    "df['Name'].str.partition()\n",
    "```\n"
   ]
  }
 ],
 "metadata": {
  "kernelspec": {
   "display_name": "base",
   "language": "python",
   "name": "python3"
  },
  "language_info": {
   "codemirror_mode": {
    "name": "ipython",
    "version": 3
   },
   "file_extension": ".py",
   "mimetype": "text/x-python",
   "name": "python",
   "nbconvert_exporter": "python",
   "pygments_lexer": "ipython3",
   "version": "3.12.4"
  }
 },
 "nbformat": 4,
 "nbformat_minor": 2
}
