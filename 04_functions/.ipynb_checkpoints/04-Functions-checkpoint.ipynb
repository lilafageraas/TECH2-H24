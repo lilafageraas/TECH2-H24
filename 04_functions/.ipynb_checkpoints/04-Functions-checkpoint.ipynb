{
 "cells": [
  {
   "cell_type": "markdown",
   "metadata": {},
   "source": [
    "# 04 - Functions\n",
    "\n",
    "Up until now, we have executed a program as a series of instructions. However, most programs consist of distinct groups of instructions, i.e., routines. In Python, routines are known as *functions*.\n",
    "\n",
    "Using functions makes it easier to:\n",
    "- handle the complexity of programs\n",
    "- reuse code\n",
    "\n",
    "This notebook shows how we can create our own **self-defined functions** in Python."
   ]
  },
  {
   "cell_type": "code",
   "execution_count": null,
   "metadata": {},
   "outputs": [],
   "source": []
  },
  {
   "cell_type": "markdown",
   "metadata": {},
   "source": [
    "## Creating functions\n",
    "\n",
    "A function is a **named** group of instructions that accomplishes a **specific task**.\n",
    "\n",
    "We have already used several of Python's built-in functions, e.g.:\n",
    "* `print`\n",
    "* `len`\n",
    "* `type`\n",
    "\n",
    "In addition, we have used functions from third-party packages, e.g.:\n",
    "* `randint` from `random`"
   ]
  },
  {
   "cell_type": "markdown",
   "metadata": {},
   "source": [
    "A function has four characteristics:\n",
    "1. Name\n",
    "2. Task\n",
    "3. Input (also known as parameters)\n",
    "4. Output"
   ]
  },
  {
   "cell_type": "markdown",
   "metadata": {},
   "source": [
    "For instance, we have used `len` to calculate the length of sequences, e.g. strings, lists.\n",
    "\n",
    "1. Name: len\n",
    "2. Task: calculate the length of a sequence\n",
    "3. Input: a sequence\n",
    "4. Output: an integer that is the length of the sequence"
   ]
  },
  {
   "cell_type": "code",
   "execution_count": null,
   "metadata": {},
   "outputs": [],
   "source": [
    "len([1, 2, 3, 4, 5, 6, 7])"
   ]
  },
  {
   "cell_type": "markdown",
   "metadata": {},
   "source": [
    "In order to create our own functions, we must define the function *header* and the function *body*:\n",
    "\n",
    "- Function header:\n",
    "    1. `def` keyword\n",
    "    2. Function name\n",
    "    3. Sequence of inputs enclosed in parenthesis\n",
    "    4. A colon\n",
    "\n",
    "\n",
    "- Function body:\n",
    "    1. Indented block of code\n",
    "    2. `return` statement\n",
    "    \n",
    "    \n",
    "**Syntax**:    \n",
    "```\n",
    "def function_name(input1, input2...):\n",
    "\n",
    "    <code block>\n",
    "    \n",
    "    return <output>\n",
    "```"
   ]
  },
  {
   "cell_type": "markdown",
   "metadata": {},
   "source": [
    "Let us write a program that calculates the average of three numbers."
   ]
  },
  {
   "cell_type": "code",
   "execution_count": null,
   "metadata": {},
   "outputs": [],
   "source": [
    "num1 = 10\n",
    "num2 = 9\n",
    "num3 = 4\n",
    "\n",
    "avg = (num1 + num2 + num3) / 3\n",
    "\n",
    "print(avg)"
   ]
  },
  {
   "cell_type": "markdown",
   "metadata": {},
   "source": [
    "To increase the reusability of our program, we can place our code inside a function called `avg`."
   ]
  },
  {
   "cell_type": "code",
   "execution_count": null,
   "metadata": {},
   "outputs": [],
   "source": [
    "def avg3(num1, num2, num3):\n",
    "    \n",
    "    avg = (num1 + num2 + num3) / 3\n",
    "    \n",
    "    return avg"
   ]
  },
  {
   "cell_type": "markdown",
   "metadata": {},
   "source": [
    "> 📝 **Note:**  Functions must be defined (i.e., execute the code cell with the function) before we can use them in our program."
   ]
  },
  {
   "cell_type": "markdown",
   "metadata": {},
   "source": [
    "Once a function is defined, we can us it as many times as we want to, each time supplying the *function call* with new inputs."
   ]
  },
  {
   "cell_type": "code",
   "execution_count": null,
   "metadata": {},
   "outputs": [],
   "source": [
    "mean = avg3(num1 = 10, num2 = 9, num3 = 4)\n",
    "\n",
    "print(mean)"
   ]
  },
  {
   "cell_type": "code",
   "execution_count": null,
   "metadata": {},
   "outputs": [],
   "source": [
    "mean = avg3(num1 = 1, num2 = 9, num3 = 7)\n",
    "\n",
    "print(mean)"
   ]
  },
  {
   "cell_type": "code",
   "execution_count": null,
   "metadata": {},
   "outputs": [],
   "source": [
    "mean = avg3(num1 = 9.5, num2 = 6.2, num3 = 23)\n",
    "\n",
    "print(mean)"
   ]
  },
  {
   "cell_type": "markdown",
   "metadata": {},
   "source": [
    "<div class=\"alert alert-info\">\n",
    "<h3> Your turn</h3>\n",
    "    <p> Create a function called <code>avg4</code> that calculates the average of four numbers.\n",
    "      \n",
    "</div>"
   ]
  },
  {
   "cell_type": "code",
   "execution_count": null,
   "metadata": {},
   "outputs": [],
   "source": []
  },
  {
   "cell_type": "markdown",
   "metadata": {},
   "source": [
    "To further increase the reusability of our program, we can instead create a function called `avg_lst` that calculates the average of a *list* of numbers. The function takes only one input (the list of numbers), and it returns the average of that list."
   ]
  },
  {
   "cell_type": "code",
   "execution_count": null,
   "metadata": {},
   "outputs": [],
   "source": [
    "def avg_lst(number_lst):\n",
    "\n",
    "    lst_sum = sum(number_lst)  # Calculate the sum of the numbers\n",
    "\n",
    "    lst_length = len(number_lst)  # Calculate the lenght of the list\n",
    "\n",
    "    avg = lst_sum / lst_length  # Calculate the mean\n",
    "    \n",
    "    return avg"
   ]
  },
  {
   "cell_type": "markdown",
   "metadata": {},
   "source": [
    "We can now use the function to calculate the average of a list of numbers independent of the length of the list."
   ]
  },
  {
   "cell_type": "code",
   "execution_count": null,
   "metadata": {},
   "outputs": [],
   "source": [
    "mean = avg_lst(number_lst = [10, 9, 4, 5, 9, 10, 0])\n",
    "\n",
    "print(mean)"
   ]
  },
  {
   "cell_type": "code",
   "execution_count": null,
   "metadata": {},
   "outputs": [],
   "source": [
    "mean = avg_lst(number_lst = [1, 2, 3])\n",
    "\n",
    "print(mean)"
   ]
  },
  {
   "cell_type": "code",
   "execution_count": null,
   "metadata": {},
   "outputs": [],
   "source": [
    "mean = avg_lst(number_lst = [11.0, 10.5, 5.1, 10, 11])\n",
    "\n",
    "print(mean)"
   ]
  },
  {
   "cell_type": "markdown",
   "metadata": {},
   "source": [
    "We have so far looked at **value-returning functions**:\n",
    "- Use the `return` statement to return the output\n",
    "- The function output can be saved by assigning it to a variable\n",
    "\n",
    "In addition, there are also **non-value returning functions**:\n",
    "- No `return` statement...\n",
    "- ...but have other desirable \"side effects\"\n",
    "- Do not save function output to a variable name "
   ]
  },
  {
   "cell_type": "markdown",
   "metadata": {},
   "source": [
    "For example, let us modify `avg_lst` so that it instead *displays* the average of a list of numbers. We do this by substituting the `return` statement with a `print` statement."
   ]
  },
  {
   "cell_type": "code",
   "execution_count": null,
   "metadata": {},
   "outputs": [],
   "source": [
    "def avg_lst(number_lst):\n",
    "\n",
    "    lst_sum = sum(number_lst)\n",
    "\n",
    "    lst_length = len(number_lst)\n",
    "\n",
    "    avg = lst_sum / lst_length\n",
    "    \n",
    "    print(f'The mean is {avg:.2f}') # No return statement"
   ]
  },
  {
   "cell_type": "markdown",
   "metadata": {},
   "source": [
    "For non-value-returning functions, the function is called without assigning it to a variable."
   ]
  },
  {
   "cell_type": "code",
   "execution_count": null,
   "metadata": {},
   "outputs": [],
   "source": [
    "avg_lst(number_lst = [10, 9, 4, 5, 9, 10, 0])"
   ]
  },
  {
   "cell_type": "markdown",
   "metadata": {},
   "source": [
    "Note that we can still execute a non-value returning function by assigning it to a variable..."
   ]
  },
  {
   "cell_type": "code",
   "execution_count": null,
   "metadata": {},
   "outputs": [],
   "source": [
    "mean = avg_lst(number_lst = [10, 9, 4, 5, 9, 10, 0])"
   ]
  },
  {
   "cell_type": "markdown",
   "metadata": {},
   "source": [
    "...however, the variable will simply by empty, i.e., contain the value `None`."
   ]
  },
  {
   "cell_type": "code",
   "execution_count": null,
   "metadata": {},
   "outputs": [],
   "source": [
    "print(mean)"
   ]
  },
  {
   "cell_type": "markdown",
   "metadata": {},
   "source": [
    "<div class=\"alert alert-info\">\n",
    "<h3> Your turn</h3>\n",
    "    <p> Write a function called <code>tempConversion</code> that converts a temperature from Celsius to Fahrenheit. The function takes one input: a temperature in Celsius. The function should print the converted temperature in Fahrenheit.\n",
    "  \n",
    "Conversion from Celsius to Fahrenheit follows the formula: F = (C * 9 / 5) + 32\n",
    "        \n",
    "</div>"
   ]
  },
  {
   "cell_type": "code",
   "execution_count": null,
   "metadata": {},
   "outputs": [],
   "source": []
  },
  {
   "cell_type": "code",
   "execution_count": null,
   "metadata": {},
   "outputs": [],
   "source": []
  },
  {
   "cell_type": "markdown",
   "metadata": {},
   "source": [
    "## Function input\n",
    "\n",
    "To call a function, we must pass **arguments** to the required **parameters** of the function. This is know as *parameter passing*.\n",
    "\n",
    "Note that there are several ways to pass parameters to a function. "
   ]
  },
  {
   "cell_type": "markdown",
   "metadata": {},
   "source": [
    "The function `avg3` has three parameters, `num1`, `num2` and `num3`, and it prints the average of the three numbers."
   ]
  },
  {
   "cell_type": "code",
   "execution_count": null,
   "metadata": {},
   "outputs": [],
   "source": [
    "def avg3(num1, num2, num3):\n",
    "    \n",
    "    avg = (num1 + num2 + num3) / 3\n",
    "    \n",
    "    print(f'The mean is {avg:.2f}')"
   ]
  },
  {
   "cell_type": "markdown",
   "metadata": {},
   "source": [
    "We can call `avg3` by directly passing the arguments to the parameter names in the function call."
   ]
  },
  {
   "cell_type": "code",
   "execution_count": null,
   "metadata": {},
   "outputs": [],
   "source": [
    "avg3(num1 = 2, num2 = -5, num3 = 1.6)"
   ]
  },
  {
   "cell_type": "markdown",
   "metadata": {},
   "source": [
    "However, we actually do not have to specify the parameter names in the function call. As a default, the first argument is passed to the first parameter, the second argument is passed to the second parameter etc..."
   ]
  },
  {
   "cell_type": "code",
   "execution_count": null,
   "metadata": {},
   "outputs": [],
   "source": [
    "avg3(2, -5, 1.6)"
   ]
  },
  {
   "cell_type": "markdown",
   "metadata": {},
   "source": [
    "Alternatively, we can store the arguments in variables, and instead pass the variable names to the parameters in the function call."
   ]
  },
  {
   "cell_type": "code",
   "execution_count": null,
   "metadata": {},
   "outputs": [],
   "source": [
    "a = 2\n",
    "b = -5\n",
    "c = 1.6\n",
    "\n",
    "avg3(num1 = a, num2 = b, num3 = c) "
   ]
  },
  {
   "cell_type": "markdown",
   "metadata": {},
   "source": [
    "As before, we do not have to specify the parameter name in the function call."
   ]
  },
  {
   "cell_type": "code",
   "execution_count": null,
   "metadata": {},
   "outputs": [],
   "source": [
    "a = 2\n",
    "b = -5\n",
    "c = 1.6\n",
    "\n",
    "avg3(a, b, c) "
   ]
  },
  {
   "cell_type": "markdown",
   "metadata": {},
   "source": [
    "However, note that it is the *order* of the arguments in the function call that matters and not the *name* of the arguments (even if we have named the arguments the same as the parameters in the function)."
   ]
  },
  {
   "cell_type": "code",
   "execution_count": null,
   "metadata": {},
   "outputs": [],
   "source": [
    "def division(num1, num2):\n",
    "    print(num1 / num2)"
   ]
  },
  {
   "cell_type": "code",
   "execution_count": null,
   "metadata": {},
   "outputs": [],
   "source": [
    "num1 = 5\n",
    "num2 = 10\n",
    "\n",
    "division(num1, num2)"
   ]
  },
  {
   "cell_type": "code",
   "execution_count": null,
   "metadata": {},
   "outputs": [],
   "source": [
    "division(num2, num1)"
   ]
  },
  {
   "cell_type": "markdown",
   "metadata": {},
   "source": [
    "Parameters in the function header can also be supplied with default values, in which case it becomes *optional* to pass arguments to these parameters in the function call."
   ]
  },
  {
   "cell_type": "code",
   "execution_count": null,
   "metadata": {},
   "outputs": [],
   "source": [
    "def exp(num, exponent = 2): \n",
    "    \n",
    "    result = num**exponent\n",
    "    \n",
    "    return result"
   ]
  },
  {
   "cell_type": "code",
   "execution_count": null,
   "metadata": {},
   "outputs": [],
   "source": [
    "exp(3) # Use default value of \"exponent\""
   ]
  },
  {
   "cell_type": "code",
   "execution_count": null,
   "metadata": {},
   "outputs": [],
   "source": [
    "exp(3, 10) # Pass different value to \"exponent\""
   ]
  },
  {
   "attachments": {},
   "cell_type": "markdown",
   "metadata": {},
   "source": [
    "<div class=\"alert alert-info\">\n",
    "<h3> Your turn</h3>\n",
    "    <p> Modify the function <code>tempConversion</code> from the previous exercise so that it convert a temperature either from Fahrenheit to Celsius or from Celsius to Fahrenheit, and displays the converted temperature. The function takes two inputs: <code>temp</code>, which is a temperature, and <code>scale</code>, which is the scale of the temperature (F or C). As a default, the function should convert the temperature from Celsius to Fahrenheit.\n",
    "  \n",
    "Conversion from Celsius to Fahrenheit follows the formula: F = (C * 9 / 5) + 32\n",
    "\n",
    "Conversion from Fahrenheit to Celsius follows the formula: C = (5 / 9)*(F – 32) \n",
    "\n",
    "        \n",
    "</div>"
   ]
  },
  {
   "cell_type": "code",
   "execution_count": null,
   "metadata": {},
   "outputs": [],
   "source": []
  },
  {
   "cell_type": "code",
   "execution_count": null,
   "metadata": {},
   "outputs": [],
   "source": []
  },
  {
   "cell_type": "markdown",
   "metadata": {},
   "source": [
    "## Function output\n",
    "\n",
    "The return value of a function can be stored by assigning it to a *variable* or it can be used as a part of a larger *expression*:"
   ]
  },
  {
   "cell_type": "markdown",
   "metadata": {},
   "source": [
    "The function `exp` has one required parameter, `num`, and one optional parameter `exponent`, and it returns the number raised to the power of the exponent."
   ]
  },
  {
   "cell_type": "code",
   "execution_count": null,
   "metadata": {},
   "outputs": [],
   "source": [
    "def exp(num, exponent = 2): \n",
    "    \n",
    "    result = num**exponent\n",
    "    \n",
    "    return result"
   ]
  },
  {
   "cell_type": "markdown",
   "metadata": {},
   "source": [
    "We can make a function call to `exp` and store the output in a variable, and use the output in another function call."
   ]
  },
  {
   "cell_type": "code",
   "execution_count": null,
   "metadata": {},
   "outputs": [],
   "source": [
    "res1 = exp(2, 2)\n",
    "\n",
    "print(res1)"
   ]
  },
  {
   "cell_type": "code",
   "execution_count": null,
   "metadata": {},
   "outputs": [],
   "source": [
    "res2 = exp(4, res1)\n",
    "\n",
    "print(res2)"
   ]
  },
  {
   "cell_type": "markdown",
   "metadata": {},
   "source": [
    "Alternatively, we can pass the function call directly as an argument to another function call."
   ]
  },
  {
   "cell_type": "code",
   "execution_count": null,
   "metadata": {},
   "outputs": [],
   "source": [
    "res2 = exp(4, exp(2, 2))  # Pass function call as argument to parameter\n",
    "\n",
    "print(res2)"
   ]
  },
  {
   "cell_type": "markdown",
   "metadata": {},
   "source": [
    "We can also use multiple function calls in an operation."
   ]
  },
  {
   "cell_type": "code",
   "execution_count": null,
   "metadata": {},
   "outputs": [],
   "source": [
    "exp(10, 3) / exp(8, 3)"
   ]
  },
  {
   "cell_type": "markdown",
   "metadata": {},
   "source": [
    "We can even use function calls directly in conditional expressions."
   ]
  },
  {
   "cell_type": "code",
   "execution_count": null,
   "metadata": {},
   "outputs": [],
   "source": [
    "num = 10\n",
    "power = 3\n",
    "\n",
    "if exp(num, power) >= 1000:\n",
    "    print('Equal or larger than a 1000')\n",
    "else:\n",
    "    print('Smaller than a 1000')"
   ]
  },
  {
   "cell_type": "markdown",
   "metadata": {},
   "source": [
    "Note that a value-returning function can return both a variable and a value."
   ]
  },
  {
   "cell_type": "code",
   "execution_count": null,
   "metadata": {},
   "outputs": [],
   "source": [
    "def exp(num, exponent = 2):\n",
    "    \n",
    "    result = num**exponent  # Store value in a variable\n",
    "    \n",
    "    return result  # Return variable\n",
    "\n",
    "exp(8)"
   ]
  },
  {
   "cell_type": "code",
   "execution_count": null,
   "metadata": {},
   "outputs": [],
   "source": [
    "def exp(num, exponent = 2):\n",
    "    \n",
    "    return num**exponent  # Return value directly \n",
    "\n",
    "exp(8)"
   ]
  },
  {
   "cell_type": "markdown",
   "metadata": {},
   "source": [
    "A function can even have multiple `return` statements to control which value that should be returned."
   ]
  },
  {
   "cell_type": "code",
   "execution_count": null,
   "metadata": {},
   "outputs": [],
   "source": [
    "def checkAnswer(answer):\n",
    "    if answer == 'yes':\n",
    "        return True\n",
    "    else:\n",
    "        return False\n",
    "\n",
    "validAnswer = checkAnswer('yes')\n",
    "#validAnswer = checkAnswer('no')\n",
    "\n",
    "print(validAnswer)"
   ]
  },
  {
   "cell_type": "markdown",
   "metadata": {},
   "source": [
    "Finally, note that a function can have multiple *return values*."
   ]
  },
  {
   "cell_type": "code",
   "execution_count": null,
   "metadata": {},
   "outputs": [],
   "source": [
    "def calculations(num1, num2):\n",
    "\n",
    "    res1 = num1 * num2\n",
    "    res2 = num1 / num2\n",
    "\n",
    "    return res1, res2 # Return two values"
   ]
  },
  {
   "cell_type": "code",
   "execution_count": null,
   "metadata": {},
   "outputs": [],
   "source": [
    "results = calculations(10, 5)\n",
    "\n",
    "results"
   ]
  },
  {
   "cell_type": "code",
   "execution_count": null,
   "metadata": {},
   "outputs": [],
   "source": []
  },
  {
   "cell_type": "markdown",
   "metadata": {},
   "source": [
    "## Implementing and testing functions\n",
    "\n",
    "When designing functions there are a few conventions that should be followed and common pitfalls that should be avoided."
   ]
  },
  {
   "cell_type": "markdown",
   "metadata": {},
   "source": [
    "**1. Ensure that the function catches all scenarios**\n",
    "\n",
    "Failure to do so can result in errors later on in the program."
   ]
  },
  {
   "cell_type": "code",
   "execution_count": null,
   "metadata": {},
   "outputs": [],
   "source": [
    "def checkNumber(num1, num2):\n",
    "    if num1 > num2:\n",
    "        return 0"
   ]
  },
  {
   "cell_type": "code",
   "execution_count": null,
   "metadata": {},
   "outputs": [],
   "source": [
    "res = checkNumber(20, 10)\n",
    "\n",
    "print(res)"
   ]
  },
  {
   "cell_type": "code",
   "execution_count": null,
   "metadata": {},
   "outputs": [],
   "source": [
    "res = checkNumber(10, 20)\n",
    "\n",
    "print(res)"
   ]
  },
  {
   "cell_type": "markdown",
   "metadata": {},
   "source": [
    "> 📝 **Note:**  The default return value of a function in Python is `None` unless an explicit return value is specified with the `return` statement."
   ]
  },
  {
   "cell_type": "code",
   "execution_count": null,
   "metadata": {},
   "outputs": [],
   "source": [
    "# TypeError (because \"res\" is empty)\n",
    "res * 100  "
   ]
  },
  {
   "cell_type": "markdown",
   "metadata": {},
   "source": [
    "**2. Local versus global variables**\n",
    "\n",
    "Variables that are created within a function are *local* variables. These variables are not available outside the function (unless explicitly returned in the `return` statement). "
   ]
  },
  {
   "cell_type": "code",
   "execution_count": null,
   "metadata": {},
   "outputs": [],
   "source": [
    "def exp2(num):\n",
    "    \n",
    "    exponent = 2 # Local variable\n",
    "    \n",
    "    return num**exponent\n",
    "\n",
    "exp2(4)"
   ]
  },
  {
   "cell_type": "markdown",
   "metadata": {},
   "source": [
    "We cannot acces local variables outside of the function where they are created."
   ]
  },
  {
   "cell_type": "code",
   "execution_count": null,
   "metadata": {},
   "outputs": [],
   "source": [
    "# NameError (because \"exponent\" only exists within the exp2 function)\n",
    "exponent"
   ]
  },
  {
   "cell_type": "markdown",
   "metadata": {},
   "source": [
    "Local variables are actually great! They allow us to re-use variable names in different functions without causing any name conflicts, i.e., overwritting variable names.\n",
    "\n",
    "For example, the variables `exponent` are local to each of the functions `exp2` and `exp3` and they can therefore have two different values even though they share the same name."
   ]
  },
  {
   "cell_type": "code",
   "execution_count": null,
   "metadata": {},
   "outputs": [],
   "source": [
    "def exp3(num):\n",
    "    \n",
    "    exponent = 3 # Local variable\n",
    "    \n",
    "    return num**exponent\n",
    "\n",
    "exp3(4)"
   ]
  },
  {
   "cell_type": "markdown",
   "metadata": {},
   "source": [
    "The *scope* of a variable is the part of the program in which the variable is \"visible\", i.e., we can access the value.\n",
    "\n",
    "Variables that are defined outside of a function are said to have global scope\" and are often called *global* variables."
   ]
  },
  {
   "cell_type": "code",
   "execution_count": null,
   "metadata": {},
   "outputs": [],
   "source": [
    "num = 10 # Global variable"
   ]
  },
  {
   "cell_type": "markdown",
   "metadata": {},
   "source": [
    "Note that functions can access all global variables even if they are not passed explicitly to the function call. "
   ]
  },
  {
   "cell_type": "code",
   "execution_count": null,
   "metadata": {},
   "outputs": [],
   "source": [
    "exponent = 2 # Global variable\n",
    "\n",
    "def exp2(num):\n",
    "    \n",
    "    return num**exponent # Use global variable inside function\n",
    "\n",
    "exp2(num = 4)"
   ]
  },
  {
   "cell_type": "markdown",
   "metadata": {},
   "source": [
    "However, this is BAD🚫🙅 programming practice. Using global variables means that we can no longer view functions as \"black boxes\" that recieve inputs and return an output, which makes our programs more vulnerable to errors. \n",
    "\n",
    "Instead, all variables required by the function should either be defined inside the function... "
   ]
  },
  {
   "cell_type": "code",
   "execution_count": null,
   "metadata": {},
   "outputs": [],
   "source": [
    "def exp2(num):\n",
    "    \n",
    "    exponent = 2 # Local variable\n",
    "    \n",
    "    return num**exponent\n",
    "\n",
    "exp2(num = 4)"
   ]
  },
  {
   "cell_type": "markdown",
   "metadata": {},
   "source": [
    "...or defined as parameters in the function header."
   ]
  },
  {
   "cell_type": "code",
   "execution_count": null,
   "metadata": {},
   "outputs": [],
   "source": [
    "exponent = 2 # Global variable\n",
    "\n",
    "def exp2(num, exponent):\n",
    "    \n",
    "    return num**exponent\n",
    "\n",
    "exp2(4, exponent) # Global variable passed as argument"
   ]
  },
  {
   "cell_type": "markdown",
   "metadata": {},
   "source": [
    "**3. It is good programming practice to place code inside functions**\n",
    "\n",
    "Due to the complexity of many programs, we often prefer to place our code inside one or multiple functions to increase the readability and reusability of the code. In addition, this saves the namespace of our programs, i.e., fewer global variables to keep track of."
   ]
  },
  {
   "cell_type": "markdown",
   "metadata": {},
   "source": [
    "Note that we can actually make function calls inside another function."
   ]
  },
  {
   "cell_type": "code",
   "execution_count": null,
   "metadata": {},
   "outputs": [],
   "source": [
    "def exp(num, exponent):\n",
    "    res = num ** exponent\n",
    "    return res\n",
    "\n",
    "def print_result():    \n",
    "    res = exp(3, 2) # Function call to \"exp\"\n",
    "    print(res)\n",
    "\n",
    "print_result()"
   ]
  },
  {
   "cell_type": "markdown",
   "metadata": {},
   "source": [
    "In addition, we often use a single function to execute the entire program. "
   ]
  },
  {
   "cell_type": "markdown",
   "metadata": {},
   "source": [
    "> 📝 **Note:**  It is convention to use the name `main` for the \"mother\" function, i.e., the function that runs the program."
   ]
  },
  {
   "cell_type": "markdown",
   "metadata": {},
   "source": [
    "The `main` function should execute the entire program by making all of the necessary function calls, and it should return and/or display the outcome of the program."
   ]
  },
  {
   "cell_type": "code",
   "execution_count": null,
   "metadata": {},
   "outputs": [],
   "source": [
    "def exp(num, base):\n",
    "    res = num ** base\n",
    "    return res\n",
    "\n",
    "def main(): # \"main\" takes no inputs\n",
    "    \n",
    "    # Define local variables\n",
    "    number = 3\n",
    "    exponent = 2\n",
    "\n",
    "    # Function call to \"exp\"\n",
    "    res = exp(number, exponent) \n",
    "\n",
    "    # Print result\n",
    "    print(f'{num}^{exponent} = {res:.2f}')"
   ]
  },
  {
   "cell_type": "markdown",
   "metadata": {},
   "source": [
    "We can then run the entire program by simply calling the `main` function."
   ]
  },
  {
   "cell_type": "code",
   "execution_count": null,
   "metadata": {},
   "outputs": [],
   "source": [
    "main()"
   ]
  },
  {
   "cell_type": "markdown",
   "metadata": {},
   "source": [
    "<div class=\"alert alert-info\">\n",
    "<h3> Your turn</h3>\n",
    "    <p> Expand the program above by adding a function called <code>getNum</code> that prompts the user for a number to exponantiate. The <code>main</code> function should now get the number from the user, square the supplied number, and print the result of the operation to the user.\n",
    "        \n",
    "</div>"
   ]
  },
  {
   "cell_type": "code",
   "execution_count": null,
   "metadata": {},
   "outputs": [],
   "source": []
  },
  {
   "cell_type": "code",
   "execution_count": null,
   "metadata": {},
   "outputs": [],
   "source": []
  }
 ],
 "metadata": {
  "kernelspec": {
   "display_name": "Python 3 (ipykernel)",
   "language": "python",
   "name": "python3"
  },
  "language_info": {
   "codemirror_mode": {
    "name": "ipython",
    "version": 3
   },
   "file_extension": ".py",
   "mimetype": "text/x-python",
   "name": "python",
   "nbconvert_exporter": "python",
   "pygments_lexer": "ipython3",
   "version": "3.12.4"
  }
 },
 "nbformat": 4,
 "nbformat_minor": 4
}
