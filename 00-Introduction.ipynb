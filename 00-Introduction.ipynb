{
 "cells": [
  {
   "cell_type": "markdown",
   "id": "2c550154-ba49-4340-a380-373ef14d48db",
   "metadata": {},
   "source": [
    "# 00 - Introduction\n",
    "\n",
    "This notebook gives an introduction to Python programming in Jupyter notebooks."
   ]
  },
  {
   "cell_type": "markdown",
   "id": "b998f763-e719-4e35-a673-5abdef3ff297",
   "metadata": {},
   "source": [
    "A Jupyter notebook consists of cells.\n",
    "\n",
    "We can add a new cell by pressing the plus sign in the menu, and delete an existing one by pressing the scissor sign. Alternatively, we can use the short cuts `b` and `d, d`, respectively. \n",
    "\n",
    "See [this](https://digitalhumanities.hkust.edu.hk/tutorials/jupyter-notebook-tips-and-shortcuts/) overview for the different shortcuts in Jupyter notebook."
   ]
  },
  {
   "cell_type": "markdown",
   "id": "569a39a1-ac04-4b65-8098-d008ac293ed5",
   "metadata": {},
   "source": [
    "In Jupyter notebook, we can run a cell by selecting the cell and going to the menu and pressing `Run` -> `Run Selected Cell` (or use the shortcut `Shift + Enter`).\n",
    "\n",
    "However, the output of running a cell depends on the cell type."
   ]
  },
  {
   "cell_type": "code",
   "execution_count": null,
   "id": "82a14d17-bfc6-4acf-aac9-73061a50fa94",
   "metadata": {},
   "outputs": [],
   "source": []
  },
  {
   "cell_type": "markdown",
   "id": "a8ada451-cfbc-4f53-949d-7b1d928c3f5d",
   "metadata": {},
   "source": [
    "## `Code` cells\n",
    "\n",
    "If the cell is a `Code` cell, then running the cell will execute the Python code in the cell."
   ]
  },
  {
   "cell_type": "code",
   "execution_count": 3,
   "id": "15c055bc-735c-4f88-9f9e-16c9d50986fe",
   "metadata": {},
   "outputs": [
    {
     "data": {
      "text/plain": [
       "4"
      ]
     },
     "execution_count": 3,
     "metadata": {},
     "output_type": "execute_result"
    }
   ],
   "source": [
    "2 + 2"
   ]
  },
  {
   "cell_type": "markdown",
   "id": "0bd4dd75-3548-4759-9cc4-f6062a51039b",
   "metadata": {},
   "source": [
    "We can use Python as a calculator. Python supports all types of arithmetic operations.\n",
    "\n",
    "Notice that to exponentiate, Python uses a double \"multiplication\" sign."
   ]
  },
  {
   "cell_type": "code",
   "execution_count": 4,
   "id": "dd202cc4-6698-4a60-8b2e-4005a8ae2a3b",
   "metadata": {},
   "outputs": [
    {
     "data": {
      "text/plain": [
       "0.75"
      ]
     },
     "execution_count": 4,
     "metadata": {},
     "output_type": "execute_result"
    }
   ],
   "source": [
    "(2 + 4) / 8"
   ]
  },
  {
   "cell_type": "code",
   "execution_count": 5,
   "id": "4eb762c3-b6bd-4b26-8b0e-df821a37d65f",
   "metadata": {},
   "outputs": [
    {
     "data": {
      "text/plain": [
       "6"
      ]
     },
     "execution_count": 5,
     "metadata": {},
     "output_type": "execute_result"
    }
   ],
   "source": [
    "2 * 3"
   ]
  },
  {
   "cell_type": "code",
   "execution_count": 6,
   "id": "ddb23b35-5203-48a1-bf76-e195c137682a",
   "metadata": {},
   "outputs": [
    {
     "data": {
      "text/plain": [
       "8"
      ]
     },
     "execution_count": 6,
     "metadata": {},
     "output_type": "execute_result"
    }
   ],
   "source": [
    "2 ** 3"
   ]
  },
  {
   "cell_type": "markdown",
   "id": "cef71ffa-6599-4d7c-bb13-76194b08d493",
   "metadata": {},
   "source": [
    "It is convention in the Python community to use space in order to enhance the readibility of our code. While `2+2` is allowed, it is preferred to write it as `2 + 2`.\n",
    "\n",
    "In both programming and data analysis it is important to document your work so that others can replicate your code/analysis. We therefore add comments to our code to help others understand (and remind ourselves of) the logic behind our code. \n",
    "\n",
    "We can add comments inside `Code` cells by using the `#` symbol."
   ]
  },
  {
   "cell_type": "code",
   "execution_count": null,
   "id": "548c8b46-44b5-4b98-ae89-47c93077b166",
   "metadata": {},
   "outputs": [],
   "source": [
    "# While this is allowed...\n",
    "2+2"
   ]
  },
  {
   "cell_type": "code",
   "execution_count": null,
   "id": "d680d99e-4372-4bd3-8787-cf049e163d3a",
   "metadata": {},
   "outputs": [],
   "source": [
    "# ...we usually prefer to use more space\n",
    "2 + 2"
   ]
  },
  {
   "cell_type": "code",
   "execution_count": null,
   "id": "d192ac06-3118-4e27-9478-5ff7dcbd65c2",
   "metadata": {},
   "outputs": [],
   "source": []
  },
  {
   "cell_type": "markdown",
   "id": "905e1d60-71f1-4906-8aa3-421d55878240",
   "metadata": {},
   "source": [
    "## `Markdown` cells\n",
    "\n",
    "One of the main reasons for why Jupyter notebooks are so popular among data analysts is the ability to mix Python code with Markdown code. This makes it easier to add longer comments that explains how the analysis has been executed and the results found. Jupyter notebooks enhance the reproducability of research!\n",
    "\n",
    "If a cell is a `Markdown` cell, then running the cell will display the content in the cell as text."
   ]
  },
  {
   "cell_type": "markdown",
   "id": "85faa0ea-f721-4fdf-931b-474d588b4237",
   "metadata": {},
   "source": [
    "2 + 2"
   ]
  },
  {
   "cell_type": "markdown",
   "id": "f4a1320e-50b7-46fa-b8a8-e78c56b08abb",
   "metadata": {},
   "source": [
    "In addition to displaying plain text, we can use `Markdown` code to format text.\n",
    "\n",
    "For example, we can use a single or multiple `#` to generate titles:\n",
    "\n",
    "# title\n",
    "## title\n",
    "### title\n",
    "#### title"
   ]
  },
  {
   "cell_type": "markdown",
   "id": "d02951dc-13a3-4f0a-a4be-d8dbd98528e0",
   "metadata": {},
   "source": [
    "Or we can create lists:"
   ]
  },
  {
   "cell_type": "markdown",
   "id": "854e4b55-7405-4b84-9147-d80982f2b8a7",
   "metadata": {},
   "source": [
    "**Bullet point list**\n",
    "- item 1\n",
    "- item 2\n",
    "- item 3"
   ]
  },
  {
   "cell_type": "markdown",
   "id": "5267b0f0-b98f-4601-9581-eed5cda3951a",
   "metadata": {},
   "source": [
    "*Numbered list*\n",
    "1. item \n",
    "2. item\n",
    "3. item"
   ]
  },
  {
   "cell_type": "code",
   "execution_count": null,
   "id": "a8a0b4f5-76f7-441c-8a2f-fae41cbaa142",
   "metadata": {},
   "outputs": [],
   "source": []
  },
  {
   "cell_type": "markdown",
   "id": "82a3d79a-d8c8-4ef3-98aa-678d44772b60",
   "metadata": {},
   "source": [
    "## Variables\n",
    "\n",
    "In programming, we often store the inputs and outputs of our code in variables.\n",
    "\n",
    "A variable is a named storage location in the computer that associates a *name* (identifier) with a specific *value*.\n",
    "\n",
    "Variables are created by assigning an initial value to an identifier using the equality sign (=)."
   ]
  },
  {
   "cell_type": "code",
   "execution_count": 13,
   "id": "d97f86d5-1ac5-4ba5-b4bd-1321b7a7d70f",
   "metadata": {},
   "outputs": [
    {
     "data": {
      "text/plain": [
       "10"
      ]
     },
     "execution_count": 13,
     "metadata": {},
     "output_type": "execute_result"
    }
   ],
   "source": [
    "num = 10\n",
    "num"
   ]
  },
  {
   "cell_type": "markdown",
   "id": "9592ce02-262c-4ebb-97ec-9e5258dc04e7",
   "metadata": {},
   "source": [
    "Python is a *dynamically-typed* language, which means that we can change the value of a variable throughout a program. In other words, we can overwrite variables."
   ]
  },
  {
   "cell_type": "code",
   "execution_count": 14,
   "id": "aa56f378-ffa6-4361-9a93-f8e24d650eef",
   "metadata": {},
   "outputs": [
    {
     "data": {
      "text/plain": [
       "20"
      ]
     },
     "execution_count": 14,
     "metadata": {},
     "output_type": "execute_result"
    }
   ],
   "source": [
    "num = num + 10\n",
    "num"
   ]
  },
  {
   "cell_type": "markdown",
   "id": "68980dc5-b3de-4a81-8630-7a153bd82444",
   "metadata": {},
   "source": [
    "The same value can also be assigned to several identifiers:"
   ]
  },
  {
   "cell_type": "code",
   "execution_count": 15,
   "id": "2110d457-8537-466f-9bf6-d88a545475e8",
   "metadata": {},
   "outputs": [
    {
     "data": {
      "text/plain": [
       "20"
      ]
     },
     "execution_count": 15,
     "metadata": {},
     "output_type": "execute_result"
    }
   ],
   "source": [
    "k = 20\n",
    "k"
   ]
  },
  {
   "cell_type": "markdown",
   "id": "f7c3bb65-553a-450c-9005-5b76d739ed98",
   "metadata": {},
   "source": [
    "There are several rules that must be followed when naming variables in Python. A variable name cannot:\n",
    "- start with a number\n",
    "- contain spaces\n",
    "- contain special characters, e.g. !, ', #, @ etc."
   ]
  },
  {
   "cell_type": "markdown",
   "id": "ce5ba433-5a26-4850-9040-883b2aab3343",
   "metadata": {},
   "source": [
    "Failure to obey the naming rules, will cause a `SyntaxError`."
   ]
  },
  {
   "cell_type": "code",
   "execution_count": 19,
   "id": "a727ad88-cb11-4331-bd20-fab189a7b908",
   "metadata": {},
   "outputs": [
    {
     "ename": "SyntaxError",
     "evalue": "invalid syntax (306151047.py, line 2)",
     "output_type": "error",
     "traceback": [
      "\u001b[1;36m  Cell \u001b[1;32mIn[19], line 2\u001b[1;36m\u001b[0m\n\u001b[1;33m    six pack = 6\u001b[0m\n\u001b[1;37m        ^\u001b[0m\n\u001b[1;31mSyntaxError\u001b[0m\u001b[1;31m:\u001b[0m invalid syntax\n"
     ]
    }
   ],
   "source": [
    "# Variable name cannot contain spaces\n",
    "six pack = 6"
   ]
  },
  {
   "cell_type": "code",
   "execution_count": 21,
   "id": "8f905920-4dd6-4c7c-8885-9fb1fb0d7a81",
   "metadata": {},
   "outputs": [],
   "source": [
    "# Instead, we often use underscores in variable names\n",
    "six_pack = 6"
   ]
  },
  {
   "cell_type": "markdown",
   "id": "b5e21a54-b8fe-4731-a0be-58bf0bf148cd",
   "metadata": {},
   "source": [
    "### Numeric data\n",
    "\n",
    "Numeric data are variables containing only digits (with an optional sign character and/or decimal point). \n",
    "\n",
    "In Python, a whole number (i.e., no decimals) is called an *integer*, while a number with decimals is called a *float*."
   ]
  },
  {
   "cell_type": "markdown",
   "id": "1f5de230-7e46-4011-be80-205d83bb97fb",
   "metadata": {},
   "source": [
    "Note that commas are never used to define floats in Python! Instead, we use the `.` for the decimal point."
   ]
  },
  {
   "cell_type": "code",
   "execution_count": 11,
   "id": "fd31c2eb-03ab-480c-aff7-6b4cbfd8b315",
   "metadata": {},
   "outputs": [],
   "source": [
    "x = 12.5"
   ]
  },
  {
   "cell_type": "markdown",
   "id": "f119d8d7-352c-459b-94f4-f04cd678fc66",
   "metadata": {},
   "source": [
    "Note that evaluating expressions with both integers and floats will always return a float."
   ]
  },
  {
   "cell_type": "code",
   "execution_count": 13,
   "id": "ae1decbf-626e-4fd4-afd8-097e01ea93c5",
   "metadata": {},
   "outputs": [
    {
     "data": {
      "text/plain": [
       "11.0"
      ]
     },
     "execution_count": 13,
     "metadata": {},
     "output_type": "execute_result"
    }
   ],
   "source": [
    "eq = 7 + 4.0\n",
    "eq"
   ]
  },
  {
   "cell_type": "markdown",
   "id": "3d169e50-727a-4d95-96e9-8b11291176f1",
   "metadata": {},
   "source": [
    "We can use the `type` function to get the data type of a variable."
   ]
  },
  {
   "cell_type": "code",
   "execution_count": 29,
   "id": "7f975d8c-5bca-4690-a1ef-9d3c2fc73fb7",
   "metadata": {},
   "outputs": [
    {
     "data": {
      "text/plain": [
       "float"
      ]
     },
     "execution_count": 29,
     "metadata": {},
     "output_type": "execute_result"
    }
   ],
   "source": [
    "type(eq)"
   ]
  },
  {
   "cell_type": "markdown",
   "id": "e22e0275-8e8a-4e1f-b325-a4197e24b1ea",
   "metadata": {},
   "source": [
    "We can use the `int` function to convert a float to an integer. Note that this will simply drop everything after the decimal point."
   ]
  },
  {
   "cell_type": "code",
   "execution_count": 30,
   "id": "72aa5990-521e-4ead-af14-a61032ed1451",
   "metadata": {},
   "outputs": [
    {
     "data": {
      "text/plain": [
       "11"
      ]
     },
     "execution_count": 30,
     "metadata": {},
     "output_type": "execute_result"
    }
   ],
   "source": [
    "int(eq)"
   ]
  },
  {
   "cell_type": "code",
   "execution_count": 32,
   "id": "8df1f2de-0b48-4cba-9423-454e3b2862d8",
   "metadata": {},
   "outputs": [
    {
     "data": {
      "text/plain": [
       "12"
      ]
     },
     "execution_count": 32,
     "metadata": {},
     "output_type": "execute_result"
    }
   ],
   "source": [
    "int(x)"
   ]
  },
  {
   "cell_type": "markdown",
   "id": "0a812d03-cbda-42cd-9b4c-53051e978fd3",
   "metadata": {},
   "source": [
    "### String data\n",
    "\n",
    "In Python, we call text data for *strings*. \n",
    "\n",
    "A string is any sequence of characters. The characters can be letters, numbers, special character, spaces etc."
   ]
  },
  {
   "cell_type": "markdown",
   "id": "fed30956-0ab1-461f-b08b-fcc7798876ee",
   "metadata": {},
   "source": [
    "Strings are created by placing the sequence of characters between a pair of single quotes or double quotes (it is fine to use either one as long as you are consistent in your use). "
   ]
  },
  {
   "cell_type": "code",
   "execution_count": 33,
   "id": "9ce901dd-2fec-4291-b01f-20357bec7f6a",
   "metadata": {},
   "outputs": [
    {
     "data": {
      "text/plain": [
       "'This is how many prefers to print strings'"
      ]
     },
     "execution_count": 33,
     "metadata": {},
     "output_type": "execute_result"
    }
   ],
   "source": [
    "sentence = \"This is how many prefers to write strings\"\n",
    "\n",
    "sentence"
   ]
  },
  {
   "cell_type": "code",
   "execution_count": 34,
   "id": "1977af3c-cc91-4193-81f0-323d6918ee6e",
   "metadata": {},
   "outputs": [
    {
     "data": {
      "text/plain": [
       "'This is is how I prefer to print strings'"
      ]
     },
     "execution_count": 34,
     "metadata": {},
     "output_type": "execute_result"
    }
   ],
   "source": [
    "sentence = 'This is is how I prefer to write strings'\n",
    "\n",
    "sentence"
   ]
  },
  {
   "cell_type": "markdown",
   "id": "a649a33a-a1d5-456b-850f-54ea58053617",
   "metadata": {},
   "source": [
    "Strings can contain quotation marks (' or \") as long as different quotation marks are used to delimit the string."
   ]
  },
  {
   "cell_type": "code",
   "execution_count": 15,
   "id": "7ae721b7-ac94-4ed8-9972-298af784a6a9",
   "metadata": {},
   "outputs": [
    {
     "ename": "SyntaxError",
     "evalue": "unterminated string literal (detected at line 2) (561659316.py, line 2)",
     "output_type": "error",
     "traceback": [
      "\u001b[1;36m  Cell \u001b[1;32mIn[15], line 2\u001b[1;36m\u001b[0m\n\u001b[1;33m    sentence = 'We're having fun with Python today!')\u001b[0m\n\u001b[1;37m                                                   ^\u001b[0m\n\u001b[1;31mSyntaxError\u001b[0m\u001b[1;31m:\u001b[0m unterminated string literal (detected at line 2)\n"
     ]
    }
   ],
   "source": [
    "# SyntaxErrors\n",
    "sentence = 'We're having fun with Python today!')"
   ]
  },
  {
   "cell_type": "code",
   "execution_count": 16,
   "id": "6c5a2263-51a1-45cb-8c73-f707e39b5637",
   "metadata": {},
   "outputs": [
    {
     "data": {
      "text/plain": [
       "\"We're having fun with Python today!\""
      ]
     },
     "execution_count": 16,
     "metadata": {},
     "output_type": "execute_result"
    }
   ],
   "source": [
    "# Valid string\n",
    "sentence = \"We're having fun with Python today!\"\n",
    "\n",
    "sentence"
   ]
  },
  {
   "cell_type": "markdown",
   "id": "3a4cf0b7-84cf-419c-bbbe-aabd8a2b35c1",
   "metadata": {},
   "source": [
    "Note that we can use the `print` function to display a string without the quotation marks."
   ]
  },
  {
   "cell_type": "code",
   "execution_count": 14,
   "id": "edf073d6-9ae7-45dd-9702-7725abb8a55c",
   "metadata": {},
   "outputs": [
    {
     "name": "stdout",
     "output_type": "stream",
     "text": [
      "We're having fun with Python today!\n"
     ]
    }
   ],
   "source": [
    "print(\"We're having fun with Python today!\")"
   ]
  },
  {
   "cell_type": "markdown",
   "id": "c743fefc-f7cd-4640-a228-d3ebf3ff35df",
   "metadata": {},
   "source": [
    "Although we cannot perform arithmetic operations on strings (duh!), we can still use the `+` operator to add strings together."
   ]
  },
  {
   "cell_type": "code",
   "execution_count": 19,
   "id": "64aa6eed-2b48-41c9-bb7b-3a6806e9f383",
   "metadata": {},
   "outputs": [
    {
     "data": {
      "text/plain": [
       "'Hello world!'"
      ]
     },
     "execution_count": 19,
     "metadata": {},
     "output_type": "execute_result"
    }
   ],
   "source": [
    "word1 = 'Hello'\n",
    "word2 = 'world!'\n",
    "\n",
    "word1 + ' ' + word2"
   ]
  },
  {
   "cell_type": "markdown",
   "id": "828c50d7-0e76-40fc-ad9b-55035f7a0933",
   "metadata": {},
   "source": [
    "We can use the `str` function to convert a number to a string."
   ]
  },
  {
   "cell_type": "code",
   "execution_count": 20,
   "id": "df678149-de33-43c5-b498-c35601d2f392",
   "metadata": {},
   "outputs": [
    {
     "data": {
      "text/plain": [
       "'10'"
      ]
     },
     "execution_count": 20,
     "metadata": {},
     "output_type": "execute_result"
    }
   ],
   "source": [
    "num = 10\n",
    "#num = 10.2\n",
    "\n",
    "str(num)"
   ]
  },
  {
   "cell_type": "markdown",
   "id": "84ddb336-4b6c-4f8f-83dc-e68c1adfac6f",
   "metadata": {},
   "source": [
    "Note that we can also use the `int` and `float` functions to convert a string to number."
   ]
  },
  {
   "cell_type": "code",
   "execution_count": 45,
   "id": "8e6a4255-96dc-41b4-a0ef-0b73a0b1fbb2",
   "metadata": {},
   "outputs": [
    {
     "data": {
      "text/plain": [
       "10"
      ]
     },
     "execution_count": 45,
     "metadata": {},
     "output_type": "execute_result"
    }
   ],
   "source": [
    "num = '10'\n",
    "\n",
    "int(num)"
   ]
  },
  {
   "cell_type": "code",
   "execution_count": 53,
   "id": "615e603b-c425-4bfd-9e61-23251656dd1e",
   "metadata": {},
   "outputs": [
    {
     "data": {
      "text/plain": [
       "10.2"
      ]
     },
     "execution_count": 53,
     "metadata": {},
     "output_type": "execute_result"
    }
   ],
   "source": [
    "num = '10.2'\n",
    "\n",
    "float(num)"
   ]
  },
  {
   "cell_type": "markdown",
   "id": "58bd62d9-cf35-45e3-8015-eefae01135f7",
   "metadata": {},
   "source": [
    "<div class=\"alert alert-info\">\n",
    "<h3> Your turn</h3>\n",
    "    <p> <b>MathTechQuest</b>: We have two equations: <code>eq1 = abc * de</code> and <code>eq2 = fgh * ij</code>, in which the variables <code>a-j</code> are equal to one of the digits <code>0-9</code>. Each digit can only be used once, and the numbers in the equation cannot begin with 0 (i.e., <code>a</code>, <code>d</code>, <code>f</code> and <code>i</code> cannot be zero). \n",
    "\n",
    "Write a program that assigns the digits to the variables, and calculates the two equations. Play around with the numbers and see if you find a combination in which the two equations are equal (i.e., <code>eq1=eq2</code>. \n",
    "        \n",
    "</div>"
   ]
  },
  {
   "cell_type": "code",
   "execution_count": null,
   "id": "07b73a11-bb15-4d57-99b8-3f672767bfd1",
   "metadata": {},
   "outputs": [],
   "source": []
  },
  {
   "cell_type": "code",
   "execution_count": null,
   "id": "930c233b-896f-4c8b-9003-529b7b593db9",
   "metadata": {},
   "outputs": [],
   "source": []
  }
 ],
 "metadata": {
  "kernelspec": {
   "display_name": "Python 3 (ipykernel)",
   "language": "python",
   "name": "python3"
  },
  "language_info": {
   "codemirror_mode": {
    "name": "ipython",
    "version": 3
   },
   "file_extension": ".py",
   "mimetype": "text/x-python",
   "name": "python",
   "nbconvert_exporter": "python",
   "pygments_lexer": "ipython3",
   "version": "3.12.4"
  }
 },
 "nbformat": 4,
 "nbformat_minor": 5
}
