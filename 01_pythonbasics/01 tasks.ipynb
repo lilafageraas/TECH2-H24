{
 "cells": [
  {
   "cell_type": "markdown",
   "id": "62ab59e5-8678-4c73-9d9e-6f32f381f189",
   "metadata": {},
   "source": [
    "Exercise #1\n",
    "\n",
    "Write a program that divides two integers:\n",
    "\n",
    "• Use the input function to prompt the user for two\n",
    "integer values\n",
    "\n",
    "• Divide the first number on the second number\n",
    "\n",
    "• Display the result of the operation with one decimal"
   ]
  },
  {
   "cell_type": "code",
   "execution_count": 54,
   "id": "a30dd260-680c-430f-91b1-821d48242374",
   "metadata": {},
   "outputs": [
    {
     "data": {
      "text/plain": [
       "33"
      ]
     },
     "execution_count": 54,
     "metadata": {},
     "output_type": "execute_result"
    }
   ],
   "source": [
    "num1=int(33)\n",
    "num1"
   ]
  },
  {
   "cell_type": "code",
   "execution_count": 62,
   "id": "66c07e7d-8f4f-4265-ac83-f3d08bb4bbe4",
   "metadata": {},
   "outputs": [
    {
     "data": {
      "text/plain": [
       "2"
      ]
     },
     "execution_count": 62,
     "metadata": {},
     "output_type": "execute_result"
    }
   ],
   "source": [
    "num2=int(2)\n",
    "num2"
   ]
  },
  {
   "cell_type": "code",
   "execution_count": 70,
   "id": "98751564-bb81-4d3e-a98c-18684a7e63e5",
   "metadata": {},
   "outputs": [
    {
     "name": "stdout",
     "output_type": "stream",
     "text": [
      "33/2=16.5\n"
     ]
    }
   ],
   "source": [
    "res=num1/num2\n",
    "print(f'{num1}/{num2}={res:.1f}')"
   ]
  },
  {
   "cell_type": "code",
   "execution_count": 66,
   "id": "deba1103-6e41-40ca-842f-f008ba445a11",
   "metadata": {},
   "outputs": [
    {
     "data": {
      "text/plain": [
       "16.5"
      ]
     },
     "execution_count": 66,
     "metadata": {},
     "output_type": "execute_result"
    }
   ],
   "source": [
    "num3=num1/num2\n",
    "num3"
   ]
  },
  {
   "cell_type": "markdown",
   "id": "3a131968-feaa-4c07-933f-83a5c84a9771",
   "metadata": {},
   "source": [
    "Exercise #2\n",
    "\n",
    "Write a program that divides two floats:\n",
    "\n",
    "• Use the input function to prompt the user for two\n",
    "float values\n",
    "\n",
    "• Divide the first number on the second number\n",
    "\n",
    "• Display the result of the operation with two decimals\n"
   ]
  },
  {
   "cell_type": "code",
   "execution_count": 75,
   "id": "bfd08667-af9d-4811-ae00-ad2e263ea6b0",
   "metadata": {},
   "outputs": [
    {
     "name": "stdout",
     "output_type": "stream",
     "text": [
      "5.0/89.0=16.50\n"
     ]
    }
   ],
   "source": [
    "num3=float(5)\n",
    "num4=float(89)\n",
    "print(f'{num3}/{num4}={res:.2f}')"
   ]
  },
  {
   "cell_type": "markdown",
   "id": "eb3bb2bf-8e78-4e0a-84a2-9eab57e1b229",
   "metadata": {},
   "source": [
    "Exercise #3\n",
    "\n",
    "Write a program that draws a random number between\n",
    "a lower and upper bound:\n",
    "\n",
    "• Use the input function to prompt the user for a lower\n",
    "and upper bound\n",
    "\n",
    "• Use randint function from random to draw a random\n",
    "integer between the user-supplied bounds (see the\n",
    "function documentation ℎ𝑒𝑟𝑒)\n",
    "\n",
    "• Display the random number\n"
   ]
  },
  {
   "cell_type": "code",
   "execution_count": 92,
   "id": "526ca16b-9d4d-4879-be6d-381c3899cd01",
   "metadata": {
    "scrolled": true
   },
   "outputs": [
    {
     "name": "stdout",
     "output_type": "stream",
     "text": [
      "*************************************************\n",
      "**** welcome to the random number simulator ****\n",
      "*************************************************\n",
      "this program draws a random integer between an upper and lower bound \n",
      "\n"
     ]
    },
    {
     "name": "stdin",
     "output_type": "stream",
     "text": [
      "please enter a lower bound:  1\n",
      "please enter an upper bound:  10\n"
     ]
    },
    {
     "ename": "NameError",
     "evalue": "name 'random' is not defined",
     "output_type": "error",
     "traceback": [
      "\u001b[0;31m---------------------------------------------------------------------------\u001b[0m",
      "\u001b[0;31mNameError\u001b[0m                                 Traceback (most recent call last)",
      "Cell \u001b[0;32mIn[92], line 9\u001b[0m\n\u001b[1;32m      6\u001b[0m lower\u001b[38;5;241m=\u001b[39m\u001b[38;5;28mint\u001b[39m(\u001b[38;5;28minput\u001b[39m(\u001b[38;5;124m'\u001b[39m\u001b[38;5;124mplease enter a lower bound: \u001b[39m\u001b[38;5;124m'\u001b[39m))\n\u001b[1;32m      7\u001b[0m upper\u001b[38;5;241m=\u001b[39m\u001b[38;5;28mint\u001b[39m(\u001b[38;5;28minput\u001b[39m(\u001b[38;5;124m'\u001b[39m\u001b[38;5;124mplease enter an upper bound: \u001b[39m\u001b[38;5;124m'\u001b[39m))\n\u001b[0;32m----> 9\u001b[0m rand_num\u001b[38;5;241m=\u001b[39mrandom\u001b[38;5;241m.\u001b[39mrandint(lower,upper)\n\u001b[1;32m     10\u001b[0m \u001b[38;5;28mprint\u001b[39m(\u001b[38;5;124mf\u001b[39m\u001b[38;5;124m'\u001b[39m\u001b[38;5;130;01m\\n\u001b[39;00m\u001b[38;5;124myou asked for a a random number between \u001b[39m\u001b[38;5;132;01m{\u001b[39;00mlower\u001b[38;5;132;01m}\u001b[39;00m\u001b[38;5;124m and \u001b[39m\u001b[38;5;132;01m{\u001b[39;00mupper\u001b[38;5;132;01m}\u001b[39;00m\u001b[38;5;124m'\u001b[39m)\n\u001b[1;32m     11\u001b[0m \u001b[38;5;28mprint\u001b[39m(\u001b[38;5;124mf\u001b[39m\u001b[38;5;124m'\u001b[39m\u001b[38;5;130;01m\\n\u001b[39;00m\u001b[38;5;124myour draw is \u001b[39m\u001b[38;5;132;01m{\u001b[39;00mrand_num\u001b[38;5;132;01m}\u001b[39;00m\u001b[38;5;124m!\u001b[39m\u001b[38;5;124m'\u001b[39m)\n",
      "\u001b[0;31mNameError\u001b[0m: name 'random' is not defined"
     ]
    }
   ],
   "source": [
    "print('*'*49)\n",
    "print ('**** welcome to the random number simulator ****')\n",
    "print('*'*49)\n",
    "print('this program draws a random integer between an upper and lower bound \\n')\n",
    "\n",
    "lower=int(input('please enter a lower bound: '))\n",
    "upper=int(input('please enter an upper bound: '))\n",
    "\n",
    "rand_num=random.randint(lower,upper)\n",
    "print(f'\\nyou asked for a a random number between {lower} and {upper}')\n",
    "print(f'\\nyour draw is {rand_num}!')"
   ]
  },
  {
   "cell_type": "markdown",
   "id": "9cf60715-1911-4595-8148-9fcad181943b",
   "metadata": {},
   "source": [
    "Exercise #4\n",
    "\n",
    "Write a program that converts a temperature from\n",
    "Fahrenheit to Celsius:\n",
    "• Use the input function to prompt the user for a\n",
    "temperature in Fahrenheit\n",
    "• Convert the temperature using the formula:\n",
    "𝐶𝑒𝑙𝑐 = 5/9 × (𝐹𝑎ℎ𝑟 − 32)\n",
    "• Display the converted temperature rounded to the\n",
    "nearest integer\n"
   ]
  },
  {
   "cell_type": "code",
   "execution_count": 106,
   "id": "4dd062bc-8418-4f55-b7e1-b959f5ccd724",
   "metadata": {},
   "outputs": [
    {
     "name": "stdin",
     "output_type": "stream",
     "text": [
      "Enter temperature in farenheit:  50\n"
     ]
    },
    {
     "name": "stdout",
     "output_type": "stream",
     "text": [
      "temperature in celcius: 10\n"
     ]
    }
   ],
   "source": [
    "fahr=int(input(\"Enter temperature in farenheit: \"))\n",
    "celc=5/9*(fahr-32)\n",
    "print(f'temperature in celcius: {int(celc)}')"
   ]
  },
  {
   "cell_type": "code",
   "execution_count": null,
   "id": "9d951dd7-b001-4323-b185-43effc9d2c04",
   "metadata": {},
   "outputs": [],
   "source": []
  }
 ],
 "metadata": {
  "kernelspec": {
   "display_name": "Python 3 (ipykernel)",
   "language": "python",
   "name": "python3"
  },
  "language_info": {
   "codemirror_mode": {
    "name": "ipython",
    "version": 3
   },
   "file_extension": ".py",
   "mimetype": "text/x-python",
   "name": "python",
   "nbconvert_exporter": "python",
   "pygments_lexer": "ipython3",
   "version": "3.12.4"
  }
 },
 "nbformat": 4,
 "nbformat_minor": 5
}
