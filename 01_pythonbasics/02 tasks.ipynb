{
 "cells": [
  {
   "cell_type": "markdown",
   "id": "4b12f980-e765-42e2-95e2-319c6d7ad888",
   "metadata": {},
   "source": [
    "Exercise #1\n",
    "Modify the random number generator from last week\n",
    "(exercise 3) to check that user-supplied inputs are valid:\n",
    "- Prompt the user for a lower and upper bound\n",
    "\n",
    "Check that the inputs are valid:\n",
    "\n",
    "- Bounds are integer values (hint: isdigit function)\n",
    "\n",
    "- Upper bound is higher than lower bound\n",
    "\n",
    "- Draw and display the random number to the user\n"
   ]
  },
  {
   "cell_type": "code",
   "execution_count": 31,
   "id": "bb0c68e0-183b-4f45-b016-99acf650584a",
   "metadata": {},
   "outputs": [
    {
     "name": "stdin",
     "output_type": "stream",
     "text": [
      "Please enter a lower bound:  1\n",
      "Please enter an upper bound:  9\n"
     ]
    },
    {
     "name": "stdout",
     "output_type": "stream",
     "text": [
      "lower bound is valid\n",
      "upper bound is valid\n",
      "\n",
      "You asked for a random number between 1 and 9.\n",
      "Your random draw is... 3!\n"
     ]
    }
   ],
   "source": [
    "#my solution\n",
    "import random\n",
    "\n",
    "lower = (input('Please enter a lower bound: ')\n",
    "upper = (input('Please enter an upper bound: ')\n",
    "\n",
    "if lower.isdigit():\n",
    "    print('lower bound is valid')\n",
    "else:\n",
    "    print('lower bound is not valid')\n",
    "if upper.isdigit() and upper>lower:\n",
    "    print('upper bound is valid')\n",
    "    rand_num = random.randint(a = int(lower), b = int(upper))\n",
    "    print(f'\\nYou asked for a random number between {lower} and {upper}.')\n",
    "    print(f'Your random draw is... {rand_num}!')\n",
    "else:\n",
    "    print('upper bound is not valid')\n",
    "\n",
    "\n"
   ]
  },
  {
   "cell_type": "code",
   "execution_count": 43,
   "id": "637a015c-75a4-43c2-9498-e35a818ae2b3",
   "metadata": {},
   "outputs": [
    {
     "name": "stdin",
     "output_type": "stream",
     "text": [
      "Please enter a lower bound:  0\n",
      "Please enter an upper bound:  100\n"
     ]
    },
    {
     "name": "stdout",
     "output_type": "stream",
     "text": [
      "\n",
      "You asked for a random number between 0 and 100.\n",
      "Your random draw is... 3!\n"
     ]
    }
   ],
   "source": [
    "#solution from class\n",
    "import random\n",
    "\n",
    "lower = input('Please enter a lower bound: ')\n",
    "upper = input('Please enter an upper bound: ')\n",
    "if lower.isdigit() and upper.isdigit():\n",
    "    #converting inputs to integers\n",
    "    lower = int(lower)\n",
    "    upper = int(upper)\n",
    "\n",
    "    if lower < upper:\n",
    "\n",
    "        #draw random number\n",
    "        print(f'\\nYou asked for a random number between {lower} and {upper}.')\n",
    "        print(f'Your random draw is... {rand_num}!')\n",
    "    else:\n",
    "        print('Invalid inputs!')\n",
    "        print('Upper bound must be larger than lower bound')\n",
    "\n",
    "else:\n",
    "    print('Invalid inputs!')\n",
    "    print('Inputs must be non-negative integers')\n",
    "\n",
    "    "
   ]
  },
  {
   "cell_type": "code",
   "execution_count": null,
   "id": "7bbe9e3d-63a8-4892-93c8-97f6d787a27f",
   "metadata": {},
   "outputs": [],
   "source": [
    "#solution from class 2, with try function:\n",
    "import random\n",
    "\n",
    "lower = input('Please enter a lower bound: ')\n",
    "upper = input('Please enter an upper bound: ')\n",
    "\n",
    "try:     \n",
    "    lower = int(lower)\n",
    "    upper = int(upper)\n",
    "\n",
    "    if lower < upper:\n",
    "    rand:num = random.randit(a=lower, b=upper)\n",
    "        print(f'\\you asked for a random number between {lower} and {upper}\n",
    "        print(f'Your random draw is ...{rand_num}!')\n",
    "\n",
    "    else \n",
    "        "
   ]
  }
 ],
 "metadata": {
  "kernelspec": {
   "display_name": "Python 3 (ipykernel)",
   "language": "python",
   "name": "python3"
  },
  "language_info": {
   "codemirror_mode": {
    "name": "ipython",
    "version": 3
   },
   "file_extension": ".py",
   "mimetype": "text/x-python",
   "name": "python",
   "nbconvert_exporter": "python",
   "pygments_lexer": "ipython3",
   "version": "3.12.4"
  }
 },
 "nbformat": 4,
 "nbformat_minor": 5
}
