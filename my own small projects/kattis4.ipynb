{
 "cells": [
  {
   "cell_type": "markdown",
   "metadata": {},
   "source": [
    "### Electrical Outlets\n",
    "Roy has just moved into a new apartment. Well, actually the apartment itself is not very new, even dating back to the days before people had electricity in their houses. Because of this, Roy’s apartment has only one single wall outlet, so Roy can only power one of his electrical appliances at a time.\n",
    "Roy likes to watch TV as he works on his computer, and to listen to his HiFi system (on high volume) while he vacuums, so using just the single outlet is not an option. Actually, he wants to have all his appliances connected to a powered outlet, all the time. The answer, of course, is power strips, and Roy has some old ones that he used in his old apartment. However, that apartment had many more wall outlets, so he is not sure whether his power strips will provide him with enough outlets now.\n",
    "\n",
    "Your task is to help Roy compute how many appliances he can provide with electricity, given a set of power strips. Note that without any power strips, Roy can power one single appliance through the wall outlet. Also, remember that a power strip has to be powered itself to be of any use.\n",
    "\n",
    "Input:\n",
    "\n",
    "Input vill start with a single integer, 1 ≤ N ≤ 20, indicating the number of test cases to follow. Then follow N lines, each describing a test case. Each test case starts with an integer 1 ≤ K ≤ 10, indicating the number of power strips in the test case. Then follow, on the same line, o1, o2, ..., ok, integers separated by single spaces, where 2 ≤ Oi ≤ 10, indicating the number of outlets in each power strip.\n",
    "\n",
    "Output:\n",
    "\n",
    "Output one line per test case, with the maximum number of appliances that can be powered."
   ]
  },
  {
   "cell_type": "markdown",
   "metadata": {},
   "source": [
    "### 1st time: 17 december 2024"
   ]
  },
  {
   "cell_type": "markdown",
   "metadata": {},
   "source": [
    "attempt:"
   ]
  },
  {
   "cell_type": "code",
   "execution_count": 28,
   "metadata": {},
   "outputs": [
    {
     "name": "stdout",
     "output_type": "stream",
     "text": [
      "4\n"
     ]
    }
   ],
   "source": [
    "N = int(input('number of test cases: '))\n",
    "    # N test cases\n",
    "\n",
    "for i in range(1, N+1):\n",
    "    #for each test case\n",
    "\n",
    "    K = int(input(f'number of power strips test case {i}: '))\n",
    "        #we have a given number of power strips per test case\n",
    "\n",
    "    o = [1]\n",
    "        #we start with 1 unit output for each test case\n",
    "\n",
    "    for j in range(1, K+1):\n",
    "        # for each power strip per test case\n",
    "\n",
    "        outlets = int(input(f'number of outlets for power strip {j} in test case {i}: '))\n",
    "            #we have a specific number of outlets per power strip\n",
    "\n",
    "        o.append(outlets-1)\n",
    "            #we add the amount of useful outputs per outlet to the list of outputs\n",
    "    \n",
    "\n",
    "    output = sum(o)\n",
    "        #the maximum output per test case will be the sum of all useful output for each power strip\n",
    "\n",
    "    print(output)\n"
   ]
  },
  {
   "cell_type": "markdown",
   "metadata": {},
   "source": [
    "attempt after feedback:\n",
    "- do not need list for o, can just sum it in loop (add each output per strip directly)"
   ]
  },
  {
   "cell_type": "code",
   "execution_count": 29,
   "metadata": {},
   "outputs": [
    {
     "name": "stdout",
     "output_type": "stream",
     "text": [
      "2\n",
      "1\n",
      "15\n",
      "2\n"
     ]
    }
   ],
   "source": [
    "N = int(input('number of test cases: '))\n",
    "    # N test cases\n",
    "\n",
    "for i in range(1, N+1):\n",
    "    #for each test case\n",
    "\n",
    "    K = int(input(f'number of power strips test case {i}: '))\n",
    "        #we have a given number of power strips per test case\n",
    "\n",
    "    o = 1\n",
    "        #we start with 1 unit output for each test case\n",
    "\n",
    "    for j in range(1, K+1):\n",
    "        # for each power strip per test case\n",
    "\n",
    "        outlets = int(input(f'number of outlets for power strip {j} in test case {i}: '))\n",
    "            #we have a specific number of outlets per power strip\n",
    "\n",
    "        o += outlets-1\n",
    "            #we add the amount of useful outputs per outlet to the list of outputs\n",
    "\n",
    "    print(o)\n"
   ]
  },
  {
   "cell_type": "markdown",
   "metadata": {},
   "source": [
    "attempt after feedback:\n",
    "- all inputs should be provided at once, use the map() function to do this"
   ]
  },
  {
   "cell_type": "code",
   "execution_count": 31,
   "metadata": {},
   "outputs": [],
   "source": [
    "input = __builtins__.input\n"
   ]
  },
  {
   "cell_type": "code",
   "execution_count": null,
   "metadata": {},
   "outputs": [
    {
     "ename": "SyntaxError",
     "evalue": "positional argument follows keyword argument unpacking (4176049736.py, line 2)",
     "output_type": "error",
     "traceback": [
      "\u001b[0;36m  Cell \u001b[0;32mIn[10], line 2\u001b[0;36m\u001b[0m\n\u001b[0;31m    map(**2, num)\u001b[0m\n\u001b[0m                ^\u001b[0m\n\u001b[0;31mSyntaxError\u001b[0m\u001b[0;31m:\u001b[0m positional argument follows keyword argument unpacking\n"
     ]
    }
   ],
   "source": [
    "num= '123456'\n",
    "map(**2, num)"
   ]
  },
  {
   "cell_type": "code",
   "execution_count": null,
   "metadata": {},
   "outputs": [
    {
     "name": "stdout",
     "output_type": "stream",
     "text": [
      "[1, 2, 3, 4]\n"
     ]
    }
   ],
   "source": [
    "numbers = ['1', '2', '3', '4']\n",
    "int_numbers = [*map(int, numbers)]\n",
    "print(int_numbers)"
   ]
  },
  {
   "cell_type": "code",
   "execution_count": null,
   "metadata": {},
   "outputs": [
    {
     "name": "stdout",
     "output_type": "stream",
     "text": [
      "[1, 2, 3]\n"
     ]
    }
   ],
   "source": [
    "num = ['1', '2', '3']\n",
    "int_num = map(int, num)\n",
    "\n",
    "print(list(int_num))"
   ]
  },
  {
   "cell_type": "code",
   "execution_count": 34,
   "metadata": {},
   "outputs": [],
   "source": [
    "food_lsts = [['fruit'], ['veggies'], ['pasta']]\n",
    "food = map(''.join, food_lsts)"
   ]
  },
  {
   "cell_type": "code",
   "execution_count": 35,
   "metadata": {},
   "outputs": [
    {
     "name": "stdout",
     "output_type": "stream",
     "text": [
      "['fruit', 'veggies', 'pasta']\n"
     ]
    }
   ],
   "source": [
    "print(list(food))"
   ]
  },
  {
   "cell_type": "code",
   "execution_count": 3,
   "metadata": {},
   "outputs": [
    {
     "data": {
      "text/plain": [
       "25"
      ]
     },
     "execution_count": 3,
     "metadata": {},
     "output_type": "execute_result"
    }
   ],
   "source": [
    "square = lambda x: x*x\n",
    "square(5)\n"
   ]
  },
  {
   "cell_type": "code",
   "execution_count": 8,
   "metadata": {},
   "outputs": [
    {
     "name": "stdout",
     "output_type": "stream",
     "text": [
      "[1, 4, 9, 16, 25]\n"
     ]
    }
   ],
   "source": [
    "numbers = [1,2,3,4,5]\n",
    "squares = map(lambda x: x**2, numbers)\n",
    "print(list(squares))"
   ]
  },
  {
   "cell_type": "code",
   "execution_count": null,
   "metadata": {},
   "outputs": [],
   "source": [
    "squares_f = map(square, numbers)"
   ]
  },
  {
   "cell_type": "code",
   "execution_count": 9,
   "metadata": {},
   "outputs": [
    {
     "name": "stdout",
     "output_type": "stream",
     "text": [
      "6\n"
     ]
    }
   ],
   "source": [
    "larger = lambda a, b, c : (a if(a>b and a>c) else b if (b>c) else c)\n",
    "print(larger(3, 6, 5))"
   ]
  },
  {
   "cell_type": "code",
   "execution_count": 31,
   "metadata": {},
   "outputs": [],
   "source": [
    "check_range = lambda num, low, high : (True if (low<num<high) else False)"
   ]
  },
  {
   "cell_type": "code",
   "execution_count": 32,
   "metadata": {},
   "outputs": [
    {
     "data": {
      "text/plain": [
       "True"
      ]
     },
     "execution_count": 32,
     "metadata": {},
     "output_type": "execute_result"
    }
   ],
   "source": [
    "check_range(3, 2, 5)"
   ]
  },
  {
   "cell_type": "code",
   "execution_count": 33,
   "metadata": {},
   "outputs": [
    {
     "data": {
      "text/plain": [
       "False"
      ]
     },
     "execution_count": 33,
     "metadata": {},
     "output_type": "execute_result"
    }
   ],
   "source": [
    "check_range(5, 3, 4)"
   ]
  },
  {
   "cell_type": "code",
   "execution_count": 34,
   "metadata": {},
   "outputs": [],
   "source": [
    "check_range = lambda num, low, high : low < num < high"
   ]
  },
  {
   "cell_type": "code",
   "execution_count": 35,
   "metadata": {},
   "outputs": [
    {
     "data": {
      "text/plain": [
       "True"
      ]
     },
     "execution_count": 35,
     "metadata": {},
     "output_type": "execute_result"
    }
   ],
   "source": [
    "check_range(3, 2, 5)"
   ]
  },
  {
   "cell_type": "code",
   "execution_count": null,
   "metadata": {},
   "outputs": [],
   "source": []
  }
 ],
 "metadata": {
  "kernelspec": {
   "display_name": "base",
   "language": "python",
   "name": "python3"
  },
  "language_info": {
   "codemirror_mode": {
    "name": "ipython",
    "version": 3
   },
   "file_extension": ".py",
   "mimetype": "text/x-python",
   "name": "python",
   "nbconvert_exporter": "python",
   "pygments_lexer": "ipython3",
   "version": "3.12.4"
  }
 },
 "nbformat": 4,
 "nbformat_minor": 2
}
