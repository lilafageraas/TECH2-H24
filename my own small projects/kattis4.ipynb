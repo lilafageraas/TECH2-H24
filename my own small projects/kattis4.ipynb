{
 "cells": [
  {
   "cell_type": "markdown",
   "metadata": {},
   "source": [
    "### Electrical Outlets\n",
    "Roy has just moved into a new apartment. Well, actually the apartment itself is not very new, even dating back to the days before people had electricity in their houses. Because of this, Roy’s apartment has only one single wall outlet, so Roy can only power one of his electrical appliances at a time.\n",
    "Roy likes to watch TV as he works on his computer, and to listen to his HiFi system (on high volume) while he vacuums, so using just the single outlet is not an option. Actually, he wants to have all his appliances connected to a powered outlet, all the time. The answer, of course, is power strips, and Roy has some old ones that he used in his old apartment. However, that apartment had many more wall outlets, so he is not sure whether his power strips will provide him with enough outlets now.\n",
    "\n",
    "Your task is to help Roy compute how many appliances he can provide with electricity, given a set of power strips. Note that without any power strips, Roy can power one single appliance through the wall outlet. Also, remember that a power strip has to be powered itself to be of any use.\n",
    "\n",
    "Input:\n",
    "\n",
    "Input vill start with a single integer, 1 ≤ N ≤ 20, indicating the number of test cases to follow. Then follow N lines, each describing a test case. Each test case starts with an integer 1 ≤ K ≤ 10, indicating the number of power strips in the test case. Then follow, on the same line, o1, o2, ..., ok, integers separated by single spaces, where 2 ≤ Oi ≤ 10, indicating the number of outlets in each power strip.\n",
    "\n",
    "Output:\n",
    "\n",
    "Output one line per test case, with the maximum number of appliances that can be powered."
   ]
  },
  {
   "cell_type": "markdown",
   "metadata": {},
   "source": [
    "### 1st time: 17 december 2024"
   ]
  },
  {
   "cell_type": "markdown",
   "metadata": {},
   "source": [
    "attempt:"
   ]
  },
  {
   "cell_type": "code",
   "execution_count": 23,
   "metadata": {},
   "outputs": [
    {
     "name": "stdout",
     "output_type": "stream",
     "text": [
      "4\n",
      "11\n",
      "10\n"
     ]
    }
   ],
   "source": [
    "N = int(input('number of test cases: '))\n",
    "    # N test cases\n",
    "\n",
    "for i in range(1, N+1):\n",
    "    #for each test case\n",
    "\n",
    "    K = int(input(f'number of power strips test case {i}: '))\n",
    "        #we have a given number of power strips per test case\n",
    "\n",
    "    o = [1]\n",
    "        #we start with 1 unit output for each test case\n",
    "\n",
    "    for j in range(1, K+1):\n",
    "        # for each power strip per test case\n",
    "\n",
    "        outlets = int(input(f'number of outlets for power strip {j} in test case {i}: '))\n",
    "            #we have a specific number of outlets per power strip\n",
    "\n",
    "        o.append(outlets-1)\n",
    "            #we add the amount of useful outputs per outlet to the list of outputs\n",
    "    \n",
    "\n",
    "    output = sum(o)\n",
    "        #the maximum output per test case will be the sum of all useful output for each power strip\n",
    "\n",
    "    print(output)\n"
   ]
  },
  {
   "cell_type": "markdown",
   "metadata": {},
   "source": [
    "attempt after feedback:\n",
    "- do not need lsit for o, can just sum it in loop (add each output per strip directly)"
   ]
  },
  {
   "cell_type": "code",
   "execution_count": 27,
   "metadata": {},
   "outputs": [
    {
     "name": "stdout",
     "output_type": "stream",
     "text": [
      "7\n",
      "31\n",
      "37\n"
     ]
    }
   ],
   "source": [
    "N = int(input('number of test cases: '))\n",
    "    # N test cases\n",
    "\n",
    "for i in range(1, N+1):\n",
    "    #for each test case\n",
    "\n",
    "    K = int(input(f'number of power strips test case {i}: '))\n",
    "        #we have a given number of power strips per test case\n",
    "\n",
    "    o = 1\n",
    "        #we start with 1 unit output for each test case\n",
    "\n",
    "    for j in range(1, K+1):\n",
    "        # for each power strip per test case\n",
    "\n",
    "        outlets = int(input(f'number of outlets for power strip {j} in test case {i}: '))\n",
    "            #we have a specific number of outlets per power strip\n",
    "\n",
    "        o += outlets-1\n",
    "            #we add the amount of useful outputs per outlet to the list of outputs\n",
    "\n",
    "    print(o)\n"
   ]
  },
  {
   "cell_type": "markdown",
   "metadata": {},
   "source": [
    "attempt after feedback:\n",
    "- all input should be provided at once, use the map() function to do this"
   ]
  },
  {
   "cell_type": "code",
   "execution_count": null,
   "metadata": {},
   "outputs": [],
   "source": []
  }
 ],
 "metadata": {
  "kernelspec": {
   "display_name": "base",
   "language": "python",
   "name": "python3"
  },
  "language_info": {
   "codemirror_mode": {
    "name": "ipython",
    "version": 3
   },
   "file_extension": ".py",
   "mimetype": "text/x-python",
   "name": "python",
   "nbconvert_exporter": "python",
   "pygments_lexer": "ipython3",
   "version": "3.12.4"
  }
 },
 "nbformat": 4,
 "nbformat_minor": 2
}
