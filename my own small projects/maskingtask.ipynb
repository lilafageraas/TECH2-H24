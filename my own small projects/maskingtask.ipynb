{
 "cells": [
  {
   "cell_type": "markdown",
   "metadata": {},
   "source": [
    "this task is from codewars day1, it is about masking passwords\n",
    "\n",
    "mask all characters, except the last 4, with #"
   ]
  },
  {
   "cell_type": "code",
   "execution_count": 14,
   "metadata": {},
   "outputs": [],
   "source": [
    "#lets use cc to test\n",
    "cc = 'ujkolmnpofd'"
   ]
  },
  {
   "cell_type": "code",
   "execution_count": 15,
   "metadata": {},
   "outputs": [],
   "source": [
    "def maskify1(cc):\n",
    "    str(cc)  \n",
    "    for i in cc[:-4]:\n",
    "        cc = cc.replace(i, '#')\n",
    "    return (cc)"
   ]
  },
  {
   "cell_type": "code",
   "execution_count": 16,
   "metadata": {},
   "outputs": [
    {
     "data": {
      "text/plain": [
       "'#######p#fd'"
      ]
     },
     "execution_count": 16,
     "metadata": {},
     "output_type": "execute_result"
    }
   ],
   "source": [
    "maskify1(cc)"
   ]
  },
  {
   "cell_type": "markdown",
   "metadata": {},
   "source": [
    "the problem here is that if a character in the passsword already occurs before the last 4 letters, it will be masked again"
   ]
  },
  {
   "cell_type": "markdown",
   "metadata": {},
   "source": [
    "so now the challenge is to figure how to maskify without having characters that occured before the last 4 be maskified in the last 4"
   ]
  },
  {
   "cell_type": "code",
   "execution_count": 17,
   "metadata": {},
   "outputs": [],
   "source": [
    "def maskify2(cc):\n",
    "    str(cc)\n",
    "    for i in cc[:-4]:\n",
    "        if i in cc[-4:]:\n",
    "            i = i\n",
    "        else:\n",
    "            cc = cc.replace(i,'#')\n",
    "    return (cc)\n",
    "    "
   ]
  },
  {
   "cell_type": "code",
   "execution_count": 13,
   "metadata": {},
   "outputs": [
    {
     "data": {
      "text/plain": [
       "'###o###pofd'"
      ]
     },
     "execution_count": 13,
     "metadata": {},
     "output_type": "execute_result"
    }
   ],
   "source": [
    "maskify2(cc)"
   ]
  },
  {
   "cell_type": "markdown",
   "metadata": {},
   "source": [
    "this solves out previous problem. \n",
    "\n",
    "however, now the letters in the last 4 will not be masked in the first part, so we must try to fix this"
   ]
  },
  {
   "cell_type": "code",
   "execution_count": 28,
   "metadata": {},
   "outputs": [],
   "source": [
    "def maskify3(cc):\n",
    "    str(cc)\n",
    "    l = len(cc)\n",
    "    end = l - 4\n",
    "    for i in range(0, end):\n",
    "        cc = cc.replace(cc[i], '#')\n",
    "    return (cc)"
   ]
  },
  {
   "cell_type": "code",
   "execution_count": 29,
   "metadata": {},
   "outputs": [
    {
     "data": {
      "text/plain": [
       "'#######p#fd'"
      ]
     },
     "execution_count": 29,
     "metadata": {},
     "output_type": "execute_result"
    }
   ],
   "source": [
    "maskify3(cc)"
   ]
  },
  {
   "cell_type": "markdown",
   "metadata": {},
   "source": [
    "let's try to make a variable that specifies which charaters to mask rather than indexing in for loop:"
   ]
  },
  {
   "cell_type": "code",
   "execution_count": 31,
   "metadata": {},
   "outputs": [],
   "source": [
    "def maskify4(cc):\n",
    "    for i in range(len(cc)):\n",
    "        masked_char = cc[0:-3]\n",
    "        cc = cc.replace(masked_char, '#')\n",
    "    return (cc)"
   ]
  },
  {
   "cell_type": "code",
   "execution_count": 32,
   "metadata": {},
   "outputs": [
    {
     "data": {
      "text/plain": [
       "'#by9'"
      ]
     },
     "execution_count": 32,
     "metadata": {},
     "output_type": "execute_result"
    }
   ],
   "source": [
    "cc = 'uytrewq8tgby9'\n",
    "maskify4(cc)"
   ]
  },
  {
   "cell_type": "markdown",
   "metadata": {},
   "source": [
    "the problem here is that all characters are replaced by one single #, so we need to figure out how to change each character in masked char"
   ]
  },
  {
   "cell_type": "code",
   "execution_count": 67,
   "metadata": {},
   "outputs": [],
   "source": [
    "def maskify5(cc):\n",
    "    for i in range(len(cc)):\n",
    "        lenmask = len(cc) - 3\n",
    "        cc = cc.replace(cc[0:-3], lenmask*'#')\n",
    "    return(cc)"
   ]
  },
  {
   "cell_type": "code",
   "execution_count": 68,
   "metadata": {},
   "outputs": [
    {
     "data": {
      "text/plain": [
       "'##########by9'"
      ]
     },
     "execution_count": 68,
     "metadata": {},
     "output_type": "execute_result"
    }
   ],
   "source": [
    "maskify5(cc)"
   ]
  },
  {
   "cell_type": "markdown",
   "metadata": {},
   "source": [
    "almost there! but this returns the three last as unmasked, we want the 4 last"
   ]
  },
  {
   "cell_type": "code",
   "execution_count": 69,
   "metadata": {},
   "outputs": [],
   "source": [
    "def maskify6(cc):\n",
    "    for i in range(len(cc)):\n",
    "        lenmask = len(cc) - 4\n",
    "        cc = cc.replace(cc[0:-4], lenmask*'#')\n",
    "    return(cc)"
   ]
  },
  {
   "cell_type": "code",
   "execution_count": 70,
   "metadata": {},
   "outputs": [
    {
     "data": {
      "text/plain": [
       "'#########gby9'"
      ]
     },
     "execution_count": 70,
     "metadata": {},
     "output_type": "execute_result"
    }
   ],
   "source": [
    "maskify6(cc)"
   ]
  },
  {
   "cell_type": "markdown",
   "metadata": {},
   "source": [
    "yes! it worked for this example. let's test it in code wars and see if it needs to be further perfected!"
   ]
  },
  {
   "cell_type": "markdown",
   "metadata": {},
   "source": []
  }
 ],
 "metadata": {
  "kernelspec": {
   "display_name": "base",
   "language": "python",
   "name": "python3"
  },
  "language_info": {
   "codemirror_mode": {
    "name": "ipython",
    "version": 3
   },
   "file_extension": ".py",
   "mimetype": "text/x-python",
   "name": "python",
   "nbconvert_exporter": "python",
   "pygments_lexer": "ipython3",
   "version": "3.12.4"
  }
 },
 "nbformat": 4,
 "nbformat_minor": 2
}
