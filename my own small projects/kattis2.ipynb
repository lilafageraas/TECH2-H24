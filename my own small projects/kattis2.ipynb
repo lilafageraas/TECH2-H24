{
 "cells": [
  {
   "cell_type": "markdown",
   "metadata": {},
   "source": [
    "You have a single 3D printer, and would like to use it to produce \n",
    " statues. However, printing the statues one by one on the 3D printer takes a long time, so it may be more time-efficient to first use the 3D printer to print a new printer. That new printer may then in turn be used to print statues or even more printers. Print jobs take a full day, and every day you can choose for each printer in your possession to have it print a statue, or to have it 3D print a new printer (which becomes available for use the next day).\n",
    "\n",
    "What is the minimum possible number of days needed to print at least \n",
    " statues?\n",
    "\n",
    "Input\n",
    "The input contains a single integer, the number of statues you need to print.\n",
    "\n",
    "Output\n",
    "Output a single integer, the minimum number of days needed to print at least \n",
    " statues."
   ]
  },
  {
   "cell_type": "markdown",
   "metadata": {},
   "source": [
    "### 1st time: 16 december 2024"
   ]
  },
  {
   "cell_type": "code",
   "execution_count": 42,
   "metadata": {},
   "outputs": [],
   "source": [
    "from math import ceil\n",
    "\n",
    "def min_print(n):\n",
    "    p = 1\n",
    "    d_passed = 0\n",
    "    d_left_today = n\n",
    "    d_left_tomorrow = ceil(n/2)\n",
    "\n",
    "\n",
    "    while d_left_tomorrow + d_passed + 1 <= d_left_today + d_passed: \n",
    "    #while the total amount of days today (the amount of days it takes to print if we start printing today + the days that have passed today)\n",
    "    # is greater than\n",
    "    # the total amount of days tomorrow (amount of days it takes to print if we start printing tomorrow + the days that have passed tomorrow)\n",
    "        \n",
    "        d_passed += 1\n",
    "        p = p*2\n",
    "\n",
    "        d_left_today = ceil(n/p) \n",
    "        #the amount of days it will take to print if we start printing today\n",
    "        #the amount of statues to print / the amount of printers we have today\n",
    "            \n",
    "        d_left_tomorrow = ceil(n/(p*2)) \n",
    "        #the amount of days it will take to print if we start make printer today and start making statues tomorrow\n",
    "        #the amount of statues to print / the amount of printers we have tomorrow\n",
    "        #each day the amount of printers doubles if all printers produce printers\n",
    "    \n",
    "    min_days = d_passed + 1\n",
    "    \n",
    "    return(min_days)\n"
   ]
  },
  {
   "cell_type": "code",
   "execution_count": 43,
   "metadata": {},
   "outputs": [
    {
     "data": {
      "text/plain": [
       "5"
      ]
     },
     "execution_count": 43,
     "metadata": {},
     "output_type": "execute_result"
    }
   ],
   "source": [
    "min_print(10)"
   ]
  }
 ],
 "metadata": {
  "kernelspec": {
   "display_name": "base",
   "language": "python",
   "name": "python3"
  },
  "language_info": {
   "codemirror_mode": {
    "name": "ipython",
    "version": 3
   },
   "file_extension": ".py",
   "mimetype": "text/x-python",
   "name": "python",
   "nbconvert_exporter": "python",
   "pygments_lexer": "ipython3",
   "version": "3.12.4"
  }
 },
 "nbformat": 4,
 "nbformat_minor": 2
}
