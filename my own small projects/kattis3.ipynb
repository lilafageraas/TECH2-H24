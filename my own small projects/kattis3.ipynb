{
 "cells": [
  {
   "cell_type": "markdown",
   "metadata": {},
   "source": [
    "### a second opinion\n",
    "write a program that, given a duration in seconds as input, outputs the same duration as hours, minutes, and seconds.\n",
    "\n",
    "hint: use integer division (//) and remainder (%)\n",
    "\n",
    "input:\n",
    "\n",
    "one line containing the integer s, the number of seconds that should be rewritten.\n",
    "\n",
    "output:\n",
    "one line containing three integers, the number of hours, the number of minutes, and the number of seconds"
   ]
  },
  {
   "cell_type": "markdown",
   "metadata": {},
   "source": [
    "### 1st time: 17 december 2024"
   ]
  },
  {
   "cell_type": "code",
   "execution_count": null,
   "metadata": {},
   "outputs": [],
   "source": [
    "def duration(s):\n",
    "    hours = s//(60*60)\n",
    "    minutes = (s%(60*60)) // 60\n",
    "    seconds = (s%60)\n",
    "    return(f'{hours}hours, {minutes}minutes, {seconds}seconds')"
   ]
  },
  {
   "cell_type": "code",
   "execution_count": 8,
   "metadata": {},
   "outputs": [
    {
     "data": {
      "text/plain": [
       "'3488hours, 53minutes, 20seconds'"
      ]
     },
     "execution_count": 8,
     "metadata": {},
     "output_type": "execute_result"
    }
   ],
   "source": [
    "duration(12560000)"
   ]
  }
 ],
 "metadata": {
  "kernelspec": {
   "display_name": "base",
   "language": "python",
   "name": "python3"
  },
  "language_info": {
   "codemirror_mode": {
    "name": "ipython",
    "version": 3
   },
   "file_extension": ".py",
   "mimetype": "text/x-python",
   "name": "python",
   "nbconvert_exporter": "python",
   "pygments_lexer": "ipython3",
   "version": "3.12.4"
  }
 },
 "nbformat": 4,
 "nbformat_minor": 2
}
