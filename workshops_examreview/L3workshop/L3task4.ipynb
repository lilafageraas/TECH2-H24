{
 "cells": [
  {
   "cell_type": "markdown",
   "metadata": {},
   "source": [
    "# Workshop Lecture 3, Exerise 4\n",
    "Write a program that calculates how many years it takes for you to save 1 million NOK:\n",
    "\n",
    "Prompt the user for the necessary inputs:\n",
    "- Current amount in the savings account (in NOK)\n",
    "- Amount saved each year (in NOK)\n",
    "- Annual interest rate (in percent)\n",
    "\n",
    "Use a while loop to update the current amount in the savings account using the formula:\n",
    "\n",
    "- current = (current + annual savings)*(1 + rate/100)\n",
    "\n",
    "Display the number of years it takes for the amount in the savings account to surpass 1 million NOK\n",
    "\n",
    "Extra: use while loops to ensure valid user-supplied inputs (i.e., non-negative floats)"
   ]
  },
  {
   "cell_type": "code",
   "execution_count": 18,
   "metadata": {},
   "outputs": [
    {
     "name": "stdout",
     "output_type": "stream",
     "text": [
      "it will take 5 years to save 1 million NOK\n"
     ]
    }
   ],
   "source": [
    "base_v = input('please insert your current amount of savings in NOK: ')\n",
    "annual_s = input('please enter your annual savings in NOK: ')\n",
    "annual_i = input('please enter you annual interest rate (%): ')\n",
    "\n",
    "new_v = 0\n",
    "num_years = 0\n",
    "\n",
    "while base_v.isdigit() and float(base_v)>=0 and annual_s.isdigit() and float(annual_s) >= 0 and annual_i.isdigit() and float(annual_i) >= 0:\n",
    "\n",
    "        while new_v < 1000000:\n",
    "            base_v = float(base_v)\n",
    "            annual_s = float(annual_s)\n",
    "            annual_i = float(annual_i)\n",
    "            \n",
    "            new_v = ((new_v + base_v) + annual_s)*(1 + annual_i/100)\n",
    "            num_years = num_years + 1\n",
    "        break\n",
    "        \n",
    "print(f'it will take {num_years} years to save 1 million NOK')"
   ]
  }
 ],
 "metadata": {
  "kernelspec": {
   "display_name": "Python 3",
   "language": "python",
   "name": "python3"
  },
  "language_info": {
   "codemirror_mode": {
    "name": "ipython",
    "version": 3
   },
   "file_extension": ".py",
   "mimetype": "text/x-python",
   "name": "python",
   "nbconvert_exporter": "python",
   "pygments_lexer": "ipython3",
   "version": "3.8.9"
  }
 },
 "nbformat": 4,
 "nbformat_minor": 2
}
