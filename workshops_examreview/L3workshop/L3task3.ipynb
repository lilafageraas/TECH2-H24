{
 "cells": [
  {
   "cell_type": "markdown",
   "metadata": {},
   "source": [
    "# Workshop Lecture 3, Exercise 3:\n",
    "Write a program that creates a phonebook where numbers and phone numbes are stored:\n",
    "\n",
    "• Create an empty dictionary to store the names and numbers as key-value pairs\n",
    "\n",
    "• Use a while loop to prompt the user for a name and phone number and store it in the dictionary\n",
    "\n",
    "• The loop should terminate when the user decides to (e.g, when the user press «enter»)\n",
    "\n",
    "• Use a for loop to display the final phonebook to the user\n"
   ]
  },
  {
   "cell_type": "code",
   "execution_count": 6,
   "metadata": {},
   "outputs": [
    {
     "name": "stdout",
     "output_type": "stream",
     "text": [
      "{'lila': '48112021', 'jon': '98219351', '95061072': ''}\n"
     ]
    }
   ],
   "source": [
    "phone_book = {\n",
    "    \n",
    "}\n",
    "\n",
    "no_more = []\n",
    "\n",
    "while no_more != '2':\n",
    "    new_name = input('please type the name of the contact you wish to add: ')\n",
    "    new_number = input(f'please write the number of {new_name}: ')\n",
    "    phone_book.update({new_name : new_number})\n",
    "    no_more = input(f'{new_name} is now in your contacts. press \"1\" to continue adding contacts, press \"2\" finish adding numbers')\n",
    "\n",
    "print(phone_book)"
   ]
  },
  {
   "cell_type": "code",
   "execution_count": 7,
   "metadata": {},
   "outputs": [
    {
     "name": "stdout",
     "output_type": "stream",
     "text": [
      "\n",
      "Final Phonebook:\n",
      "lila: 48112021\n",
      "jon: 98219351\n",
      "95061072: \n"
     ]
    }
   ],
   "source": [
    "print('\\nFinal Phonebook:')\n",
    "for name, number in phone_book.items():\n",
    "    print(f'{name}: {number}')"
   ]
  },
  {
   "cell_type": "code",
   "execution_count": null,
   "metadata": {},
   "outputs": [],
   "source": []
  }
 ],
 "metadata": {
  "kernelspec": {
   "display_name": "Python 3",
   "language": "python",
   "name": "python3"
  },
  "language_info": {
   "codemirror_mode": {
    "name": "ipython",
    "version": 3
   },
   "file_extension": ".py",
   "mimetype": "text/x-python",
   "name": "python",
   "nbconvert_exporter": "python",
   "pygments_lexer": "ipython3",
   "version": "3.8.9"
  }
 },
 "nbformat": 4,
 "nbformat_minor": 2
}
