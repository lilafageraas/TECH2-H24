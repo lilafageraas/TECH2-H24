{
 "cells": [
  {
   "cell_type": "markdown",
   "metadata": {},
   "source": [
    "# Workshop Lecture 3, Exercise 2\n",
    "Modify the program of the prisoner’s dilemma from last week (exercise 2) to re-prompt players for valid inputs:\n",
    "\n",
    "• Prompt the input from prisoner A (“1” to confess or “2” to stay silent) and use a while loop to re-prompt the user for the input if a valid selection has not been made\n",
    "\n",
    "• Use a while loop to prompt the input from prisoner B (“1” to confess or “2” to stay silent) and terminate the loop once the user has made a valid selection\n",
    "\n",
    "• Display the outcome of the game (i.e., the prison sentences of prisoner A and B)\n"
   ]
  },
  {
   "cell_type": "code",
   "execution_count": 2,
   "metadata": {},
   "outputs": [
    {
     "name": "stdout",
     "output_type": "stream",
     "text": [
      "**********************************\n",
      "Welcome to the Prisoner's Dilemma.\n",
      "**********************************\n",
      "\n",
      "Prisoner A chose to stay silent and prisoner B chose to stay silent.\n",
      "\n",
      "You both get 1 year.\n"
     ]
    }
   ],
   "source": [
    "# Dict that maps numbers to choices\n",
    "d = {\n",
    "     '1' : 'confess',\n",
    "     '2' : 'stay silent'\n",
    "     }\n",
    "\n",
    "#  Print welcome message\n",
    "print('**********************************')\n",
    "print(\"Welcome to the Prisoner's Dilemma.\")\n",
    "print('**********************************')\n",
    "\n",
    "# Prompt user for inputs\n",
    "choiceA = input('\\nPrisoner A, you are up.\\nPress 1 for \"confess\", press 2 for \"stay silent\": ')\n",
    "choiceB = input('\\nPrisoner B, you are up.\\nPress 1 for \"confess\", press 2 for \"stay silent\": ')\n",
    "\n",
    "#reprompt if the input is not valid\n",
    "while choiceA not in d.keys():\n",
    "    choiceA = input('prisoner A you must write either \"1\" or \"2\". try again: ')\n",
    "while choiceB not in d.keys():\n",
    "    choiceB = input('prisoner B you must write either \"1\" or \"2\". try again: ')\n",
    "else:\n",
    "    \n",
    "        # Print choices using dict\n",
    "        print(f'\\nPrisoner A chose to {d[choiceA]} and prisoner B chose to {d[choiceB]}.\\n')\n",
    "\n",
    "        if choiceA == '1' and choiceB == '1':\n",
    "            print('You both get 2 years.')\n",
    "        \n",
    "        elif choiceA == '1' and choiceB == '2':\n",
    "            print('Prisoner A gets 3 years, prisoner B goes free.')\n",
    "\n",
    "        elif choiceA == '2' and choiceB == '1':\n",
    "            print('Prisoner A goes free, prisoner B gets 3 years.')\n",
    "    \n",
    "        elif choiceA == '2' and choiceB == '2':\n",
    "            print('You both get 1 year.')\n",
    "   "
   ]
  },
  {
   "cell_type": "code",
   "execution_count": null,
   "metadata": {},
   "outputs": [],
   "source": []
  }
 ],
 "metadata": {
  "kernelspec": {
   "display_name": "Python 3",
   "language": "python",
   "name": "python3"
  },
  "language_info": {
   "codemirror_mode": {
    "name": "ipython",
    "version": 3
   },
   "file_extension": ".py",
   "mimetype": "text/x-python",
   "name": "python",
   "nbconvert_exporter": "python",
   "pygments_lexer": "ipython3",
   "version": "3.9.6"
  }
 },
 "nbformat": 4,
 "nbformat_minor": 2
}
