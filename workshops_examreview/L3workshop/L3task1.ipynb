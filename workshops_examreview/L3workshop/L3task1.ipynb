{
 "cells": [
  {
   "cell_type": "markdown",
   "metadata": {},
   "source": [
    "# Workshop Lecture 3, Exercise 1:\n",
    "Modify the random number generator from last week (exercise 1) to draw a random code:\n",
    "\n",
    "• Initialize an empty list to store the code in\n",
    "\n",
    "• Prompt the user for the length of the code and check that the user input is valid (i.e., a non-negative integer)\n",
    "\n",
    "• Use a for loop and the randint function from random to draw random numbers between 0 and 9 and store each number in the list\n",
    "\n",
    "• Display the random code to the user\n"
   ]
  },
  {
   "cell_type": "code",
   "execution_count": 36,
   "metadata": {},
   "outputs": [
    {
     "name": "stdout",
     "output_type": "stream",
     "text": [
      "your random code is [4, 2, 6, 5, 9, 3]\n"
     ]
    }
   ],
   "source": [
    "from random import randint\n",
    "rand_lst = []\n",
    "code_len = input('write the length of you code: ')\n",
    "\n",
    "if code_len.isdigit():\n",
    "    for i in range(int(code_len)):\n",
    "        rand_lst.append(randint(0,9))\n",
    "    print(f'your random code is {rand_lst}')\n",
    "else:\n",
    "    print('invalid input. write an integer')"
   ]
  },
  {
   "cell_type": "code",
   "execution_count": null,
   "metadata": {},
   "outputs": [],
   "source": []
  }
 ],
 "metadata": {
  "kernelspec": {
   "display_name": "Python 3",
   "language": "python",
   "name": "python3"
  },
  "language_info": {
   "codemirror_mode": {
    "name": "ipython",
    "version": 3
   },
   "file_extension": ".py",
   "mimetype": "text/x-python",
   "name": "python",
   "nbconvert_exporter": "python",
   "pygments_lexer": "ipython3",
   "version": "3.8.9"
  }
 },
 "nbformat": 4,
 "nbformat_minor": 2
}
