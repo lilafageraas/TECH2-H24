{
 "cells": [
  {
   "cell_type": "markdown",
   "metadata": {},
   "source": [
    "# mandatory assignment redo (containing only the code part)"
   ]
  },
  {
   "cell_type": "code",
   "execution_count": 49,
   "metadata": {},
   "outputs": [],
   "source": [
    "#the list we will test the functions on:\n",
    "num_lst = [1, 2, 3, 4, 5]"
   ]
  },
  {
   "cell_type": "code",
   "execution_count": 50,
   "metadata": {},
   "outputs": [],
   "source": [
    "#import square root\n",
    "from math import sqrt"
   ]
  },
  {
   "cell_type": "markdown",
   "metadata": {},
   "source": [
    "### method 1, for loops"
   ]
  },
  {
   "cell_type": "code",
   "execution_count": 51,
   "metadata": {},
   "outputs": [],
   "source": [
    "def std_loops(x):\n",
    "    #initialize sum\n",
    "    sum_of_element = 0\n",
    "    #initialize total\n",
    "    total = 0\n",
    "\n",
    "    #find the mean\n",
    "    for num in x:\n",
    "        sum_of_element += num\n",
    "        total += 1\n",
    "    \n",
    "    mean = sum_of_element / total\n",
    "\n",
    "    #initialize the sum of squares\n",
    "    sum_squares = 0\n",
    "\n",
    "    #find the mean of squares\n",
    "    for y in x:\n",
    "        square = y**2\n",
    "        sum_squares += square\n",
    "    \n",
    "    mean_of_squares = sum_squares / total\n",
    "\n",
    "    #compute the variance\n",
    "    variance = mean_of_squares - (mean**2)\n",
    "\n",
    "    #compute the standard deviation\n",
    "    sd = sqrt(variance)\n",
    "\n",
    "    return(sd)\n",
    "\n"
   ]
  },
  {
   "cell_type": "code",
   "execution_count": 52,
   "metadata": {},
   "outputs": [
    {
     "data": {
      "text/plain": [
       "1.4142135623730951"
      ]
     },
     "execution_count": 52,
     "metadata": {},
     "output_type": "execute_result"
    }
   ],
   "source": [
    "std_loops(num_lst)"
   ]
  },
  {
   "cell_type": "markdown",
   "metadata": {},
   "source": [
    "### method 2, built-in functions"
   ]
  },
  {
   "cell_type": "code",
   "execution_count": 56,
   "metadata": {},
   "outputs": [],
   "source": [
    "def std_builtin(x):\n",
    "    mean = sum(x)/len(x)\n",
    "    squares = [i**2 for i in x]\n",
    "    mean_of_squares = sum(squares)/len(x)\n",
    "    variance = mean_of_squares - mean**2\n",
    "    sd = sqrt(variance)\n",
    "    return(sd)"
   ]
  },
  {
   "cell_type": "code",
   "execution_count": 57,
   "metadata": {},
   "outputs": [
    {
     "data": {
      "text/plain": [
       "1.4142135623730951"
      ]
     },
     "execution_count": 57,
     "metadata": {},
     "output_type": "execute_result"
    }
   ],
   "source": [
    "std_builtin(num_lst)"
   ]
  },
  {
   "cell_type": "markdown",
   "metadata": {},
   "source": [
    "### method 3, numpy"
   ]
  },
  {
   "cell_type": "code",
   "execution_count": 58,
   "metadata": {},
   "outputs": [],
   "source": [
    "import numpy as np"
   ]
  },
  {
   "cell_type": "code",
   "execution_count": 60,
   "metadata": {},
   "outputs": [
    {
     "data": {
      "text/plain": [
       "1.4142135623730951"
      ]
     },
     "execution_count": 60,
     "metadata": {},
     "output_type": "execute_result"
    }
   ],
   "source": [
    "np.std(num_lst)"
   ]
  }
 ],
 "metadata": {
  "kernelspec": {
   "display_name": "base",
   "language": "python",
   "name": "python3"
  },
  "language_info": {
   "codemirror_mode": {
    "name": "ipython",
    "version": 3
   },
   "file_extension": ".py",
   "mimetype": "text/x-python",
   "name": "python",
   "nbconvert_exporter": "python",
   "pygments_lexer": "ipython3",
   "version": "3.12.4"
  }
 },
 "nbformat": 4,
 "nbformat_minor": 2
}
