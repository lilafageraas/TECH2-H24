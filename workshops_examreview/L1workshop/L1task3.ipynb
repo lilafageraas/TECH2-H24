{
 "cells": [
  {
   "cell_type": "markdown",
   "metadata": {},
   "source": [
    "# Workshop Lecture 1, Exercise 3\n",
    "Write a program that draws a random number between a lower and upper bound:\n",
    "\n",
    "• Use the input function to prompt the user for a lower and upper bound\n",
    "\n",
    "• Use randint function from random to draw a random integer between the user-supplied bounds (see the function documentation: https://docs.python.org/3/library/random.html)\n",
    "\n",
    "• Display the random number\n"
   ]
  },
  {
   "cell_type": "code",
   "execution_count": 25,
   "metadata": {},
   "outputs": [
    {
     "name": "stdout",
     "output_type": "stream",
     "text": [
      "your random number is 18\n"
     ]
    }
   ],
   "source": [
    "lower_bound = int(input('please insert the lower bond: '))\n",
    "upper_bound = int(input('please insert the upper bond: '))\n",
    "from random import randint\n",
    "if upper_bound > lower_bound:\n",
    "    random_number = randint(lower_bound, upper_bound)\n",
    "    print(f'your random number is {random_number}')\n",
    "else:\n",
    "    print('the upper bound must be greater than the lower bound')"
   ]
  },
  {
   "cell_type": "markdown",
   "metadata": {},
   "source": [
    "this is the solution proposal from the lecturer:"
   ]
  },
  {
   "cell_type": "code",
   "execution_count": null,
   "metadata": {},
   "outputs": [
    {
     "ename": "",
     "evalue": "",
     "output_type": "error",
     "traceback": [
      "\u001b[1;31mRunning cells with 'Python 3.8.9' requires the ipykernel package.\n",
      "\u001b[1;31mRun the following command to install 'ipykernel' into the Python environment. \n",
      "\u001b[1;31mCommand: '/usr/bin/python3 -m pip install ipykernel -U --user --force-reinstall'"
     ]
    }
   ],
   "source": [
    "# Print welcome message\n",
    "print('*'*49)\n",
    "print('**** Welcome to the Random Number Generator! ****')\n",
    "print('*'*49)\n",
    "print('This program draws a random integer between an upper and lower bound.\\n')\n",
    "\n",
    "# Prompt user for upper and lower bounds\n",
    "lower = int(input('Please enter a lower bound: '))\n",
    "upper = int(input('Please enter an upper bound: '))\n",
    "\n",
    "# Draw random number\n",
    "rand_num = random.randint(a = lower, b = upper)\n",
    "print(f'\\nYou asked for a random number between {lower} and {upper}.')\n",
    "print(f'Your random draw is... {rand_num}!')"
   ]
  },
  {
   "cell_type": "code",
   "execution_count": null,
   "metadata": {},
   "outputs": [],
   "source": []
  }
 ],
 "metadata": {
  "kernelspec": {
   "display_name": "Python 3",
   "language": "python",
   "name": "python3"
  },
  "language_info": {
   "codemirror_mode": {
    "name": "ipython",
    "version": 3
   },
   "file_extension": ".py",
   "mimetype": "text/x-python",
   "name": "python",
   "nbconvert_exporter": "python",
   "pygments_lexer": "ipython3",
   "version": "3.8.9"
  }
 },
 "nbformat": 4,
 "nbformat_minor": 2
}
