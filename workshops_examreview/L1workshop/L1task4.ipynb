{
 "cells": [
  {
   "cell_type": "markdown",
   "metadata": {},
   "source": [
    "# Workshop Lecture 1, Exercise 4\n",
    "Write a program that converts a temperature from Fahrenheit to Celsius:\n",
    "\n",
    "• Use the input function to prompt the user for a temperature in Fahrenheit\n",
    "\n",
    "• Convert the temperature using the formula: 𝐶𝑒𝑙𝑐 = (5/9) × (𝐹𝑎ℎ𝑟 − 32)\n",
    "\n",
    "• Display the converted temperature rounded to the nearest integer\n"
   ]
  },
  {
   "cell_type": "code",
   "execution_count": 5,
   "metadata": {},
   "outputs": [
    {
     "name": "stdout",
     "output_type": "stream",
     "text": [
      "the temperature is equal to 31 degrees celcius\n"
     ]
    }
   ],
   "source": [
    "tempF = input('input temperature (in Fahrenheit): ')\n",
    "print(f'the temperature is equal to {int((int(tempF)-32)*(5/9))} degrees celcius')"
   ]
  }
 ],
 "metadata": {
  "kernelspec": {
   "display_name": "base",
   "language": "python",
   "name": "python3"
  },
  "language_info": {
   "codemirror_mode": {
    "name": "ipython",
    "version": 3
   },
   "file_extension": ".py",
   "mimetype": "text/x-python",
   "name": "python",
   "nbconvert_exporter": "python",
   "pygments_lexer": "ipython3",
   "version": "3.12.4"
  }
 },
 "nbformat": 4,
 "nbformat_minor": 2
}
