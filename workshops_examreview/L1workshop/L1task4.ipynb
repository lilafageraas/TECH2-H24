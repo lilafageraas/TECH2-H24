{
 "cells": [
  {
   "cell_type": "markdown",
   "metadata": {},
   "source": [
    "# Workshop Lecture 1, Exercise 4\n",
    "Write a program that converts a temperature from Fahrenheit to Celsius:\n",
    "\n",
    "• Use the input function to prompt the user for a temperature in Fahrenheit\n",
    "\n",
    "• Convert the temperature using the formula: 𝐶𝑒𝑙𝑐 = (5/9) × (𝐹𝑎ℎ𝑟 − 32)\n",
    "\n",
    "• Display the converted temperature rounded to the nearest integer\n"
   ]
  },
  {
   "cell_type": "markdown",
   "metadata": {},
   "source": []
  }
 ],
 "metadata": {
  "language_info": {
   "name": "python"
  }
 },
 "nbformat": 4,
 "nbformat_minor": 2
}
