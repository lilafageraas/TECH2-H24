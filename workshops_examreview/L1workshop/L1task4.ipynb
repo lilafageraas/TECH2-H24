{
 "cells": [
  {
   "cell_type": "markdown",
   "metadata": {},
   "source": [
    "# Workshop Lecture 1, Exercise 4\n",
    "Write a program that converts a temperature from Fahrenheit to Celsius:\n",
    "\n",
    "• Use the input function to prompt the user for a temperature in Fahrenheit\n",
    "\n",
    "• Convert the temperature using the formula: 𝐶𝑒𝑙𝑐 = (5/9) × (𝐹𝑎ℎ𝑟 − 32)\n",
    "\n",
    "• Display the converted temperature rounded to the nearest integer\n"
   ]
  },
  {
   "cell_type": "code",
   "execution_count": 6,
   "metadata": {},
   "outputs": [
    {
     "name": "stdout",
     "output_type": "stream",
     "text": [
      "the temperature is equal to 16 degrees celcius\n"
     ]
    }
   ],
   "source": [
    "tempF = input('input temperature (in Fahrenheit): ')\n",
    "print(f'the temperature is equal to {int((int(tempF))*(5/9)-32)} degrees celcius')"
   ]
  },
  {
   "cell_type": "markdown",
   "metadata": {},
   "source": [
    "this is the solution proposal from the lecturer:"
   ]
  },
  {
   "cell_type": "code",
   "execution_count": 2,
   "metadata": {},
   "outputs": [
    {
     "name": "stdout",
     "output_type": "stream",
     "text": [
      "****************************************\n",
      "**** Temperature Conversion Program ****\n",
      "****************************************\n",
      "This program converts from Fahrenheit to Celsius\n",
      "\n",
      "\n",
      "55.0 degree(s) Fahrenheit is 13 degree(s) Celsius.\n"
     ]
    }
   ],
   "source": [
    "# Print welcome message\n",
    "print('*'*40)\n",
    "print('**** Temperature Conversion Program ****')\n",
    "print('*'*40)\n",
    "print('This program converts from Fahrenheit to Celsius\\n')\n",
    "\n",
    "# Prompt user for input and convert to float\n",
    "fahren = float(input('Enter temperature to convert: '))\n",
    "\n",
    "# Calculate temperature conversion\n",
    "celsius = (fahren-32) * 5 / 9\n",
    "    \n",
    "# Print conversion\n",
    "print(f'\\n{fahren} degree(s) Fahrenheit is {celsius:.0f} degree(s) Celsius.')"
   ]
  },
  {
   "cell_type": "code",
   "execution_count": null,
   "metadata": {},
   "outputs": [],
   "source": []
  }
 ],
 "metadata": {
  "kernelspec": {
   "display_name": "Python 3",
   "language": "python",
   "name": "python3"
  },
  "language_info": {
   "codemirror_mode": {
    "name": "ipython",
    "version": 3
   },
   "file_extension": ".py",
   "mimetype": "text/x-python",
   "name": "python",
   "nbconvert_exporter": "python",
   "pygments_lexer": "ipython3",
   "version": "3.9.6"
  }
 },
 "nbformat": 4,
 "nbformat_minor": 2
}
