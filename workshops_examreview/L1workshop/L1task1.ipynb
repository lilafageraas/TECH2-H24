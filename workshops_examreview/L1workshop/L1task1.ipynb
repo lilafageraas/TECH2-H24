{
 "cells": [
  {
   "cell_type": "markdown",
   "metadata": {},
   "source": [
    "# Workshop Lecture 1, Exercise 1\n",
    "Write a program that divides two integers:\n",
    "- Use the input function to prompt the user for two\n",
    "integer values\n",
    "- Divide the first number on the second number\n",
    "- Display the result of the operation with one decimal"
   ]
  },
  {
   "cell_type": "code",
   "execution_count": 10,
   "metadata": {},
   "outputs": [
    {
     "name": "stdout",
     "output_type": "stream",
     "text": [
      "hello, this program divides the first number by the second number\n",
      "6 divided by 2 is equal to 3\n"
     ]
    }
   ],
   "source": [
    "print('hello, this program divides the first number by the second number')\n",
    "numerator = input('please write the first number: ')\n",
    "denominator = input('please write the second number: ')\n",
    "result = int(numerator) / int(denominator)\n",
    "print(f'{numerator} divided by {denominator} is equal to {int(result)}')"
   ]
  },
  {
   "cell_type": "markdown",
   "metadata": {},
   "source": [
    "for my own practice, I will save this as a function:"
   ]
  },
  {
   "cell_type": "code",
   "execution_count": 9,
   "metadata": {},
   "outputs": [
    {
     "name": "stdout",
     "output_type": "stream",
     "text": [
      "hello, this program divides the first number by the second number\n",
      "6 divided by 3 is equal to 2\n"
     ]
    }
   ],
   "source": [
    "result = []\n",
    "def input_num1_div_num2 (x):\n",
    "    print('hello, this program divides the first number by the second number')\n",
    "    numerator = input('please write the first number: ')\n",
    "    denominator = input('please write the second number: ')\n",
    "    result = int(numerator) / int(denominator)\n",
    "    print(f'{numerator} divided by {denominator} is equal to {int(result)}')\n",
    "\n",
    "input_num1_div_num2(result)"
   ]
  },
  {
   "cell_type": "markdown",
   "metadata": {},
   "source": [
    "here is the solution proposal from the lecturer:"
   ]
  },
  {
   "cell_type": "code",
   "execution_count": null,
   "metadata": {},
   "outputs": [],
   "source": [
    "# Welcome message\n",
    "print('This program divides two integer values.\\n')\n",
    "\n",
    "# Prompt user for input and convert to integer\n",
    "num1 = int(input('Enter the first integer: '))\n",
    "num2 = int(input('Enter the second integer: '))\n",
    "\n",
    "# Store division in new variable\n",
    "res = num1 / num2\n",
    "\n",
    "# Display result with two decimals\n",
    "print(f'{num1} / {num2} = {res:.1f}')\n",
    "\n",
    "# Alternatively, pass the calculation directly to the f-string\n",
    "#print(f'{num1} / {num2} = {num1 / num2:.2f}')"
   ]
  },
  {
   "cell_type": "markdown",
   "metadata": {},
   "source": [
    "the only difference in the code is that I turned the input into an integer during the calculation, and the solution turned the input into an integer in the input function"
   ]
  },
  {
   "cell_type": "markdown",
   "metadata": {},
   "source": [
    "using int() directly is better for consistensty"
   ]
  }
 ],
 "metadata": {
  "kernelspec": {
   "display_name": "base",
   "language": "python",
   "name": "python3"
  },
  "language_info": {
   "codemirror_mode": {
    "name": "ipython",
    "version": 3
   },
   "file_extension": ".py",
   "mimetype": "text/x-python",
   "name": "python",
   "nbconvert_exporter": "python",
   "pygments_lexer": "ipython3",
   "version": "3.12.4"
  }
 },
 "nbformat": 4,
 "nbformat_minor": 2
}
