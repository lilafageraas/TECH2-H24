{
 "cells": [
  {
   "cell_type": "markdown",
   "metadata": {},
   "source": [
    "# Workshop Lecture 1, Exercise 2\n",
    "write a program that divides two floats:\n",
    "\n",
    "• Use the input function to prompt the user for two\n",
    "float values\n",
    "\n",
    "• Divide the first number on the second number\n",
    "\n",
    "• Display the result of the operation with two decimals\n"
   ]
  },
  {
   "cell_type": "code",
   "execution_count": 1,
   "metadata": {},
   "outputs": [
    {
     "name": "stdout",
     "output_type": "stream",
     "text": [
      "number 1 divided by number 2 is 2.0\n"
     ]
    }
   ],
   "source": [
    "new_num = float(input('please write the first number: '))/float(input('pelase write the second number: '))\n",
    "print(f'number 1 divided by number 2 is {new_num}')\n"
   ]
  }
 ],
 "metadata": {
  "kernelspec": {
   "display_name": "base",
   "language": "python",
   "name": "python3"
  },
  "language_info": {
   "codemirror_mode": {
    "name": "ipython",
    "version": 3
   },
   "file_extension": ".py",
   "mimetype": "text/x-python",
   "name": "python",
   "nbconvert_exporter": "python",
   "pygments_lexer": "ipython3",
   "version": "3.12.4"
  }
 },
 "nbformat": 4,
 "nbformat_minor": 2
}
