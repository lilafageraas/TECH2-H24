{
 "cells": [
  {
   "cell_type": "markdown",
   "metadata": {},
   "source": [
    "# Workshop Lecture 1, Exercise 2\n",
    "write a program that divides two floats:\n",
    "\n",
    "• Use the input function to prompt the user for two\n",
    "float values\n",
    "\n",
    "• Divide the first number on the second number\n",
    "\n",
    "• Display the result of the operation with two decimals\n"
   ]
  },
  {
   "cell_type": "code",
   "execution_count": 1,
   "metadata": {},
   "outputs": [
    {
     "name": "stdout",
     "output_type": "stream",
     "text": [
      "number 1 divided by number 2 is 2.0\n"
     ]
    }
   ],
   "source": [
    "new_num = float(input('please write the first number: '))/float(input('pelase write the second number: '))\n",
    "print(f'number 1 divided by number 2 is {new_num}')\n"
   ]
  },
  {
   "cell_type": "markdown",
   "metadata": {},
   "source": [
    "this is the solution proposal from the lecturer:"
   ]
  },
  {
   "cell_type": "code",
   "execution_count": null,
   "metadata": {},
   "outputs": [
    {
     "ename": "",
     "evalue": "",
     "output_type": "error",
     "traceback": [
      "\u001b[1;31mRunning cells with 'Python 3.8.9' requires the ipykernel package.\n",
      "\u001b[1;31mRun the following command to install 'ipykernel' into the Python environment. \n",
      "\u001b[1;31mCommand: '/usr/bin/python3 -m pip install ipykernel -U --user --force-reinstall'"
     ]
    }
   ],
   "source": [
    "# Welcome message\n",
    "print('This program divides two floating point values.\\n')\n",
    "\n",
    "# Prompt user for input and convert to float\n",
    "num1 = float(input('Enter the first float: '))\n",
    "num2 = float(input('Enter the second float: '))\n",
    "\n",
    "# Store division in new variable\n",
    "res = num1 / num2\n",
    "\n",
    "# Display result with two decimals\n",
    "print(f'{num1} / {num2} = {res:.2f}')\n",
    "\n",
    "# Alternatively, pass the calculation directly to the f-string\n",
    "#print(f'{num1} / {num2} = {num1 / num2:.2f}')"
   ]
  },
  {
   "cell_type": "markdown",
   "metadata": {},
   "source": []
  }
 ],
 "metadata": {
  "kernelspec": {
   "display_name": "Python 3",
   "language": "python",
   "name": "python3"
  },
  "language_info": {
   "codemirror_mode": {
    "name": "ipython",
    "version": 3
   },
   "file_extension": ".py",
   "mimetype": "text/x-python",
   "name": "python",
   "nbconvert_exporter": "python",
   "pygments_lexer": "ipython3",
   "version": "3.8.9"
  }
 },
 "nbformat": 4,
 "nbformat_minor": 2
}
