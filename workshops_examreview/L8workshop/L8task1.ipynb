{
 "cells": [
  {
   "cell_type": "markdown",
   "metadata": {},
   "source": [
    "# Workshop Lecture 8, Exercise 1\n",
    "For this exercise, we’re using data on around 1,500 observations of house prices and house characteristics from Ames, a small city in Iowa.\n",
    "1. Load the Ames housing data set from ames_houses.csv located in the data/ folder.\n",
    "2. Restrict the data to the columns SalePrice and Neighborhood.\n",
    "3. Check that there are no observations with missing values in this data.\n",
    "4. Compute the average house price (column SalePrice) by neighborhood (column Neighborhood). List the three most expensive neighborhoods, for example by using sort_values().\n",
    "5. You are interested to quantify the price dispersion in each neighborhood. To this end, compute the standard deviation by neighborhood using std(). Which are the three neighborhoods with the most dispersed prices?\n",
    "6. An alternative measure of dispersion is the ratio of the 90th and 10th percentile of the house price distribution. Use the quantile() method to compute the P90 and P10 statistics by neighborhood, compute their ratio and print the three neighborhoods with the largest dispersion.\n",
    "\n",
    "Hint: The quantile() function takes quantiles as arguments, i.e., instead of the 90th percentile you need to specify the quantile as 0.9."
   ]
  },
  {
   "cell_type": "code",
   "execution_count": 18,
   "metadata": {},
   "outputs": [
    {
     "data": {
      "text/html": [
       "<div>\n",
       "<style scoped>\n",
       "    .dataframe tbody tr th:only-of-type {\n",
       "        vertical-align: middle;\n",
       "    }\n",
       "\n",
       "    .dataframe tbody tr th {\n",
       "        vertical-align: top;\n",
       "    }\n",
       "\n",
       "    .dataframe thead th {\n",
       "        text-align: right;\n",
       "    }\n",
       "</style>\n",
       "<table border=\"1\" class=\"dataframe\">\n",
       "  <thead>\n",
       "    <tr style=\"text-align: right;\">\n",
       "      <th></th>\n",
       "      <th>SalePrice</th>\n",
       "      <th>LotArea</th>\n",
       "      <th>Neighborhood</th>\n",
       "      <th>BuildingType</th>\n",
       "      <th>OverallQuality</th>\n",
       "      <th>OverallCondition</th>\n",
       "      <th>YearBuilt</th>\n",
       "      <th>CentralAir</th>\n",
       "      <th>LivingArea</th>\n",
       "      <th>Bathrooms</th>\n",
       "      <th>Bedrooms</th>\n",
       "      <th>Fireplaces</th>\n",
       "      <th>HasGarage</th>\n",
       "    </tr>\n",
       "  </thead>\n",
       "  <tbody>\n",
       "    <tr>\n",
       "      <th>0</th>\n",
       "      <td>208500.0</td>\n",
       "      <td>784.954075</td>\n",
       "      <td>CollgCr</td>\n",
       "      <td>Single-family</td>\n",
       "      <td>7</td>\n",
       "      <td>5</td>\n",
       "      <td>2003</td>\n",
       "      <td>Y</td>\n",
       "      <td>158.848694</td>\n",
       "      <td>2</td>\n",
       "      <td>3</td>\n",
       "      <td>0</td>\n",
       "      <td>1</td>\n",
       "    </tr>\n",
       "    <tr>\n",
       "      <th>1</th>\n",
       "      <td>181500.0</td>\n",
       "      <td>891.782144</td>\n",
       "      <td>Veenker</td>\n",
       "      <td>Single-family</td>\n",
       "      <td>6</td>\n",
       "      <td>8</td>\n",
       "      <td>1976</td>\n",
       "      <td>Y</td>\n",
       "      <td>117.232194</td>\n",
       "      <td>2</td>\n",
       "      <td>3</td>\n",
       "      <td>1</td>\n",
       "      <td>1</td>\n",
       "    </tr>\n",
       "    <tr>\n",
       "      <th>2</th>\n",
       "      <td>223500.0</td>\n",
       "      <td>1045.057200</td>\n",
       "      <td>CollgCr</td>\n",
       "      <td>Single-family</td>\n",
       "      <td>7</td>\n",
       "      <td>5</td>\n",
       "      <td>2001</td>\n",
       "      <td>Y</td>\n",
       "      <td>165.908636</td>\n",
       "      <td>2</td>\n",
       "      <td>3</td>\n",
       "      <td>1</td>\n",
       "      <td>1</td>\n",
       "    </tr>\n",
       "    <tr>\n",
       "      <th>3</th>\n",
       "      <td>140000.0</td>\n",
       "      <td>887.137445</td>\n",
       "      <td>Crawfor</td>\n",
       "      <td>Single-family</td>\n",
       "      <td>7</td>\n",
       "      <td>5</td>\n",
       "      <td>1915</td>\n",
       "      <td>Y</td>\n",
       "      <td>159.498952</td>\n",
       "      <td>1</td>\n",
       "      <td>3</td>\n",
       "      <td>1</td>\n",
       "      <td>1</td>\n",
       "    </tr>\n",
       "    <tr>\n",
       "      <th>4</th>\n",
       "      <td>250000.0</td>\n",
       "      <td>1324.668060</td>\n",
       "      <td>NoRidge</td>\n",
       "      <td>Single-family</td>\n",
       "      <td>8</td>\n",
       "      <td>5</td>\n",
       "      <td>2000</td>\n",
       "      <td>Y</td>\n",
       "      <td>204.180953</td>\n",
       "      <td>2</td>\n",
       "      <td>4</td>\n",
       "      <td>1</td>\n",
       "      <td>1</td>\n",
       "    </tr>\n",
       "  </tbody>\n",
       "</table>\n",
       "</div>"
      ],
      "text/plain": [
       "   SalePrice      LotArea Neighborhood   BuildingType  OverallQuality  \\\n",
       "0   208500.0   784.954075      CollgCr  Single-family               7   \n",
       "1   181500.0   891.782144      Veenker  Single-family               6   \n",
       "2   223500.0  1045.057200      CollgCr  Single-family               7   \n",
       "3   140000.0   887.137445      Crawfor  Single-family               7   \n",
       "4   250000.0  1324.668060      NoRidge  Single-family               8   \n",
       "\n",
       "   OverallCondition  YearBuilt CentralAir  LivingArea  Bathrooms  Bedrooms  \\\n",
       "0                 5       2003          Y  158.848694          2         3   \n",
       "1                 8       1976          Y  117.232194          2         3   \n",
       "2                 5       2001          Y  165.908636          2         3   \n",
       "3                 5       1915          Y  159.498952          1         3   \n",
       "4                 5       2000          Y  204.180953          2         4   \n",
       "\n",
       "   Fireplaces  HasGarage  \n",
       "0           0          1  \n",
       "1           1          1  \n",
       "2           1          1  \n",
       "3           1          1  \n",
       "4           1          1  "
      ]
     },
     "execution_count": 18,
     "metadata": {},
     "output_type": "execute_result"
    }
   ],
   "source": [
    "import pandas as pd\n",
    "\n",
    "DATA_PATH = '/Users/lilapfageraas/Downloads/nhh/tech2/TECH2-H24/data'\n",
    "file = pd.read_csv(f'{DATA_PATH}/ames_houses.csv')\n",
    "df = pd.DataFrame(file)\n",
    "df.head()"
   ]
  },
  {
   "cell_type": "code",
   "execution_count": 24,
   "metadata": {},
   "outputs": [
    {
     "name": "stdout",
     "output_type": "stream",
     "text": [
      "<class 'pandas.core.frame.DataFrame'>\n",
      "RangeIndex: 1460 entries, 0 to 1459\n",
      "Data columns (total 2 columns):\n",
      " #   Column        Non-Null Count  Dtype  \n",
      "---  ------        --------------  -----  \n",
      " 0   SalePrice     1460 non-null   float64\n",
      " 1   Neighborhood  1460 non-null   object \n",
      "dtypes: float64(1), object(1)\n",
      "memory usage: 22.9+ KB\n"
     ]
    }
   ],
   "source": [
    "#keep only saleprice and neighborhood\n",
    "df = df[['SalePrice', 'Neighborhood']]\n",
    "df.info() #see that the number of obsevations is the same as the number of non-missing observations"
   ]
  },
  {
   "cell_type": "code",
   "execution_count": 30,
   "metadata": {},
   "outputs": [
    {
     "data": {
      "text/html": [
       "<div>\n",
       "<style scoped>\n",
       "    .dataframe tbody tr th:only-of-type {\n",
       "        vertical-align: middle;\n",
       "    }\n",
       "\n",
       "    .dataframe tbody tr th {\n",
       "        vertical-align: top;\n",
       "    }\n",
       "\n",
       "    .dataframe thead th {\n",
       "        text-align: right;\n",
       "    }\n",
       "</style>\n",
       "<table border=\"1\" class=\"dataframe\">\n",
       "  <thead>\n",
       "    <tr style=\"text-align: right;\">\n",
       "      <th></th>\n",
       "      <th>SalePrice</th>\n",
       "    </tr>\n",
       "    <tr>\n",
       "      <th>Neighborhood</th>\n",
       "      <th></th>\n",
       "    </tr>\n",
       "  </thead>\n",
       "  <tbody>\n",
       "    <tr>\n",
       "      <th>NoRidge</th>\n",
       "      <td>335295.317073</td>\n",
       "    </tr>\n",
       "    <tr>\n",
       "      <th>NridgHt</th>\n",
       "      <td>316270.623377</td>\n",
       "    </tr>\n",
       "    <tr>\n",
       "      <th>StoneBr</th>\n",
       "      <td>310499.000000</td>\n",
       "    </tr>\n",
       "  </tbody>\n",
       "</table>\n",
       "</div>"
      ],
      "text/plain": [
       "                  SalePrice\n",
       "Neighborhood               \n",
       "NoRidge       335295.317073\n",
       "NridgHt       316270.623377\n",
       "StoneBr       310499.000000"
      ]
     },
     "execution_count": 30,
     "metadata": {},
     "output_type": "execute_result"
    }
   ],
   "source": [
    "#avg price per neghbourhood\n",
    "df.groupby('Neighborhood').mean().sort_values('SalePrice', ascending=False).head(3)"
   ]
  },
  {
   "cell_type": "code",
   "execution_count": 33,
   "metadata": {},
   "outputs": [
    {
     "data": {
      "text/html": [
       "<div>\n",
       "<style scoped>\n",
       "    .dataframe tbody tr th:only-of-type {\n",
       "        vertical-align: middle;\n",
       "    }\n",
       "\n",
       "    .dataframe tbody tr th {\n",
       "        vertical-align: top;\n",
       "    }\n",
       "\n",
       "    .dataframe thead th {\n",
       "        text-align: right;\n",
       "    }\n",
       "</style>\n",
       "<table border=\"1\" class=\"dataframe\">\n",
       "  <thead>\n",
       "    <tr style=\"text-align: right;\">\n",
       "      <th></th>\n",
       "      <th>SalePrice</th>\n",
       "    </tr>\n",
       "    <tr>\n",
       "      <th>Neighborhood</th>\n",
       "      <th></th>\n",
       "    </tr>\n",
       "  </thead>\n",
       "  <tbody>\n",
       "    <tr>\n",
       "      <th>NoRidge</th>\n",
       "      <td>121412.658640</td>\n",
       "    </tr>\n",
       "    <tr>\n",
       "      <th>StoneBr</th>\n",
       "      <td>112969.676640</td>\n",
       "    </tr>\n",
       "    <tr>\n",
       "      <th>NridgHt</th>\n",
       "      <td>96392.544954</td>\n",
       "    </tr>\n",
       "  </tbody>\n",
       "</table>\n",
       "</div>"
      ],
      "text/plain": [
       "                  SalePrice\n",
       "Neighborhood               \n",
       "NoRidge       121412.658640\n",
       "StoneBr       112969.676640\n",
       "NridgHt        96392.544954"
      ]
     },
     "execution_count": 33,
     "metadata": {},
     "output_type": "execute_result"
    }
   ],
   "source": [
    "df.groupby('Neighborhood').std().sort_values('SalePrice', ascending=False).head(3)"
   ]
  },
  {
   "cell_type": "code",
   "execution_count": 43,
   "metadata": {},
   "outputs": [],
   "source": [
    "per90 = df.groupby('Neighborhood').quantile(0.9)"
   ]
  },
  {
   "cell_type": "code",
   "execution_count": 35,
   "metadata": {},
   "outputs": [],
   "source": [
    "per10 = df.groupby('Neighborhood').quantile(0.1)"
   ]
  },
  {
   "cell_type": "code",
   "execution_count": 45,
   "metadata": {},
   "outputs": [
    {
     "data": {
      "text/html": [
       "<div>\n",
       "<style scoped>\n",
       "    .dataframe tbody tr th:only-of-type {\n",
       "        vertical-align: middle;\n",
       "    }\n",
       "\n",
       "    .dataframe tbody tr th {\n",
       "        vertical-align: top;\n",
       "    }\n",
       "\n",
       "    .dataframe thead th {\n",
       "        text-align: right;\n",
       "    }\n",
       "</style>\n",
       "<table border=\"1\" class=\"dataframe\">\n",
       "  <thead>\n",
       "    <tr style=\"text-align: right;\">\n",
       "      <th></th>\n",
       "      <th>SalePrice</th>\n",
       "    </tr>\n",
       "    <tr>\n",
       "      <th>Neighborhood</th>\n",
       "      <th></th>\n",
       "    </tr>\n",
       "  </thead>\n",
       "  <tbody>\n",
       "    <tr>\n",
       "      <th>IDOTRR</th>\n",
       "      <td>2.546182</td>\n",
       "    </tr>\n",
       "    <tr>\n",
       "      <th>StoneBr</th>\n",
       "      <td>2.533834</td>\n",
       "    </tr>\n",
       "    <tr>\n",
       "      <th>BrkSide</th>\n",
       "      <td>2.309796</td>\n",
       "    </tr>\n",
       "  </tbody>\n",
       "</table>\n",
       "</div>"
      ],
      "text/plain": [
       "              SalePrice\n",
       "Neighborhood           \n",
       "IDOTRR         2.546182\n",
       "StoneBr        2.533834\n",
       "BrkSide        2.309796"
      ]
     },
     "execution_count": 45,
     "metadata": {},
     "output_type": "execute_result"
    }
   ],
   "source": [
    "ratioper90to10 = per90 / per10\n",
    "ratioper90to10.sort_values('SalePrice', ascending=False).head(3)"
   ]
  }
 ],
 "metadata": {
  "kernelspec": {
   "display_name": "base",
   "language": "python",
   "name": "python3"
  },
  "language_info": {
   "codemirror_mode": {
    "name": "ipython",
    "version": 3
   },
   "file_extension": ".py",
   "mimetype": "text/x-python",
   "name": "python",
   "nbconvert_exporter": "python",
   "pygments_lexer": "ipython3",
   "version": "3.12.4"
  }
 },
 "nbformat": 4,
 "nbformat_minor": 2
}
