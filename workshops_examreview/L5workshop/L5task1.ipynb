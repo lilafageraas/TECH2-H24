{
 "cells": [
  {
   "cell_type": "markdown",
   "metadata": {},
   "source": [
    "# Workshop Lecture 5, Exercise 1\n",
    "### Math Tech Quest Problem:\n",
    "We want to solve the following equation:\n",
    "\n",
    "(𝑎𝑏𝑐 × 𝑑𝑒) − (𝑓𝑔ℎ × 𝑖𝑗) = 0\n",
    "\n",
    "where the variables a-j is equal to a digit between 0-9 and each digit can be used only once\n",
    "\n",
    "Note that there are 3,628,800 possible combinations of the digits (use calculator here) (However, only 198 combinations satisfy the equation)\n",
    "\n",
    "### Exercise 1 a)\n",
    "Create a function called check_combinations that finds all of the solutions to the MathTechQuest problem:\n",
    "The function should use a for loop to calculate the equation for each possible combination of the digits\n",
    "- The function does not require any inputs\n",
    "- The function should return a list that contains all of the combinations that satisfiy the equation\n",
    "\n",
    "Hint: use permutations from the itertools package to generate all possible combinations (see example here)\n",
    "- permutations take a sequence of items, e.g. a list of numbers\n",
    "- Creates all unique combinations of the items in the sequence\n",
    "- Each combination can be accessed inside a for loop\n"
   ]
  },
  {
   "cell_type": "code",
   "execution_count": null,
   "metadata": {},
   "outputs": [],
   "source": []
  },
  {
   "cell_type": "code",
   "execution_count": null,
   "metadata": {},
   "outputs": [
    {
     "ename": "SyntaxError",
     "evalue": "expected '(' (328439700.py, line 5)",
     "output_type": "error",
     "traceback": [
      "\u001b[0;36m  Cell \u001b[0;32mIn[3], line 5\u001b[0;36m\u001b[0m\n\u001b[0;31m    def check_combinations:\u001b[0m\n\u001b[0m                          ^\u001b[0m\n\u001b[0;31mSyntaxError\u001b[0m\u001b[0;31m:\u001b[0m expected '('\n"
     ]
    }
   ],
   "source": [
    "from itertools import permutations\n",
    "\n",
    "numbers = [0, 1, 2, 3, 4, 5, 6, 7, 8, 9]\n",
    "\n",
    "def check_combinations():\n",
    "    for i in permutations(numbers):\n",
    "        if \n",
    "            (a*b*c*d*e)-(f*g*h*i*j)\n",
    "\n",
    "    return[] #list that satisfies all combinations"
   ]
  }
 ],
 "metadata": {
  "kernelspec": {
   "display_name": "base",
   "language": "python",
   "name": "python3"
  },
  "language_info": {
   "codemirror_mode": {
    "name": "ipython",
    "version": 3
   },
   "file_extension": ".py",
   "mimetype": "text/x-python",
   "name": "python",
   "nbconvert_exporter": "python",
   "pygments_lexer": "ipython3",
   "version": "3.12.4"
  }
 },
 "nbformat": 4,
 "nbformat_minor": 2
}
