{
 "cells": [
  {
   "cell_type": "markdown",
   "metadata": {},
   "source": [
    "# Workshop Lecture 9, Exercise 2 (NB! NOT DONE)\n",
    "In the previous exercise, you loaded the individual files by specifing an explicit list of file names. This can become tedious or infeasible if your data is spread across many files with varying file name patterns.\n",
    "Python offers the possibility to iterate over all files in a directory (for example, using os.listdir()), or to iterate over files that match a pattern, for example using glob.glob().\n",
    "Repeat parts (1) and (2) from the previous exercise, but now iterate over the input files using glob.glob().\n",
    "You’ll need to use a wildcard * and make sure to match only the relevant files in ../data/FRED, i.e., those that start with FRED_monthly"
   ]
  },
  {
   "cell_type": "code",
   "execution_count": null,
   "metadata": {},
   "outputs": [],
   "source": []
  }
 ],
 "metadata": {
  "language_info": {
   "name": "python"
  }
 },
 "nbformat": 4,
 "nbformat_minor": 2
}
