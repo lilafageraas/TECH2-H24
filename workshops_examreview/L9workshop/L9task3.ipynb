{
 "cells": [
  {
   "cell_type": "markdown",
   "metadata": {},
   "source": [
    "# Workshop Lecture 9, Exercise 3\n",
    "For this exercise, you’ll be using macroeconomic data from the folder ../data/FRED.\n",
    "1. There are five files containing monthly observations on annual inflation (INFLATION), the Fed Funds rate (FEDFUNDS), the labor force participation rate (LFPART), the 1-year real interest rate (REALRATE) and the unemployment rate (UNRATE). Write a loop to import these and merge them on DATE into a single DataFrame using outer joins (recall that merge() and join() operate on only two DataFrames at a time).\n",
    "\n",
    "Hint: Recall from the lecture that you should use pd.read_csv(. . . , parse_dates=[‘DATE’]) to automatically parse strings stored in the DATE column as dates.\n",
    "\n",
    "2. Your friend is a pandas guru and tells you that you don’t need to iteratively merge many files but can instead directly use pd.concat() for merging many DataFrames in a single step. Repeat the previous part using pd.concat() instead, and verify that you get the same result (you can do this using compare())\n",
    "3. You want to compute the average value of each variable by decade, but you want to include only decades without any missing values for all variables.\n",
    "- Create a variable Decade which stores the decade (1940, 1950, . . . ) for each observation.\n",
    "\n",
    "Hint: You should have set the DATE as the DataFrame index. Then you can access the calendar year using the attribute df.index.year which can be used to compute the decade.\n",
    "\n",
    "- Write a function num_missing(x) which takes as argument x a Series and returns the number of missing values in this Series.\n",
    "- Compute the number of missing values by decade for each variable using a groupby()\n",
    "operation and the function num_missing you wrote.\n",
    "- Aggregate this data across all variables to create an indicator for each decade whether there are any missing values. This can be done in many ways but will require aggregation across columns, e.g., with sum(..., axis=1).\n",
    "- Merge this decade-level indicator data back into the original DataFrame (many-to-one merge).\n",
    "4. Using this indicator, drop all observations which are in a decade with missing values.\n",
    "5. Compute the decade average for each variable\n",
    "\n",
    "Challenge: Your pandas guru friend claims that all the steps in 3.2 to 3.5 can be done with a single one-liner using transform(). Can you come up with a solution?"
   ]
  },
  {
   "cell_type": "code",
   "execution_count": null,
   "metadata": {},
   "outputs": [],
   "source": []
  }
 ],
 "metadata": {
  "language_info": {
   "name": "python"
  }
 },
 "nbformat": 4,
 "nbformat_minor": 2
}
