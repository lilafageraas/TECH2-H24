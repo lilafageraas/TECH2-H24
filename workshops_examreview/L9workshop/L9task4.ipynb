{
 "cells": [
  {
   "cell_type": "markdown",
   "metadata": {},
   "source": [
    "# Workshop Lecture 9, Exercise 4\n",
    "In this exercise, you’ll be working with the the original Titanic data set in titanic.csv and additional (partly fictitious) information on passengers stored in titanic-additional.csv, both located in the data/ folder.\n",
    "The goal of the exercise is to calculate the survival rates by country of residence (for this exercise we restrict ourselves to the UK, so these will be England, Scotland, etc.).\n",
    "1. Load the titanic.csv and titanic-additional.csv into two DataFrames.\n",
    "Inspect the columns contained in both data sets. As you can see, the original data contains the full name including the title and potentially maiden name (for married women) in a single column. The additional data contains this information in separate columns. You want to merge these data sets, but you first need to create common keys in both DataFrames.\n",
    "2. Since the only common information is the name, you’ll need to extract the individual name components from the original DataFrame and use these as merge keys. Focusing only on men (who have names that are much easier to parse), split the Name column into the tokens Title, FirstName and LastName, just like the columns in the second DataFrame.\n",
    "\n",
    "Hint: This is the same task as in the last exercise in Workshop 2. You can just use your solution here.\n",
    "\n",
    "3. Merge the two data sets based on the columns Title, FirstName and LastName you just created using a left join (one-to-one merge). Tabulate the columns and the number of non-missing observations to make sure that merging worked.\n",
    "\n",
    "Note: The additional data set contains address information only for passengers from the UK, so some of these fields will be missing.\n",
    "\n",
    "4. You are now in a position to merge the country of residence (many-to-one merge). Load the country data from UK_post_codes.csv which contains the UK post code prefix (which you can ignore), the corresponding city, and the corresponding country. Merge this data with your passenger data set using a left join (what is the correct merge key?).\n",
    "5. Tabulate the number of observations by Country, including the number of observations with missing Country (these are passengers residing outside the UK).\n",
    "Finally, compute the mean survival rate by county"
   ]
  },
  {
   "cell_type": "code",
   "execution_count": null,
   "metadata": {},
   "outputs": [],
   "source": []
  }
 ],
 "metadata": {
  "language_info": {
   "name": "python"
  }
 },
 "nbformat": 4,
 "nbformat_minor": 2
}
