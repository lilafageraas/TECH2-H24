{
 "cells": [
  {
   "cell_type": "markdown",
   "metadata": {},
   "source": [
    "# Workshop Lecture 4, Exercise 1\n",
    "Create a function called tempConversion that converts a temperature either from Celsius->Fahrenheit or from Fahrenheit->Celsius:\n",
    "\n",
    "The function has two parameters:\n",
    "- temp – a temperature to be converted\n",
    "- scale – a variable indicating whether the temperature is in Fahrenheit or Celsius\n",
    "\n",
    "Convert the temperature using the following formulas:\n",
    "- C = (5 / 9)*(F – 32)\n",
    "- F = (9 / 5) * C + 32\n",
    "\n",
    "The function should return the converted temperature\n",
    "\n",
    "Demonstrate the function by converting 32 degrees Fahrenheit to Celsius\n"
   ]
  },
  {
   "cell_type": "code",
   "execution_count": 6,
   "metadata": {},
   "outputs": [],
   "source": [
    "def tempConversion(scale, temp):\n",
    "    if scale.upper() in ['F', 'C']:\n",
    "        try:\n",
    "            temp = float(temp)\n",
    "\n",
    "            if scale.upper() == 'F':\n",
    "                new_temp = (9/5)*temp + 32\n",
    "                print(f'the temperature is {new_temp} degrees fahrenheit')\n",
    "            \n",
    "            elif scale.upper() == 'C':\n",
    "                new_temp = (5/9)*(temp - 32)\n",
    "                print(f'the temperature is {new_temp} degrees celcius')\n",
    "        except:\n",
    "            print('the temperature must be a number')\n",
    "    else:\n",
    "        print('invalid input, you must write either \"F\" or \"C\"')"
   ]
  },
  {
   "cell_type": "code",
   "execution_count": 7,
   "metadata": {},
   "outputs": [
    {
     "name": "stdout",
     "output_type": "stream",
     "text": [
      "the temperature is 190.4 degrees fahrenheit\n"
     ]
    }
   ],
   "source": [
    "tempConversion('f', 88)"
   ]
  }
 ],
 "metadata": {
  "kernelspec": {
   "display_name": "Python 3",
   "language": "python",
   "name": "python3"
  },
  "language_info": {
   "codemirror_mode": {
    "name": "ipython",
    "version": 3
   },
   "file_extension": ".py",
   "mimetype": "text/x-python",
   "name": "python",
   "nbconvert_exporter": "python",
   "pygments_lexer": "ipython3",
   "version": "3.9.6"
  }
 },
 "nbformat": 4,
 "nbformat_minor": 2
}
