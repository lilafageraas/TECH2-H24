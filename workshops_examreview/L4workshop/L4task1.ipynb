{
 "cells": [
  {
   "cell_type": "markdown",
   "metadata": {},
   "source": [
    "# Workshop Lecture 4, Exercise 1\n",
    "Create a function called tempConversion that converts a temperature either from Celsius->Fahrenheit or from Fahrenheit->Celsius:\n",
    "\n",
    "The function has two parameters:\n",
    "- temp – a temperature to be converted\n",
    "- scale – a variable indicating whether the temperature is in Fahrenheit or Celsius\n",
    "\n",
    "Convert the temperature using the following formulas:\n",
    "- C = (5 / 9)*(F – 32)\n",
    "- F = (9 / 5) * C + 32\n",
    "\n",
    "The function should return the converted temperature\n",
    "\n",
    "Demonstrate the function by converting 32 degrees Fahrenheit to Celsius\n"
   ]
  },
  {
   "cell_type": "code",
   "execution_count": 17,
   "metadata": {},
   "outputs": [],
   "source": [
    "def tempConversion (temp):\n",
    "    scale = input('write \"F\" to convert from celcius to fahrenheit and \"C\" to convert from fahrenheit to celcius: ')\n",
    "\n",
    "    if scale in ['F', 'C']:\n",
    "        temp = float(temp)\n",
    "\n",
    "        if scale == 'F':\n",
    "            new_temp = (9/5)*temp + 32\n",
    "            print(f'the temperature is {new_temp} degrees fahrenheit')\n",
    "        \n",
    "        elif scale == 'C':\n",
    "            new_temp = (5/9)*(temp - 32)\n",
    "            print(f'the temperature is {new_temp} degrees celcius')\n",
    "    else:\n",
    "        print('invalid input, you must write either \"F\" or \"C\"')\n",
    "    \n",
    "    return(new_temp)"
   ]
  },
  {
   "cell_type": "code",
   "execution_count": 18,
   "metadata": {},
   "outputs": [
    {
     "name": "stdout",
     "output_type": "stream",
     "text": [
      "the temperature is 0.0 degrees celcius\n"
     ]
    },
    {
     "data": {
      "text/plain": [
       "0.0"
      ]
     },
     "execution_count": 18,
     "metadata": {},
     "output_type": "execute_result"
    }
   ],
   "source": [
    "tempConversion(32)"
   ]
  }
 ],
 "metadata": {
  "kernelspec": {
   "display_name": "Python 3",
   "language": "python",
   "name": "python3"
  },
  "language_info": {
   "codemirror_mode": {
    "name": "ipython",
    "version": 3
   },
   "file_extension": ".py",
   "mimetype": "text/x-python",
   "name": "python",
   "nbconvert_exporter": "python",
   "pygments_lexer": "ipython3",
   "version": "3.8.9"
  }
 },
 "nbformat": 4,
 "nbformat_minor": 2
}
