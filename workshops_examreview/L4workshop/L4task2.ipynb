{
 "cells": [
  {
   "cell_type": "markdown",
   "metadata": {},
   "source": [
    "# Workshop Lecture 5, Exericse 2\n",
    "### Exercise 2 a)\n",
    "Create a function called effective_interest_rate that calculates the effective interest rate:\n",
    "\n",
    "The function has two parameters:\n",
    "- r – the annual interest rate\n",
    "- n – the number of times during the year that the interest is compounded\n",
    "\n",
    "Calculate the effective interest rate (R) with the following formula:\n",
    "\n",
    "𝑅 = (1 + 𝑟/𝑛)^n -1\n",
    "\n",
    "Demonstrate the function by calculating the effective interest rate when the annual interest rate is 9% and compounded:\n",
    "- Each quarter (n=4)\n",
    "- Each month (n=12)\n"
   ]
  },
  {
   "cell_type": "code",
   "execution_count": 2,
   "metadata": {},
   "outputs": [],
   "source": [
    "def effective_interest_rate (r, n):\n",
    "    e_i_rate = (1 + r/n)**n -1\n",
    "    return(print(f'the effective interest rate is {e_i_rate*100:.2f}%'))"
   ]
  },
  {
   "cell_type": "code",
   "execution_count": 10,
   "metadata": {},
   "outputs": [
    {
     "name": "stdout",
     "output_type": "stream",
     "text": [
      "the effective interest rate is 9.31%\n"
     ]
    }
   ],
   "source": [
    "effective_interest_rate(0.09, 4)"
   ]
  },
  {
   "cell_type": "code",
   "execution_count": 11,
   "metadata": {},
   "outputs": [
    {
     "name": "stdout",
     "output_type": "stream",
     "text": [
      "the effective interest rate is 9.38%\n"
     ]
    }
   ],
   "source": [
    "effective_interest_rate(0.09, 12)"
   ]
  },
  {
   "cell_type": "markdown",
   "metadata": {},
   "source": [
    "# Exercise 2 b)\n",
    "Use the function effective_interest_rate from exercise 2a to answer the following question:\n",
    "\n",
    "- When investing in a savings account, which of the following offers are better:\n",
    "    \n",
    "    i. 5.9% with interest paid quarterly\n",
    "    \n",
    "    ii. 6% with interest paid twice a year\n"
   ]
  },
  {
   "cell_type": "code",
   "execution_count": 3,
   "metadata": {},
   "outputs": [
    {
     "name": "stdout",
     "output_type": "stream",
     "text": [
      "the effective interest rate is 6.03%\n"
     ]
    }
   ],
   "source": [
    "#option 1: 5,9% interest paid quarterly\n",
    "effective_interest_rate(0.059, 4)"
   ]
  },
  {
   "cell_type": "code",
   "execution_count": 4,
   "metadata": {},
   "outputs": [
    {
     "name": "stdout",
     "output_type": "stream",
     "text": [
      "the effective interest rate is 6.09%\n"
     ]
    }
   ],
   "source": [
    "#option 2: 6% interest paid twice a year\n",
    "effective_interest_rate(0.06, 2)"
   ]
  },
  {
   "cell_type": "markdown",
   "metadata": {},
   "source": [
    "the better choice is option 2"
   ]
  }
 ],
 "metadata": {
  "kernelspec": {
   "display_name": "Python 3",
   "language": "python",
   "name": "python3"
  },
  "language_info": {
   "codemirror_mode": {
    "name": "ipython",
    "version": 3
   },
   "file_extension": ".py",
   "mimetype": "text/x-python",
   "name": "python",
   "nbconvert_exporter": "python",
   "pygments_lexer": "ipython3",
   "version": "3.8.9"
  }
 },
 "nbformat": 4,
 "nbformat_minor": 2
}
