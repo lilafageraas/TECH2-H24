{
 "cells": [
  {
   "cell_type": "markdown",
   "metadata": {},
   "source": [
    "# Workshop Lecture 4, Exercise 3\n",
    "Modify the temperature conversion program from week 2 (exercise 3) by converting it to a program that uses functions only\n",
    "\n",
    "Write a program that consists of four functions:\n",
    "- getTemp – prompt the user for the temperature to convert\n",
    "- getScale – prompt the user for the scale of the temperature (F or C)\n",
    "- tempConversion – convert the temperature (F->C or C->F)\n",
    "- main – calls all the other functions and displays the converted temperature\n",
    "\n",
    "Design the program so that it ensures valid user-supplied inputs\n",
    "- Temperature is a number\n",
    "- Scale is either F (Fahrenheit) or C (Celsius)\n"
   ]
  },
  {
   "cell_type": "code",
   "execution_count": 29,
   "metadata": {},
   "outputs": [],
   "source": [
    "# Prompt user for selection\n",
    "def getScale ():\n",
    "    scale = input('Enter selection: ')\n",
    "    return(scale)\n",
    "\n",
    "# Prompt user for temperature\n",
    "def getTemp ():\n",
    "    temp = input('Enter temperature to convert: ')\n",
    "    return(temp)\n",
    "\n",
    "# Check that selection is valid\n",
    "def tempConversion ():\n",
    "\n",
    "    scale = getScale()\n",
    "    temp = getTemp()\n",
    "\n",
    "    if scale.upper() in ('F', 'C'):\n",
    "\n",
    "        # Check that temperature is a number\n",
    "        try:\n",
    "            # Convert temperature to float\n",
    "            temp = float(temp)   \n",
    "        \n",
    "            # Convert Fahrenheit -> Celsius\n",
    "            if scale.upper() == 'F':\n",
    "                converted_temp = (temp - 32) * 5 / 9\n",
    "                print(f'\\n{temp} degrees Fahrenheit equals {converted_temp:.1f} degrees Celsius.')\n",
    "\n",
    "            # Convert Celsius -> Fahrenheit\n",
    "            else:\n",
    "                converted_temp = (9 / 5) * t + 32\n",
    "                print(f'\\n{temp} degrees Celsius equals {converted_temp:.1f} degrees Fahrenheit.')\n",
    "        \n",
    "        # Print that temperature is not a number\n",
    "        except:\n",
    "            print('\\nINVALID INPUT')\n",
    "            print('Temperature must be a number')\n",
    "    \n",
    "    # Print that selection is invalid\n",
    "    else:\n",
    "        print('\\nINVALID INPUT')\n",
    "        print('You must select \"F\" or \"C\"')\n",
    "\n",
    "def main ():\n",
    "    print('This program will convert temperatures (Fahrenheit/Celsius)')\n",
    "    print('Enter \"F\" to convert from Fahrenheit to Celsius')\n",
    "    print('Enter \"C\" to convert from Celsius to Fahrenheit\\n')\n",
    "    converted_temp = tempConversion()\n",
    "    return (converted_temp)"
   ]
  },
  {
   "cell_type": "code",
   "execution_count": 30,
   "metadata": {},
   "outputs": [
    {
     "name": "stdout",
     "output_type": "stream",
     "text": [
      "This program will convert temperatures (Fahrenheit/Celsius)\n",
      "Enter \"F\" to convert from Fahrenheit to Celsius\n",
      "Enter \"C\" to convert from Celsius to Fahrenheit\n",
      "\n",
      "\n",
      "44.0 degrees Fahrenheit equals 6.7 degrees Celsius.\n"
     ]
    }
   ],
   "source": [
    "main()"
   ]
  },
  {
   "cell_type": "code",
   "execution_count": null,
   "metadata": {},
   "outputs": [],
   "source": []
  }
 ],
 "metadata": {
  "kernelspec": {
   "display_name": "Python 3",
   "language": "python",
   "name": "python3"
  },
  "language_info": {
   "codemirror_mode": {
    "name": "ipython",
    "version": 3
   },
   "file_extension": ".py",
   "mimetype": "text/x-python",
   "name": "python",
   "nbconvert_exporter": "python",
   "pygments_lexer": "ipython3",
   "version": "3.8.9"
  }
 },
 "nbformat": 4,
 "nbformat_minor": 2
}
