{
 "cells": [
  {
   "cell_type": "markdown",
   "metadata": {},
   "source": [
    "# Workshop Lecture 4, Exercise 3\n",
    "Modify the temperature conversion program from week 2 (exercise 3) by converting it to a program that uses functions only\n",
    "\n",
    "Write a program that consists of four functions:\n",
    "- getTemp – prompt the user for the temperature to convert\n",
    "- getScale – prompt the user for the scale of the temperature (F or C)\n",
    "- tempConversion – convert the temperature (F->C or C->F)\n",
    "- main – calls all the other functions and displays the converted temperature\n",
    "\n",
    "Design the program so that it ensures valid user-supplied inputs\n",
    "- Temperature is a number\n",
    "- Scale is either F (Fahrenheit) or C (Celsius)\n"
   ]
  },
  {
   "cell_type": "code",
   "execution_count": null,
   "metadata": {},
   "outputs": [],
   "source": [
    "# Prompt user for selection\n",
    "def getScale (scale):\n",
    "    scale = input('Enter selection: ')\n",
    "    return(scale)\n",
    "\n",
    "# Prompt user for temperature\n",
    "def getTemp (temp):\n",
    "    temp = input('Enter temperature to convert: ')\n",
    "    return(temp)\n",
    "\n",
    "# Check that selection is valid\n",
    "def tempConversion (scale, temp):\n",
    "\n",
    "    scale = getScale(scale)\n",
    "\n",
    "    temp = getTemp(temp)\n",
    "\n",
    "    if scale.upper() in ('F', 'C'):\n",
    "\n",
    "        # Check that temperature is a number\n",
    "        try:\n",
    "            # Convert temperature to float\n",
    "            temp = float(temp)   \n",
    "        \n",
    "            # Convert Fahrenheit -> Celsius\n",
    "            if scale.upper() == 'F':\n",
    "                converted_temp = (temp - 32) * 5 / 9\n",
    "                print(f'\\n{temp} degrees Fahrenheit equals {converted_temp:.1f} degrees Celsius.')\n",
    "\n",
    "            # Convert Celsius -> Fahrenheit\n",
    "            else:\n",
    "                converted_temp = (9 / 5) * T + 32\n",
    "                print(f'\\n{temp} degrees Celsius equals {converted_temp:.1f} degrees Fahrenheit.')\n",
    "        \n",
    "        # Print that temperature is not a number\n",
    "        except:\n",
    "            print('\\nINVALID INPUT')\n",
    "            print('Temperature must be a number')\n",
    "    \n",
    "    # Print that selection is invalid\n",
    "    else:\n",
    "        print('\\nINVALID INPUT')\n",
    "        print('You must select \"F\" or \"C\"')\n",
    "\n",
    "def main (temp):\n",
    "    print('This program will convert temperatures (Fahrenheit/Celsius)')\n",
    "    print('Enter \"F\" to convert from Fahrenheit to Celsius')\n",
    "    print('Enter \"C\" to convert from Celsius to Fahrenheit\\n')\n",
    "    tempConversion(temp)\n",
    "    return (converted_temp)"
   ]
  },
  {
   "cell_type": "code",
   "execution_count": 20,
   "metadata": {},
   "outputs": [
    {
     "name": "stdout",
     "output_type": "stream",
     "text": [
      "This program will convert temperatures (Fahrenheit/Celsius)\n",
      "Enter \"F\" to convert from Fahrenheit to Celsius\n",
      "Enter \"C\" to convert from Celsius to Fahrenheit\n",
      "\n"
     ]
    },
    {
     "ename": "TypeError",
     "evalue": "tempConversion() missing 1 required positional argument: 'temp'",
     "output_type": "error",
     "traceback": [
      "\u001b[0;31m---------------------------------------------------------------------------\u001b[0m",
      "\u001b[0;31mTypeError\u001b[0m                                 Traceback (most recent call last)",
      "Cell \u001b[0;32mIn[20], line 1\u001b[0m\n\u001b[0;32m----> 1\u001b[0m \u001b[43mmain\u001b[49m\u001b[43m(\u001b[49m\u001b[38;5;241;43m32\u001b[39;49m\u001b[43m)\u001b[49m\n",
      "Cell \u001b[0;32mIn[18], line 49\u001b[0m, in \u001b[0;36mmain\u001b[0;34m(temp)\u001b[0m\n\u001b[1;32m     47\u001b[0m \u001b[38;5;28mprint\u001b[39m(\u001b[38;5;124m'\u001b[39m\u001b[38;5;124mEnter \u001b[39m\u001b[38;5;124m\"\u001b[39m\u001b[38;5;124mF\u001b[39m\u001b[38;5;124m\"\u001b[39m\u001b[38;5;124m to convert from Fahrenheit to Celsius\u001b[39m\u001b[38;5;124m'\u001b[39m)\n\u001b[1;32m     48\u001b[0m \u001b[38;5;28mprint\u001b[39m(\u001b[38;5;124m'\u001b[39m\u001b[38;5;124mEnter \u001b[39m\u001b[38;5;124m\"\u001b[39m\u001b[38;5;124mC\u001b[39m\u001b[38;5;124m\"\u001b[39m\u001b[38;5;124m to convert from Celsius to Fahrenheit\u001b[39m\u001b[38;5;130;01m\\n\u001b[39;00m\u001b[38;5;124m'\u001b[39m)\n\u001b[0;32m---> 49\u001b[0m \u001b[43mtempConversion\u001b[49m\u001b[43m(\u001b[49m\u001b[43mtemp\u001b[49m\u001b[43m)\u001b[49m\n\u001b[1;32m     50\u001b[0m \u001b[38;5;28;01mreturn\u001b[39;00m (converted_temp)\n",
      "\u001b[0;31mTypeError\u001b[0m: tempConversion() missing 1 required positional argument: 'temp'"
     ]
    }
   ],
   "source": [
    "main(32)"
   ]
  },
  {
   "cell_type": "code",
   "execution_count": null,
   "metadata": {},
   "outputs": [],
   "source": []
  }
 ],
 "metadata": {
  "kernelspec": {
   "display_name": "Python 3",
   "language": "python",
   "name": "python3"
  },
  "language_info": {
   "codemirror_mode": {
    "name": "ipython",
    "version": 3
   },
   "file_extension": ".py",
   "mimetype": "text/x-python",
   "name": "python",
   "nbconvert_exporter": "python",
   "pygments_lexer": "ipython3",
   "version": "3.8.9"
  }
 },
 "nbformat": 4,
 "nbformat_minor": 2
}
