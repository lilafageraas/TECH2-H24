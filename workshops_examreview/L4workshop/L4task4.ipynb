{
 "cells": [
  {
   "cell_type": "markdown",
   "metadata": {},
   "source": [
    "# Workshop Lecture 4, Exercise 4\n",
    "### Exercise 4 a)\n",
    "Create a function called randomCharacter that selects a random character from a sequence of characters:\n",
    "\n",
    "The function has one parameter:\n",
    "- sequence – a string containing characters\n",
    "\n",
    "Select a character at a random index in the sequence\n",
    "- Hint: use randint from random to draw a random index\n",
    "\n",
    "Return the random character\n",
    "\n",
    "Demonstrate the function by drawing a random character from the following sequences:\n",
    "- ‘abcdefghijklmnopqrstuvwxyz’\n",
    "- ‘0123456789’\n",
    "- ‘’ (empty string)\n"
   ]
  },
  {
   "cell_type": "code",
   "execution_count": 17,
   "metadata": {},
   "outputs": [],
   "source": [
    "def randomCharacter (sequence):\n",
    "    from random import randint\n",
    "    return(sequence[randint(0, len(sequence))])"
   ]
  },
  {
   "cell_type": "code",
   "execution_count": 18,
   "metadata": {},
   "outputs": [
    {
     "data": {
      "text/plain": [
       "'z'"
      ]
     },
     "execution_count": 18,
     "metadata": {},
     "output_type": "execute_result"
    }
   ],
   "source": [
    "randomCharacter('abcdefghijklmnopqrstuvwxyz')"
   ]
  },
  {
   "cell_type": "code",
   "execution_count": 19,
   "metadata": {},
   "outputs": [
    {
     "data": {
      "text/plain": [
       "'1'"
      ]
     },
     "execution_count": 19,
     "metadata": {},
     "output_type": "execute_result"
    }
   ],
   "source": [
    "randomCharacter('0123456789')"
   ]
  },
  {
   "cell_type": "markdown",
   "metadata": {},
   "source": [
    "### Exercise 4 b)\n",
    "Write a program that generates a random password of minimum three characters. The program consists of four functions:\n",
    "\n",
    "- getLength – prompts the user for the length of the password\n",
    "- randomCharacter – selects a character at a random index from a sequence of characters\n",
    "- makePassword – generates a random password of a given length that consists of:\n",
    "    - Lowercase letters (abcdefghijklmnopqrstuvwxyz)\n",
    "    - A single digit (0-9) and symbol (+-*/?!@#$%&) placed at random locations in the password except for the first location\n",
    "        \n",
    "        Hint: use lst.insert(i, item) to insert item at index i in list lst.\n",
    "- main – calls the program and displays the password\n",
    "\n",
    "Design the program so that it ensures a valid user-supplied input, i.e., length must be an integer that is 3 or larger.\n"
   ]
  },
  {
   "cell_type": "markdown",
   "metadata": {},
   "source": [
    "firstly, let me make the functions so that they work, then i can add the details"
   ]
  },
  {
   "cell_type": "code",
   "execution_count": 100,
   "metadata": {},
   "outputs": [],
   "source": [
    "def getLength1():\n",
    "    length = input('what do you want the length of the password to be: ')\n",
    "    return (int(length))"
   ]
  },
  {
   "cell_type": "code",
   "execution_count": 101,
   "metadata": {},
   "outputs": [],
   "source": [
    "def randomCharacter1 (sequence):\n",
    "    from random import randint\n",
    "    return(sequence[randint(0, len(sequence))])"
   ]
  },
  {
   "cell_type": "code",
   "execution_count": 102,
   "metadata": {},
   "outputs": [],
   "source": [
    "def makePassword1 ():\n",
    "\n",
    "    length = getLength1()\n",
    "    password =[]\n",
    "    \n",
    "    for i in range(length):\n",
    "        password.insert(i, randomCharacter1('abcdefghijklmnopqrstuvwxyz0123456789+-*/?!@#$%&'))\n",
    "        i = i+1\n",
    "\n",
    "    return(password)"
   ]
  },
  {
   "cell_type": "code",
   "execution_count": 103,
   "metadata": {},
   "outputs": [],
   "source": [
    "def main1():\n",
    "    final_pw = ''.join(makePassword1())\n",
    "    return(print(f'your password is {final_pw}'))"
   ]
  },
  {
   "cell_type": "code",
   "execution_count": 104,
   "metadata": {},
   "outputs": [
    {
     "name": "stdout",
     "output_type": "stream",
     "text": [
      "your password is +juvql\n"
     ]
    }
   ],
   "source": [
    "main1()"
   ]
  },
  {
   "cell_type": "markdown",
   "metadata": {},
   "source": [
    "I will now modify the functions so that the first character in the password is always a letter, and so that the program ensures valid user-supplied inputs:"
   ]
  },
  {
   "cell_type": "code",
   "execution_count": 107,
   "metadata": {},
   "outputs": [],
   "source": [
    "#get the length from the user, ensure valid input\n",
    "def getLength():\n",
    "    length = input('what do you want the length of the password to be: ')\n",
    "    if length.isdigit() and int(length) >= 3:\n",
    "        return (int(length))\n",
    "    else:\n",
    "        return(print('you must write a number larger than 3'))\n",
    "    "
   ]
  },
  {
   "cell_type": "code",
   "execution_count": 112,
   "metadata": {},
   "outputs": [],
   "source": [
    "def randomCharacter (sequence):\n",
    "    from random import randint\n",
    "    return(sequence[randint(0, len(sequence))])"
   ]
  },
  {
   "cell_type": "code",
   "execution_count": 2,
   "metadata": {},
   "outputs": [],
   "source": [
    "def makePassword ():\n",
    "\n",
    "    length = getLength()\n",
    "    password = list(randomCharacter('abcdefghijklmnopqrstuvwxyz'))\n",
    "    \n",
    "    for i in range(1, length):\n",
    "        password.insert(i, randomCharacter('abcdefghijklmnopqrstuvwxyz0123456789+-*/?!@#$%&'))\n",
    "        i = i+1\n",
    "\n",
    "    return(password)"
   ]
  },
  {
   "cell_type": "code",
   "execution_count": 117,
   "metadata": {},
   "outputs": [],
   "source": [
    "def main():\n",
    "    final_pw = ''.join(makePassword())\n",
    "    return(print(f'your password is {final_pw}'))"
   ]
  },
  {
   "cell_type": "code",
   "execution_count": 119,
   "metadata": {},
   "outputs": [
    {
     "name": "stdout",
     "output_type": "stream",
     "text": [
      "your password is m6ww1ls!\n"
     ]
    }
   ],
   "source": [
    "main()"
   ]
  }
 ],
 "metadata": {
  "kernelspec": {
   "display_name": "base",
   "language": "python",
   "name": "python3"
  },
  "language_info": {
   "codemirror_mode": {
    "name": "ipython",
    "version": 3
   },
   "file_extension": ".py",
   "mimetype": "text/x-python",
   "name": "python",
   "nbconvert_exporter": "python",
   "pygments_lexer": "ipython3",
   "version": "3.12.4"
  }
 },
 "nbformat": 4,
 "nbformat_minor": 2
}
