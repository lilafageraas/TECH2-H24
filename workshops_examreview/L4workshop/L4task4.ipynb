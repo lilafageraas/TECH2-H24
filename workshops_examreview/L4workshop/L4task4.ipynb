{
 "cells": [
  {
   "cell_type": "markdown",
   "metadata": {},
   "source": [
    "# Workshop Lecture 4, Exercise 4\n",
    "### Exercise 4 a)\n",
    "Create a function called randomCharacter that selects a random character from a sequence of characters:\n",
    "\n",
    "The function has one parameter:\n",
    "- sequence – a string containing characters\n",
    "\n",
    "Select a character at a random index in the sequence\n",
    "- Hint: use randint from random to draw a random index\n",
    "\n",
    "Return the random character\n",
    "\n",
    "Demonstrate the function by drawing a random character from the following sequences:\n",
    "- ‘abcdefghijklmnopqrstuvwxyz’\n",
    "- ‘0123456789’\n",
    "- ‘’ (empty string)\n"
   ]
  },
  {
   "cell_type": "code",
   "execution_count": 5,
   "metadata": {},
   "outputs": [],
   "source": [
    "from random import randint\n",
    "def randomCharacter(sequence):\n",
    "    if sequence == '':\n",
    "        print('the sequence is an empty string')\n",
    "    else:\n",
    "        return(f'your random choice is {sequence[randint(0, len(sequence))]}')"
   ]
  },
  {
   "cell_type": "code",
   "execution_count": 6,
   "metadata": {},
   "outputs": [
    {
     "data": {
      "text/plain": [
       "'your random choice is l'"
      ]
     },
     "execution_count": 6,
     "metadata": {},
     "output_type": "execute_result"
    }
   ],
   "source": [
    "sequence = 'abcdefghijklmnopqrstuvwxyz'\n",
    "randomCharacter(sequence)"
   ]
  },
  {
   "cell_type": "code",
   "execution_count": 7,
   "metadata": {},
   "outputs": [
    {
     "data": {
      "text/plain": [
       "'your random choice is 1'"
      ]
     },
     "execution_count": 7,
     "metadata": {},
     "output_type": "execute_result"
    }
   ],
   "source": [
    "sequence = '0123456789'\n",
    "randomCharacter(sequence)"
   ]
  },
  {
   "cell_type": "code",
   "execution_count": 8,
   "metadata": {},
   "outputs": [
    {
     "name": "stdout",
     "output_type": "stream",
     "text": [
      "the sequence is an empty string\n"
     ]
    }
   ],
   "source": [
    "sequence = ''\n",
    "randomCharacter(sequence)"
   ]
  },
  {
   "cell_type": "code",
   "execution_count": 17,
   "metadata": {},
   "outputs": [],
   "source": [
    "def randomCharacter (sequence):\n",
    "    from random import randint\n",
    "    return(sequence[randint(0, len(sequence))])"
   ]
  },
  {
   "cell_type": "code",
   "execution_count": 18,
   "metadata": {},
   "outputs": [
    {
     "data": {
      "text/plain": [
       "'z'"
      ]
     },
     "execution_count": 18,
     "metadata": {},
     "output_type": "execute_result"
    }
   ],
   "source": [
    "randomCharacter('abcdefghijklmnopqrstuvwxyz')"
   ]
  },
  {
   "cell_type": "code",
   "execution_count": 19,
   "metadata": {},
   "outputs": [
    {
     "data": {
      "text/plain": [
       "'1'"
      ]
     },
     "execution_count": 19,
     "metadata": {},
     "output_type": "execute_result"
    }
   ],
   "source": [
    "randomCharacter('0123456789')"
   ]
  },
  {
   "cell_type": "markdown",
   "metadata": {},
   "source": [
    "### Exercise 4 b)\n",
    "Write a program that generates a random password of minimum three characters. The program consists of four functions:\n",
    "\n",
    "- getLength – prompts the user for the length of the password\n",
    "- randomCharacter – selects a character at a random index from a sequence of characters\n",
    "- makePassword – generates a random password of a given length that consists of:\n",
    "    - Lowercase letters (abcdefghijklmnopqrstuvwxyz)\n",
    "    - A single digit (0-9) and symbol (+-*/?!@#$%&) placed at random locations in the password except for the first location\n",
    "        \n",
    "        Hint: use lst.insert(i, item) to insert item at index i in list lst.\n",
    "- main – calls the program and displays the password\n",
    "\n",
    "Design the program so that it ensures a valid user-supplied input, i.e., length must be an integer that is 3 or larger.\n"
   ]
  },
  {
   "cell_type": "markdown",
   "metadata": {},
   "source": [
    "firstly, let me make the functions so that they work, then i can add the details"
   ]
  },
  {
   "cell_type": "code",
   "execution_count": 86,
   "metadata": {},
   "outputs": [],
   "source": [
    "def getLenght():\n",
    "    while True:\n",
    "        length = input('write the length of the password: ')\n",
    "        if length.isdigit() == True:\n",
    "            length = int(length)\n",
    "            break\n",
    "        else:\n",
    "            print('you must write a number')\n",
    "    return(length)\n",
    "\n",
    "def randomCharacter(sequence):\n",
    "    from random import randint\n",
    "    code = []\n",
    "    i = randint(0, len(sequence)-1)\n",
    "    code =sequence[i]\n",
    "    \n",
    "    return(code)\n",
    "\n",
    "def makePassword():\n",
    "    length = getLenght()\n",
    "    code_letters = []\n",
    "    for x in range(length):\n",
    "        code_letters.append(randomCharacter('abcdefghijklmnopqrstuvwxyz'))\n",
    "    code_letters.insert(randint(1, length-1), randomCharacter('+-*/?!@#$%&'))\n",
    "    password = ''.join(code_letters)\n",
    "    return(password)\n",
    "    \n",
    "def main():\n",
    "    password = makePassword()\n",
    "    print(f'the password is {password}')\n"
   ]
  },
  {
   "cell_type": "code",
   "execution_count": 87,
   "metadata": {},
   "outputs": [
    {
     "name": "stdout",
     "output_type": "stream",
     "text": [
      "the password is w%tvkp\n"
     ]
    }
   ],
   "source": [
    "main()"
   ]
  },
  {
   "cell_type": "code",
   "execution_count": 100,
   "metadata": {},
   "outputs": [],
   "source": [
    "def getLength1():\n",
    "    length = input('what do you want the length of the password to be: ')\n",
    "    return (int(length))"
   ]
  },
  {
   "cell_type": "code",
   "execution_count": 101,
   "metadata": {},
   "outputs": [],
   "source": [
    "def randomCharacter1 (sequence):\n",
    "    from random import randint\n",
    "    return(sequence[randint(0, len(sequence))])"
   ]
  },
  {
   "cell_type": "code",
   "execution_count": 102,
   "metadata": {},
   "outputs": [],
   "source": [
    "def makePassword1 ():\n",
    "\n",
    "    length = getLength1()\n",
    "    password =[]\n",
    "    \n",
    "    for i in range(length):\n",
    "        password.insert(i, randomCharacter1('abcdefghijklmnopqrstuvwxyz0123456789+-*/?!@#$%&'))\n",
    "        i = i+1\n",
    "\n",
    "    return(password)"
   ]
  },
  {
   "cell_type": "code",
   "execution_count": 103,
   "metadata": {},
   "outputs": [],
   "source": [
    "def main1():\n",
    "    final_pw = ''.join(makePassword1())\n",
    "    return(print(f'your password is {final_pw}'))"
   ]
  },
  {
   "cell_type": "code",
   "execution_count": 104,
   "metadata": {},
   "outputs": [
    {
     "name": "stdout",
     "output_type": "stream",
     "text": [
      "your password is +juvql\n"
     ]
    }
   ],
   "source": [
    "main1()"
   ]
  },
  {
   "cell_type": "markdown",
   "metadata": {},
   "source": [
    "I will now modify the functions so that the first character in the password is always a letter, and so that the program ensures valid user-supplied inputs:"
   ]
  },
  {
   "cell_type": "code",
   "execution_count": 107,
   "metadata": {},
   "outputs": [],
   "source": [
    "#get the length from the user, ensure valid input\n",
    "def getLength():\n",
    "    length = input('what do you want the length of the password to be: ')\n",
    "    if length.isdigit() and int(length) >= 3:\n",
    "        return (int(length))\n",
    "    else:\n",
    "        return(print('you must write a number larger than 3'))\n",
    "    "
   ]
  },
  {
   "cell_type": "code",
   "execution_count": 112,
   "metadata": {},
   "outputs": [],
   "source": [
    "def randomCharacter (sequence):\n",
    "    from random import randint\n",
    "    return(sequence[randint(0, len(sequence))])"
   ]
  },
  {
   "cell_type": "code",
   "execution_count": 2,
   "metadata": {},
   "outputs": [],
   "source": [
    "def makePassword ():\n",
    "\n",
    "    length = getLength()\n",
    "    password = list(randomCharacter('abcdefghijklmnopqrstuvwxyz'))\n",
    "    \n",
    "    for i in range(1, length):\n",
    "        password.insert(i, randomCharacter('abcdefghijklmnopqrstuvwxyz0123456789+-*/?!@#$%&'))\n",
    "        i = i+1\n",
    "\n",
    "    return(password)"
   ]
  },
  {
   "cell_type": "code",
   "execution_count": 117,
   "metadata": {},
   "outputs": [],
   "source": [
    "def main():\n",
    "    final_pw = ''.join(makePassword())\n",
    "    return(print(f'your password is {final_pw}'))"
   ]
  },
  {
   "cell_type": "code",
   "execution_count": 119,
   "metadata": {},
   "outputs": [
    {
     "name": "stdout",
     "output_type": "stream",
     "text": [
      "your password is m6ww1ls!\n"
     ]
    }
   ],
   "source": [
    "main()"
   ]
  },
  {
   "cell_type": "markdown",
   "metadata": {},
   "source": [
    "solution"
   ]
  },
  {
   "cell_type": "code",
   "execution_count": 96,
   "metadata": {},
   "outputs": [],
   "source": [
    "def main():\n",
    "    #print intro\n",
    "    print('**************************************************')\n",
    "    print('*********** Password Generator Program ***********')\n",
    "    print('**************************************************')\n",
    "    print('This program generates a random password of lowercase letters with one digit and symbol')\n",
    "\n",
    "    #call getlength and store the user chosen length as l\n",
    "    l = getLenght()\n",
    "\n",
    "    #call makepassword and pass the argument l (from calling getlength)\n",
    "    pw = makePassword(l)\n",
    "\n",
    "    #print the password\n",
    "    print(f'generated password: {password}')\n",
    "\n",
    "def getLength():\n",
    "\n",
    "    #check that the user input is a numer greater than or equal to 3\n",
    "\n",
    "    #while True so that the loop runs until the input meets the condition in the if statement below\n",
    "    while True: \n",
    "        #try except to run code if it works (if the input is only digits and therefore can be converted to integers) and catch unexpected errors if not\n",
    "        try:\n",
    "            #store the user defined length as en integer in the variable length\n",
    "            length = int(input('\\nEnter the password length (minimum 3)'))\n",
    "\n",
    "            #check if the length is equal to or greater than 3\n",
    "            if length >= 3:\n",
    "                #the while loop does not need a break statement because the return statement end it (when valid input is received)\n",
    "                return length\n",
    "\n",
    "            #is the length is less than three, the message that it must be higher will be printed and the loop will restart to get valid input  \n",
    "            else:\n",
    "                print('password length must be at least 3. please try again: ')\n",
    "        # if converting the input to an integer and storing it as length causes an error, the except block will be executed. after the except block prints that the input must be an integer, the while loop starts again\n",
    "        except:\n",
    "            print('invalid input- please enter an integer')\n",
    "    \n",
    "\n",
    "def makePassword(length):\n",
    "    #check that the password length is greater than 3\n",
    "    if length < 3:\n",
    "        print('the password length must be greater than 3')\n",
    "    \n",
    "    else:\n",
    "        #initialize list to append in for loop (for password)\n",
    "        password_lst = []\n",
    "\n",
    "        #for generate a random  letter by calling randomCharacter and inserting the alphabet as the string from which to call a random letter\n",
    "        #add the random character from each iteration to the password using .append()\n",
    "        #do this length - 2 times because we will also add a digit and a symbol\n",
    "        for i in range(length-2):\n",
    "            letter = randomCharacter('abcdefghijklmnopqrstuvwxyz')\n",
    "            password_lst.append(letter)\n",
    "        \n",
    "        #draw a random digit and store it in the variable digit\n",
    "        digit = randomCharacter('0123456789')\n",
    "        #insert the digit in the password using .insert()\n",
    "        #we use the randint function to get a random index (insert(integer, sequence))\n",
    "        #remember to specify the boundaries for the random index (between 1 (because the first character at index 0 must remain a letter) and the length of the password)\n",
    "        #remember to specify the sequence from which the item (at the position of the random integer) is chosen\n",
    "        password_lst.insert(randint(1, len(password_lst)), digit)\n",
    "\n",
    "        #draw a random symbol and store it in the variable symbol\n",
    "        #do the same for the symbol\n",
    "        symbol = randomCharacter('+-*/?!@#$%&')\n",
    "        password_lst.insert(randint(1, len(password_lst)), symbol)\n",
    "        \n",
    "        # Use for loop to join all characters in list to a string...\n",
    "        password = ''\n",
    "        for char in password_lst:\n",
    "            password += char\n",
    "\n",
    "        return(password)\n",
    "\n"
   ]
  },
  {
   "cell_type": "code",
   "execution_count": 97,
   "metadata": {},
   "outputs": [
    {
     "name": "stdout",
     "output_type": "stream",
     "text": [
      "**************************************************\n",
      "*********** Password Generator Program ***********\n",
      "**************************************************\n",
      "This program generates a random password of lowercase letters with one digit and symbol\n",
      "generated password: ['o', '&', 'q', 'c', 'm']\n"
     ]
    }
   ],
   "source": [
    "main()"
   ]
  },
  {
   "cell_type": "code",
   "execution_count": null,
   "metadata": {},
   "outputs": [],
   "source": []
  }
 ],
 "metadata": {
  "kernelspec": {
   "display_name": "base",
   "language": "python",
   "name": "python3"
  },
  "language_info": {
   "codemirror_mode": {
    "name": "ipython",
    "version": 3
   },
   "file_extension": ".py",
   "mimetype": "text/x-python",
   "name": "python",
   "nbconvert_exporter": "python",
   "pygments_lexer": "ipython3",
   "version": "3.12.4"
  }
 },
 "nbformat": 4,
 "nbformat_minor": 2
}
