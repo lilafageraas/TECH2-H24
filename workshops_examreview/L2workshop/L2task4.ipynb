{
 "cells": [
  {
   "cell_type": "markdown",
   "metadata": {},
   "source": [
    "# Workshop Lecture 2, Exercse 4\n",
    "Modify the temperature-conversion program to also converts temperatures in Kelvin using the following formulas for conversion:\n",
    "- C = (5 / 9)*(F – 32)\n",
    "- K = (F – 32) * 5 / 9 + 273.15\n",
    "- F = (9 / 5) * C + 32\n",
    "- K = C + 273.15\n",
    "- F = (9 / 5 * (K – 273.15)) + 32\n",
    "- C = K – 273.15\n",
    "\n",
    "Write a program that:\n",
    "\n",
    "• Prompts the user for i) a temperature, ii) the scale to convert from (F, C or K) \n",
    "and iii) the scale to convert to (F, C or K)\n",
    "\n",
    "• For simplicity, you can ignore checking that the user- supplied inputs are valid\n",
    "\n",
    "• Display the conversion to the user\n"
   ]
  },
  {
   "cell_type": "code",
   "execution_count": 3,
   "metadata": {},
   "outputs": [
    {
     "name": "stdout",
     "output_type": "stream",
     "text": [
      "the temperature is 36 degrees celcius\n"
     ]
    }
   ],
   "source": [
    "convert_from = input('press \"F\" to convert a temperature from fahrenheit, \"C\" to convert a temperature from celcius, and \"K\" to convert a temperature from Kelvin: ')\n",
    "orig_temp = input('insert the original temperature: ')\n",
    "\n",
    "if orig_temp.isdigit():\n",
    "\n",
    "    if convert_from == 'F':         #convert from fahrenheit to celcius or kelvin\n",
    "        convert_to = input('press \"C\" to convert to celcius and \"K\" to convert to Kelvin: ')\n",
    "\n",
    "        if convert_to == 'C':       #F to C\n",
    "            print(f'the temperature is {int((int(orig_temp)-32)*(5/9))} degrees celcius')\n",
    "\n",
    "        elif convert_to == 'K':     #F to K\n",
    "            print(f'the temperature is {int(int((orig_temp)-32)*(5/9)+273)}')\n",
    "\n",
    "        else:                       #incorrect input\n",
    "            print('you must choose either \"C\" or \"K\" when converting from fahrenheit')\n",
    "\n",
    "    elif convert_from == 'C':       #convert from celcius to fahrenheit or kelvin\n",
    "        convert_to = input('press \"F\" to convert to fahrenheit and \"K\" to convert to Kelvin: ')\n",
    "\n",
    "        if convert_to == 'F':       #C to F\n",
    "            print(f'the temperature is {int(int(orig_temp)*(9/5)+32)} degrees fahrenheit')\n",
    "\n",
    "        elif convert_to == 'K':     #C to K\n",
    "            print(f'the temperature is {int(int(orig_temp)+273)}')\n",
    "            \n",
    "        else:                       #incorrect input\n",
    "            print('you must choose either \"F\" or \"K\" when converting from celcius')\n",
    "\n",
    "    elif convert_from == 'K':       #convert from kelvin to fahrenheit or celcius\n",
    "        convert_to = input('press \"F\" to convert to fahrenheit and \"C\" to convert to celcius: ')\n",
    "\n",
    "        if convert_to == 'F':       #K to F\n",
    "            print(f'the temperature is {int((int(orig_temp)-273)*(9/5)+32)} degrees fahrenheit')\n",
    "\n",
    "        elif convert_to == 'C':     #K to C\n",
    "            print(f'the temperature is {int(int(orig_temp)-273)} degrees celcius')\n",
    "\n",
    "        else:                       #incorrect input\n",
    "            print('you must choose either \"F\" or \"C\" when converting from Kelvin: ')\n",
    "\n",
    "    else:                           #incorrect input\n",
    "        print('you must insert \"F\", \"C\" or \"K\"')\n",
    "\n",
    "else:                               #incorrect input\n",
    "    print('the temperature must be witten as a number')"
   ]
  }
 ],
 "metadata": {
  "kernelspec": {
   "display_name": "base",
   "language": "python",
   "name": "python3"
  },
  "language_info": {
   "codemirror_mode": {
    "name": "ipython",
    "version": 3
   },
   "file_extension": ".py",
   "mimetype": "text/x-python",
   "name": "python",
   "nbconvert_exporter": "python",
   "pygments_lexer": "ipython3",
   "version": "3.12.4"
  }
 },
 "nbformat": 4,
 "nbformat_minor": 2
}
