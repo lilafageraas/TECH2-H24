{
 "cells": [
  {
   "cell_type": "markdown",
   "metadata": {},
   "source": [
    "# Workshop Lecture 2, Exercise 3:\n",
    "Modify the temperature conversion program from last week (exercise 4) to allow the user choose whether to convert temperatures from Celsius or Fahrenheit:\n",
    "\n",
    "• Prompt the user for the selected conversion and the temperature to convert, e.g.: Press “F” to select F->C or “C” to select C->F\n",
    "\n",
    "• Check that the user-supplied inputs are valid\n",
    "\n",
    "- Selected “F” or “C”\n",
    "- Temperature is a number\n",
    "\n",
    "• Convert the temperature using the following formulas:\n",
    "- C = (5 / 9)*(F – 32)\n",
    "- F = (9 / 5) * C + 32\n",
    "\n",
    "• Display the conversion to the user"
   ]
  },
  {
   "cell_type": "code",
   "execution_count": null,
   "metadata": {},
   "outputs": [],
   "source": [
    "tempF = input('input temperature (in Fahrenheit): ')\n",
    "print(f'the temperature is equal to {int((int(tempF)-32)*(5/9))} degrees celcius')"
   ]
  },
  {
   "cell_type": "code",
   "execution_count": 3,
   "metadata": {},
   "outputs": [
    {
     "name": "stdout",
     "output_type": "stream",
     "text": [
      "the temperature is equal to 17 degrees celcius\n"
     ]
    }
   ],
   "source": [
    "convert_from = input('press \"F\" to convert a temperature in fahrenheit to celcius and \"C\" to convert a temperature in celcius to fahrenheit: ')\n",
    "orig_temp = input('insert the temperature you want to conver: ')\n",
    "if convert_from in ['C', 'F']:\n",
    "    if orig_temp.isdigit():\n",
    "        if convert_from == 'F':\n",
    "            print(f'the temperature is equal to {int(int(orig_temp)*(5/9)-32)} degrees celcius')\n",
    "        else:\n",
    "            print(f'the temperature is equal to {int(int(orig_temp)*(9/5)+32)} degrees fahrenheit')\n",
    "    else: print('the temperature must be a number')\n",
    "else:\n",
    "    print('you must press either \"F\" or \"C\"')"
   ]
  }
 ],
 "metadata": {
  "kernelspec": {
   "display_name": "base",
   "language": "python",
   "name": "python3"
  },
  "language_info": {
   "codemirror_mode": {
    "name": "ipython",
    "version": 3
   },
   "file_extension": ".py",
   "mimetype": "text/x-python",
   "name": "python",
   "nbconvert_exporter": "python",
   "pygments_lexer": "ipython3",
   "version": "3.12.4"
  }
 },
 "nbformat": 4,
 "nbformat_minor": 2
}
