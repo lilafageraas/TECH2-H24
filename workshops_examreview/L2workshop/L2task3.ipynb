{
 "cells": [
  {
   "cell_type": "markdown",
   "metadata": {},
   "source": [
    "# Workshop Lecture 2, Exercise 3:\n",
    "Modify the temperature conversion program from last week (exercise 4) to allow the user choose whether to convert temperatures from Celsius or Fahrenheit:\n",
    "\n",
    "• Prompt the user for the selected conversion and the temperature to convert, e.g.: Press “F” to select F->C or “C” to select C->F\n",
    "\n",
    "• Check that the user-supplied inputs are valid\n",
    "\n",
    "- Selected “F” or “C”\n",
    "- Temperature is a number\n",
    "\n",
    "• Convert the temperature using the following formulas:\n",
    "- C = (5 / 9)*(F – 32)\n",
    "- F = (9 / 5) * C + 32\n",
    "\n",
    "• Display the conversion to the user"
   ]
  },
  {
   "cell_type": "code",
   "execution_count": null,
   "metadata": {},
   "outputs": [],
   "source": [
    "tempF = input('input temperature (in Fahrenheit): ')\n",
    "print(f'the temperature is equal to {int((int(tempF)-32)*(5/9))} degrees celcius')"
   ]
  },
  {
   "cell_type": "code",
   "execution_count": 3,
   "metadata": {},
   "outputs": [
    {
     "name": "stdout",
     "output_type": "stream",
     "text": [
      "the temperature is equal to 17 degrees celcius\n"
     ]
    }
   ],
   "source": [
    "convert_from = input('press \"F\" to convert a temperature in fahrenheit to celcius and \"C\" to convert a temperature in celcius to fahrenheit: ')\n",
    "orig_temp = input('insert the temperature you want to conver: ')\n",
    "if convert_from in ['C', 'F']:\n",
    "    if orig_temp.isdigit():\n",
    "        if convert_from == 'F':\n",
    "            print(f'the temperature is equal to {int(int(orig_temp)*(5/9)-32)} degrees celcius')\n",
    "        else:\n",
    "            print(f'the temperature is equal to {int(int(orig_temp)*(9/5)+32)} degrees fahrenheit')\n",
    "    else: print('the temperature must be a number')\n",
    "else:\n",
    "    print('you must press either \"F\" or \"C\"')"
   ]
  },
  {
   "cell_type": "markdown",
   "metadata": {},
   "source": [
    "my lecturer used .upper() so that it works even if you type lower case or c or f. again, she converts string input to numerical data before calculations for consistency"
   ]
  },
  {
   "cell_type": "code",
   "execution_count": null,
   "metadata": {},
   "outputs": [],
   "source": [
    "print('This program will convert temperatures (Fahrenheit/Celsius)')\n",
    "print('Enter \"F\" to convert from Fahrenheit to Celsius')\n",
    "print('Enter \"C\" to convert from Celsius to Fahrenheit\\n')\n",
    "\n",
    "# Prompt user for selection\n",
    "choice = input('Enter selection: ')\n",
    "\n",
    "# Check that selection is valid\n",
    "if choice.upper() in ('F', 'C'):\n",
    "    \n",
    "    # Prompt user for temperature\n",
    "    temp = input('Enter temperature to convert: ')\n",
    "\n",
    "    # Check that temperature is a number\n",
    "    try:\n",
    "        # Convert temperature to float\n",
    "        temp = float(temp)   \n",
    "        \n",
    "        # Convert Fahrenheit -> Celsius\n",
    "        if choice.upper() == 'F':\n",
    "            converted_temp = (temp - 32) * 5 / 9\n",
    "            print(f'\\n{temp} degrees Fahrenheit equals {converted_temp:.1f} degrees Celsius.')\n",
    "\n",
    "        # Convert Celsius -> Fahrenheit\n",
    "        else:\n",
    "            converted_temp = (9 / 5) * temp + 32\n",
    "            print(f'\\n{temp} degrees Celsius equals {converted_temp:.1f} degrees Fahrenheit.')\n",
    "        \n",
    "    # Print that temperature is not a number\n",
    "    except:\n",
    "        print('\\nINVALID INPUT')\n",
    "        print('Temperature must be a number')\n",
    "    \n",
    "# Print that selection is invalid\n",
    "else:\n",
    "    print('\\nINVALID INPUT')\n",
    "    print('You must select \"F\" or \"C\"')"
   ]
  },
  {
   "cell_type": "code",
   "execution_count": null,
   "metadata": {},
   "outputs": [],
   "source": []
  }
 ],
 "metadata": {
  "kernelspec": {
   "display_name": "base",
   "language": "python",
   "name": "python3"
  },
  "language_info": {
   "codemirror_mode": {
    "name": "ipython",
    "version": 3
   },
   "file_extension": ".py",
   "mimetype": "text/x-python",
   "name": "python",
   "nbconvert_exporter": "python",
   "pygments_lexer": "ipython3",
   "version": "3.12.4"
  }
 },
 "nbformat": 4,
 "nbformat_minor": 2
}
