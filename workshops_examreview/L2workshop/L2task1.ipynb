{
 "cells": [
  {
   "cell_type": "markdown",
   "metadata": {},
   "source": [
    "# Workshop Lecture 2, Exercise 1\n",
    "Modify the random number generator from last week (exercise 3) to check that user-supplied inputs are valid:\n",
    "\n",
    "• Prompt the user for a lower and upper bound\n",
    "\n",
    "• Check that the inputs are valid:\n",
    "\n",
    "- Bounds are integer values (hint: isdigit function)\n",
    "- Upper bound is higher than lower bound\n",
    "\n",
    "• Draw and display the random number to the user\n"
   ]
  },
  {
   "cell_type": "code",
   "execution_count": 9,
   "metadata": {},
   "outputs": [
    {
     "name": "stdout",
     "output_type": "stream",
     "text": [
      "your random number is 12\n"
     ]
    }
   ],
   "source": [
    "lower_bound = input('please insert the lower bond: ')\n",
    "upper_bound = input('please insert the upper bond: ')\n",
    "from random import randint\n",
    "if upper_bound.isdigit() and lower_bound.isdigit():\n",
    "    if int(upper_bound) > int(lower_bound):\n",
    "        random_number = randint(int(lower_bound), int(upper_bound))\n",
    "        print(f'your random number is {random_number}')\n",
    "else:\n",
    "    print('you must insert numbers only, and the upper bound must be greater than the lower bound')"
   ]
  }
 ],
 "metadata": {
  "kernelspec": {
   "display_name": "base",
   "language": "python",
   "name": "python3"
  },
  "language_info": {
   "codemirror_mode": {
    "name": "ipython",
    "version": 3
   },
   "file_extension": ".py",
   "mimetype": "text/x-python",
   "name": "python",
   "nbconvert_exporter": "python",
   "pygments_lexer": "ipython3",
   "version": "3.12.4"
  }
 },
 "nbformat": 4,
 "nbformat_minor": 2
}
