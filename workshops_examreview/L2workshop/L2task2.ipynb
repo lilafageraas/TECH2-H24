{
 "cells": [
  {
   "cell_type": "markdown",
   "metadata": {},
   "source": [
    "# Workshop Lecture 2, Exercise 2\n",
    "The prisoner’s dilemma is a common example used in game theory. One example of the game is illustrated in the table below.\n",
    "| Prisoner                        | Prisioner A stays silent | Prisoner B betrays  |\n",
    "| :-----------------------------: | :----------------------: | :-----------------: |\n",
    "| Prisioner A stays silent        |   Both: 1 year           | A: 3 years, B: free |\n",
    "| Prisoner A betrays              |   A: free, B 3 years     | both: 2 years       |\n",
    "\n",
    "Write a program that implements the game:\n",
    "\n",
    "- Prompt the inputs from prisoner A and B (stay silent or\n",
    "confess) and check that inputs are valid, e.g.: Press “1” to stay silent or “2” to confess\n",
    "- Display the outcome of the game, i.e., prison sentences of\n",
    "prisoner A and B "
   ]
  },
  {
   "cell_type": "code",
   "execution_count": 8,
   "metadata": {},
   "outputs": [
    {
     "name": "stdout",
     "output_type": "stream",
     "text": [
      "prisoner A will serve 3 years, prisoner B goes free\n"
     ]
    }
   ],
   "source": [
    "prisonerA = input('prisoner A, press \"1\" to stay silent and \"2\" to confess: ')\n",
    "prisonerB = input('prisoner B, press \"1\" to stay silent and \"2\" to confess: ')\n",
    "if prisonerA in ['1', '2'] and prisonerB in ['1', '2']:\n",
    "    if prisonerA == '1' and prisonerB == '1':\n",
    "        print('you will both serve 1 year')\n",
    "    elif prisonerA == '1' and prisonerB == '2':\n",
    "        print('prisoner A will serve 3 years, prisoner B goes free')\n",
    "    elif prisonerA == '2' and prisonerB == '1':\n",
    "        print('prisoner A goes free, prisoner B will serve 3 years')\n",
    "    elif prisonerA == '2' and prisonerB == '2':\n",
    "        print('you will both serve 2 years')\n",
    "else:\n",
    "    print('you need to insert either \"1\" or \"2\"')"
   ]
  },
  {
   "cell_type": "markdown",
   "metadata": {},
   "source": [
    "my lecturer used a dictionary instead! more efficient I think"
   ]
  },
  {
   "cell_type": "code",
   "execution_count": null,
   "metadata": {},
   "outputs": [],
   "source": [
    "\"\"\"\n",
    "Created on Mon Aug  5 13:06:04 2024\n",
    "\n",
    "@author: s14754\n",
    "\"\"\"\n",
    "\n",
    "# Dict that maps numbers to choices\n",
    "d = {\n",
    "     '1' : 'confess',\n",
    "     '2' : 'stay silent'\n",
    "     }\n",
    "\n",
    "\n",
    "# Print welcome message\n",
    "print('**********************************')\n",
    "print(\"Welcome to the Prisoner's Dilemma.\")\n",
    "print('**********************************')\n",
    "\n",
    "# Prompt user for inputs\n",
    "choiceA = input('\\nPrisoner A, you are up.\\nPress 1 for \"confess\", press 2 for \"stay silent\": ')\n",
    "choiceB = input('\\nPrisoner B, you are up.\\nPress 1 for \"confess\", press 2 for \"stay silent\": ')\n",
    "\n",
    "# Check that choices are valid\n",
    "if choiceA in d.keys() and choiceB in d.keys():\n",
    "    \n",
    "    # Print choices using dict\n",
    "    print(f'\\nPrisoner A chose to {d[choiceA]} and prisoner B chose to {d[choiceB]}.\\n')\n",
    "\n",
    "    if choiceA == '1' and choiceB == '1':\n",
    "        print('You both get 2 years.')\n",
    "        \n",
    "    elif choiceA == '1' and choiceB == '2':\n",
    "        print('Prisoner A gets 3 years, prisoner B goes free.')\n",
    "        \n",
    "    elif choiceA == '2' and choiceB == '1':\n",
    "        print('Prisoner A goes free, prisoner B gets 3 years.')\n",
    "    \n",
    "    elif choiceA == '2' and choiceB == '2':\n",
    "        print('You both get 1 year.')\n",
    "   \n",
    "# Print that choices are invalid\n",
    "else:\n",
    "    print('\\nInvalid inputs!')\n",
    "    print('You can only press \"1\" or \"2\"')"
   ]
  }
 ],
 "metadata": {
  "kernelspec": {
   "display_name": "base",
   "language": "python",
   "name": "python3"
  },
  "language_info": {
   "codemirror_mode": {
    "name": "ipython",
    "version": 3
   },
   "file_extension": ".py",
   "mimetype": "text/x-python",
   "name": "python",
   "nbconvert_exporter": "python",
   "pygments_lexer": "ipython3",
   "version": "3.12.4"
  }
 },
 "nbformat": 4,
 "nbformat_minor": 2
}
